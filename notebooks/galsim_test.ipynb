{
 "cells": [
  {
   "cell_type": "code",
   "execution_count": 60,
   "metadata": {},
   "outputs": [
    {
     "name": "stdout",
     "output_type": "stream",
     "text": [
      "The autoreload extension is already loaded. To reload it, use:\n",
      "  %reload_ext autoreload\n"
     ]
    }
   ],
   "source": [
    "%load_ext autoreload\n",
    "%autoreload 2\n",
    "\n",
    "import galsim\n",
    "import numpy as np\n",
    "from tqdm import trange, tqdm\n",
    "import matplotlib.pyplot as plt\n",
    "import pickle"
   ]
  },
  {
   "cell_type": "code",
   "execution_count": 5,
   "metadata": {},
   "outputs": [],
   "source": [
    "import sys\n",
    "sys.path.append(\n",
    "    \"/data/groups/jeltema/zhou/lsst_shear/WeakLensingDeblending/bin\"\n",
    ")"
   ]
  },
  {
   "cell_type": "code",
   "execution_count": 6,
   "metadata": {},
   "outputs": [],
   "source": [
    "import mdet_meas_tools as mmt\n",
    "from sim_func import sim_func\n",
    "import galsim\n",
    "import numpy as np\n",
    "import pandas as pd\n",
    "plt.style.use(\"MNRAS\")"
   ]
  },
  {
   "cell_type": "code",
   "execution_count": 15,
   "metadata": {},
   "outputs": [],
   "source": [
    "dc2_sub = pd.read_pickle(\"../data/dc2_sub.pkl\")"
   ]
  },
  {
   "cell_type": "code",
   "execution_count": 19,
   "metadata": {},
   "outputs": [
    {
     "data": {
      "text/html": [
       "<div>\n",
       "<style scoped>\n",
       "    .dataframe tbody tr th:only-of-type {\n",
       "        vertical-align: middle;\n",
       "    }\n",
       "\n",
       "    .dataframe tbody tr th {\n",
       "        vertical-align: top;\n",
       "    }\n",
       "\n",
       "    .dataframe thead th {\n",
       "        text-align: right;\n",
       "    }\n",
       "</style>\n",
       "<table border=\"1\" class=\"dataframe\">\n",
       "  <thead>\n",
       "    <tr style=\"text-align: right;\">\n",
       "      <th></th>\n",
       "      <th>ra</th>\n",
       "      <th>dec</th>\n",
       "      <th>g_ab</th>\n",
       "      <th>r_ab</th>\n",
       "      <th>i_ab</th>\n",
       "      <th>z_ab</th>\n",
       "      <th>fluxnorm_bulge</th>\n",
       "      <th>fluxnorm_disk</th>\n",
       "      <th>fluxnorm_agn</th>\n",
       "      <th>pa_disk</th>\n",
       "      <th>...</th>\n",
       "      <th>a_d</th>\n",
       "      <th>b_d</th>\n",
       "      <th>a_b</th>\n",
       "      <th>b_b</th>\n",
       "      <th>redshift</th>\n",
       "      <th>halo_mass</th>\n",
       "      <th>halo_id</th>\n",
       "      <th>stellar_mass</th>\n",
       "      <th>log_mass</th>\n",
       "      <th>mass_bin</th>\n",
       "    </tr>\n",
       "    <tr>\n",
       "      <th>galtileid</th>\n",
       "      <th></th>\n",
       "      <th></th>\n",
       "      <th></th>\n",
       "      <th></th>\n",
       "      <th></th>\n",
       "      <th></th>\n",
       "      <th></th>\n",
       "      <th></th>\n",
       "      <th></th>\n",
       "      <th></th>\n",
       "      <th></th>\n",
       "      <th></th>\n",
       "      <th></th>\n",
       "      <th></th>\n",
       "      <th></th>\n",
       "      <th></th>\n",
       "      <th></th>\n",
       "      <th></th>\n",
       "      <th></th>\n",
       "      <th></th>\n",
       "      <th></th>\n",
       "    </tr>\n",
       "  </thead>\n",
       "  <tbody>\n",
       "    <tr>\n",
       "      <th>9687500004</th>\n",
       "      <td>61.869596</td>\n",
       "      <td>-40.907121</td>\n",
       "      <td>14.888106</td>\n",
       "      <td>14.139737</td>\n",
       "      <td>13.786592</td>\n",
       "      <td>13.539910</td>\n",
       "      <td>0.992869</td>\n",
       "      <td>0.007131</td>\n",
       "      <td>0.0</td>\n",
       "      <td>-94.425529</td>\n",
       "      <td>...</td>\n",
       "      <td>13.089191</td>\n",
       "      <td>5.745582</td>\n",
       "      <td>6.417689</td>\n",
       "      <td>5.544625</td>\n",
       "      <td>0.021334</td>\n",
       "      <td>1.206931e+13</td>\n",
       "      <td>400155487</td>\n",
       "      <td>2.895573e+10</td>\n",
       "      <td>13.081683</td>\n",
       "      <td>(13, 25]</td>\n",
       "    </tr>\n",
       "    <tr>\n",
       "      <th>9687500006</th>\n",
       "      <td>61.752070</td>\n",
       "      <td>-40.920467</td>\n",
       "      <td>20.176435</td>\n",
       "      <td>19.705341</td>\n",
       "      <td>19.467945</td>\n",
       "      <td>19.363020</td>\n",
       "      <td>0.473895</td>\n",
       "      <td>0.526105</td>\n",
       "      <td>0.0</td>\n",
       "      <td>-112.666656</td>\n",
       "      <td>...</td>\n",
       "      <td>2.395142</td>\n",
       "      <td>1.823457</td>\n",
       "      <td>1.072245</td>\n",
       "      <td>1.015367</td>\n",
       "      <td>0.018951</td>\n",
       "      <td>1.206931e+13</td>\n",
       "      <td>400155487</td>\n",
       "      <td>1.594001e+07</td>\n",
       "      <td>13.081683</td>\n",
       "      <td>(13, 25]</td>\n",
       "    </tr>\n",
       "    <tr>\n",
       "      <th>9687500077</th>\n",
       "      <td>61.602109</td>\n",
       "      <td>-40.158534</td>\n",
       "      <td>15.049003</td>\n",
       "      <td>14.536696</td>\n",
       "      <td>14.203719</td>\n",
       "      <td>13.929540</td>\n",
       "      <td>0.683091</td>\n",
       "      <td>0.316909</td>\n",
       "      <td>0.0</td>\n",
       "      <td>-66.207359</td>\n",
       "      <td>...</td>\n",
       "      <td>14.008840</td>\n",
       "      <td>13.448575</td>\n",
       "      <td>10.033951</td>\n",
       "      <td>9.891587</td>\n",
       "      <td>0.044270</td>\n",
       "      <td>2.790155e+12</td>\n",
       "      <td>600155475</td>\n",
       "      <td>1.298029e+11</td>\n",
       "      <td>12.445628</td>\n",
       "      <td>(12, 13]</td>\n",
       "    </tr>\n",
       "    <tr>\n",
       "      <th>9687500089</th>\n",
       "      <td>61.563942</td>\n",
       "      <td>-40.142509</td>\n",
       "      <td>19.258326</td>\n",
       "      <td>18.621061</td>\n",
       "      <td>18.327494</td>\n",
       "      <td>18.182968</td>\n",
       "      <td>0.159222</td>\n",
       "      <td>0.840778</td>\n",
       "      <td>0.0</td>\n",
       "      <td>-99.642601</td>\n",
       "      <td>...</td>\n",
       "      <td>1.141292</td>\n",
       "      <td>0.779305</td>\n",
       "      <td>0.629889</td>\n",
       "      <td>0.570911</td>\n",
       "      <td>0.044722</td>\n",
       "      <td>2.004116e+11</td>\n",
       "      <td>1800155475</td>\n",
       "      <td>6.522099e+08</td>\n",
       "      <td>11.301923</td>\n",
       "      <td>(11, 12]</td>\n",
       "    </tr>\n",
       "    <tr>\n",
       "      <th>9687500093</th>\n",
       "      <td>61.242677</td>\n",
       "      <td>-40.040173</td>\n",
       "      <td>21.198835</td>\n",
       "      <td>20.688829</td>\n",
       "      <td>20.429756</td>\n",
       "      <td>20.310623</td>\n",
       "      <td>0.496790</td>\n",
       "      <td>0.503210</td>\n",
       "      <td>0.0</td>\n",
       "      <td>-1.178893</td>\n",
       "      <td>...</td>\n",
       "      <td>3.202859</td>\n",
       "      <td>2.226471</td>\n",
       "      <td>1.168153</td>\n",
       "      <td>1.151010</td>\n",
       "      <td>0.026818</td>\n",
       "      <td>5.465768e+10</td>\n",
       "      <td>2100155475</td>\n",
       "      <td>8.996860e+06</td>\n",
       "      <td>10.737651</td>\n",
       "      <td>(0, 11]</td>\n",
       "    </tr>\n",
       "    <tr>\n",
       "      <th>...</th>\n",
       "      <td>...</td>\n",
       "      <td>...</td>\n",
       "      <td>...</td>\n",
       "      <td>...</td>\n",
       "      <td>...</td>\n",
       "      <td>...</td>\n",
       "      <td>...</td>\n",
       "      <td>...</td>\n",
       "      <td>...</td>\n",
       "      <td>...</td>\n",
       "      <td>...</td>\n",
       "      <td>...</td>\n",
       "      <td>...</td>\n",
       "      <td>...</td>\n",
       "      <td>...</td>\n",
       "      <td>...</td>\n",
       "      <td>...</td>\n",
       "      <td>...</td>\n",
       "      <td>...</td>\n",
       "      <td>...</td>\n",
       "      <td>...</td>\n",
       "    </tr>\n",
       "    <tr>\n",
       "      <th>8957669860</th>\n",
       "      <td>65.471006</td>\n",
       "      <td>-38.229522</td>\n",
       "      <td>26.523321</td>\n",
       "      <td>25.817144</td>\n",
       "      <td>25.748289</td>\n",
       "      <td>25.876873</td>\n",
       "      <td>0.585761</td>\n",
       "      <td>0.414239</td>\n",
       "      <td>0.0</td>\n",
       "      <td>-34.187843</td>\n",
       "      <td>...</td>\n",
       "      <td>0.337973</td>\n",
       "      <td>0.157151</td>\n",
       "      <td>0.215209</td>\n",
       "      <td>0.181853</td>\n",
       "      <td>3.039532</td>\n",
       "      <td>2.293021e+12</td>\n",
       "      <td>5367200143121</td>\n",
       "      <td>2.196984e+10</td>\n",
       "      <td>12.360408</td>\n",
       "      <td>(12, 13]</td>\n",
       "    </tr>\n",
       "    <tr>\n",
       "      <th>8957671451</th>\n",
       "      <td>65.627628</td>\n",
       "      <td>-38.545471</td>\n",
       "      <td>25.124561</td>\n",
       "      <td>24.841473</td>\n",
       "      <td>24.915699</td>\n",
       "      <td>25.098455</td>\n",
       "      <td>0.895839</td>\n",
       "      <td>0.104161</td>\n",
       "      <td>0.0</td>\n",
       "      <td>-130.874725</td>\n",
       "      <td>...</td>\n",
       "      <td>0.246556</td>\n",
       "      <td>0.104097</td>\n",
       "      <td>0.170030</td>\n",
       "      <td>0.115582</td>\n",
       "      <td>2.954431</td>\n",
       "      <td>1.696981e+12</td>\n",
       "      <td>5500500143121</td>\n",
       "      <td>1.604073e+10</td>\n",
       "      <td>12.229677</td>\n",
       "      <td>(12, 13]</td>\n",
       "    </tr>\n",
       "    <tr>\n",
       "      <th>8957671452</th>\n",
       "      <td>65.628275</td>\n",
       "      <td>-38.545006</td>\n",
       "      <td>25.308268</td>\n",
       "      <td>25.233334</td>\n",
       "      <td>25.282591</td>\n",
       "      <td>25.362284</td>\n",
       "      <td>0.999923</td>\n",
       "      <td>0.000077</td>\n",
       "      <td>0.0</td>\n",
       "      <td>-8.493876</td>\n",
       "      <td>...</td>\n",
       "      <td>0.126423</td>\n",
       "      <td>0.061037</td>\n",
       "      <td>0.071804</td>\n",
       "      <td>0.045215</td>\n",
       "      <td>2.955377</td>\n",
       "      <td>1.696981e+12</td>\n",
       "      <td>5500500143121</td>\n",
       "      <td>1.021448e+09</td>\n",
       "      <td>12.229677</td>\n",
       "      <td>(12, 13]</td>\n",
       "    </tr>\n",
       "    <tr>\n",
       "      <th>8957672566</th>\n",
       "      <td>66.375632</td>\n",
       "      <td>-37.890808</td>\n",
       "      <td>25.123482</td>\n",
       "      <td>24.748220</td>\n",
       "      <td>24.751898</td>\n",
       "      <td>24.798550</td>\n",
       "      <td>0.950982</td>\n",
       "      <td>0.049018</td>\n",
       "      <td>0.0</td>\n",
       "      <td>-63.270996</td>\n",
       "      <td>...</td>\n",
       "      <td>0.181627</td>\n",
       "      <td>0.117549</td>\n",
       "      <td>0.125999</td>\n",
       "      <td>0.117354</td>\n",
       "      <td>2.976785</td>\n",
       "      <td>2.576725e+12</td>\n",
       "      <td>5597700143121</td>\n",
       "      <td>1.659310e+10</td>\n",
       "      <td>12.411068</td>\n",
       "      <td>(12, 13]</td>\n",
       "    </tr>\n",
       "    <tr>\n",
       "      <th>8957676023</th>\n",
       "      <td>65.655734</td>\n",
       "      <td>-38.493700</td>\n",
       "      <td>24.171705</td>\n",
       "      <td>23.902714</td>\n",
       "      <td>23.818708</td>\n",
       "      <td>23.792788</td>\n",
       "      <td>1.000000</td>\n",
       "      <td>0.000000</td>\n",
       "      <td>0.0</td>\n",
       "      <td>-139.660248</td>\n",
       "      <td>...</td>\n",
       "      <td>0.721029</td>\n",
       "      <td>0.613217</td>\n",
       "      <td>0.601621</td>\n",
       "      <td>0.599036</td>\n",
       "      <td>3.012960</td>\n",
       "      <td>3.000981e+12</td>\n",
       "      <td>5880700143121</td>\n",
       "      <td>2.657998e+11</td>\n",
       "      <td>12.477263</td>\n",
       "      <td>(12, 13]</td>\n",
       "    </tr>\n",
       "  </tbody>\n",
       "</table>\n",
       "<p>634065 rows × 21 columns</p>\n",
       "</div>"
      ],
      "text/plain": [
       "                   ra        dec       g_ab       r_ab       i_ab       z_ab  \\\n",
       "galtileid                                                                      \n",
       "9687500004  61.869596 -40.907121  14.888106  14.139737  13.786592  13.539910   \n",
       "9687500006  61.752070 -40.920467  20.176435  19.705341  19.467945  19.363020   \n",
       "9687500077  61.602109 -40.158534  15.049003  14.536696  14.203719  13.929540   \n",
       "9687500089  61.563942 -40.142509  19.258326  18.621061  18.327494  18.182968   \n",
       "9687500093  61.242677 -40.040173  21.198835  20.688829  20.429756  20.310623   \n",
       "...               ...        ...        ...        ...        ...        ...   \n",
       "8957669860  65.471006 -38.229522  26.523321  25.817144  25.748289  25.876873   \n",
       "8957671451  65.627628 -38.545471  25.124561  24.841473  24.915699  25.098455   \n",
       "8957671452  65.628275 -38.545006  25.308268  25.233334  25.282591  25.362284   \n",
       "8957672566  66.375632 -37.890808  25.123482  24.748220  24.751898  24.798550   \n",
       "8957676023  65.655734 -38.493700  24.171705  23.902714  23.818708  23.792788   \n",
       "\n",
       "            fluxnorm_bulge  fluxnorm_disk  fluxnorm_agn     pa_disk  ...  \\\n",
       "galtileid                                                            ...   \n",
       "9687500004        0.992869       0.007131           0.0  -94.425529  ...   \n",
       "9687500006        0.473895       0.526105           0.0 -112.666656  ...   \n",
       "9687500077        0.683091       0.316909           0.0  -66.207359  ...   \n",
       "9687500089        0.159222       0.840778           0.0  -99.642601  ...   \n",
       "9687500093        0.496790       0.503210           0.0   -1.178893  ...   \n",
       "...                    ...            ...           ...         ...  ...   \n",
       "8957669860        0.585761       0.414239           0.0  -34.187843  ...   \n",
       "8957671451        0.895839       0.104161           0.0 -130.874725  ...   \n",
       "8957671452        0.999923       0.000077           0.0   -8.493876  ...   \n",
       "8957672566        0.950982       0.049018           0.0  -63.270996  ...   \n",
       "8957676023        1.000000       0.000000           0.0 -139.660248  ...   \n",
       "\n",
       "                  a_d        b_d        a_b       b_b  redshift     halo_mass  \\\n",
       "galtileid                                                                       \n",
       "9687500004  13.089191   5.745582   6.417689  5.544625  0.021334  1.206931e+13   \n",
       "9687500006   2.395142   1.823457   1.072245  1.015367  0.018951  1.206931e+13   \n",
       "9687500077  14.008840  13.448575  10.033951  9.891587  0.044270  2.790155e+12   \n",
       "9687500089   1.141292   0.779305   0.629889  0.570911  0.044722  2.004116e+11   \n",
       "9687500093   3.202859   2.226471   1.168153  1.151010  0.026818  5.465768e+10   \n",
       "...               ...        ...        ...       ...       ...           ...   \n",
       "8957669860   0.337973   0.157151   0.215209  0.181853  3.039532  2.293021e+12   \n",
       "8957671451   0.246556   0.104097   0.170030  0.115582  2.954431  1.696981e+12   \n",
       "8957671452   0.126423   0.061037   0.071804  0.045215  2.955377  1.696981e+12   \n",
       "8957672566   0.181627   0.117549   0.125999  0.117354  2.976785  2.576725e+12   \n",
       "8957676023   0.721029   0.613217   0.601621  0.599036  3.012960  3.000981e+12   \n",
       "\n",
       "                  halo_id  stellar_mass   log_mass  mass_bin  \n",
       "galtileid                                                     \n",
       "9687500004      400155487  2.895573e+10  13.081683  (13, 25]  \n",
       "9687500006      400155487  1.594001e+07  13.081683  (13, 25]  \n",
       "9687500077      600155475  1.298029e+11  12.445628  (12, 13]  \n",
       "9687500089     1800155475  6.522099e+08  11.301923  (11, 12]  \n",
       "9687500093     2100155475  8.996860e+06  10.737651   (0, 11]  \n",
       "...                   ...           ...        ...       ...  \n",
       "8957669860  5367200143121  2.196984e+10  12.360408  (12, 13]  \n",
       "8957671451  5500500143121  1.604073e+10  12.229677  (12, 13]  \n",
       "8957671452  5500500143121  1.021448e+09  12.229677  (12, 13]  \n",
       "8957672566  5597700143121  1.659310e+10  12.411068  (12, 13]  \n",
       "8957676023  5880700143121  2.657998e+11  12.477263  (12, 13]  \n",
       "\n",
       "[634065 rows x 21 columns]"
      ]
     },
     "execution_count": 19,
     "metadata": {},
     "output_type": "execute_result"
    }
   ],
   "source": [
    "dc2_sub"
   ]
  },
  {
   "cell_type": "code",
   "execution_count": 32,
   "metadata": {},
   "outputs": [],
   "source": [
    "gal_list_path = \"../data/gals\""
   ]
  },
  {
   "cell_type": "code",
   "execution_count": 54,
   "metadata": {},
   "outputs": [
    {
     "name": "stdout",
     "output_type": "stream",
     "text": [
      "2000\n"
     ]
    }
   ],
   "source": [
    "halo_ids = dc2_sub['halo_id'].unique()\n",
    "halo_ids_sub = np.random.choice(halo_ids,len(halo_ids)//100)\n",
    "print(len(halo_ids_sub))"
   ]
  },
  {
   "cell_type": "code",
   "execution_count": 63,
   "metadata": {},
   "outputs": [
    {
     "name": "stderr",
     "output_type": "stream",
     "text": [
      "  0%|          | 8/2000 [00:02<09:22,  3.54it/s]"
     ]
    },
    {
     "name": "stdout",
     "output_type": "stream",
     "text": [
      "Using both positive and negative shear\n"
     ]
    },
    {
     "name": "stderr",
     "output_type": "stream",
     "text": []
    },
    {
     "name": "stdout",
     "output_type": "stream",
     "text": [
      "    # of sims: 100\n",
      "    noise cancel m   : -3.642981 +/-  17.681246 [1e-3, 3-sigma]\n",
      "    noise cancel c   :  446.450230 +/-  1081.225564 [1e-5, 3-sigma]\n"
     ]
    },
    {
     "name": "stderr",
     "output_type": "stream",
     "text": [
      "  0%|          | 9/2000 [00:18<2:59:20,  5.40s/it]"
     ]
    },
    {
     "name": "stdout",
     "output_type": "stream",
     "text": [
      "0.32311263057740436\n"
     ]
    },
    {
     "name": "stderr",
     "output_type": "stream",
     "text": [
      "  1%|          | 15/2000 [00:20<30:28,  1.09it/s]  "
     ]
    },
    {
     "name": "stdout",
     "output_type": "stream",
     "text": [
      "Using both positive and negative shear\n"
     ]
    },
    {
     "name": "stderr",
     "output_type": "stream",
     "text": []
    },
    {
     "name": "stdout",
     "output_type": "stream",
     "text": [
      "    # of sims: 100\n",
      "    noise cancel m   : -1.364707 +/-  11.067118 [1e-3, 3-sigma]\n",
      "    noise cancel c   :  1076.428561 +/-  2364.330147 [1e-5, 3-sigma]\n"
     ]
    },
    {
     "name": "stderr",
     "output_type": "stream",
     "text": [
      "  1%|          | 16/2000 [00:51<5:28:00,  9.92s/it]"
     ]
    },
    {
     "name": "stdout",
     "output_type": "stream",
     "text": [
      "0.44097551900807735\n"
     ]
    },
    {
     "name": "stderr",
     "output_type": "stream",
     "text": [
      "  1%|          | 24/2000 [00:55<28:58,  1.14it/s]  "
     ]
    },
    {
     "name": "stdout",
     "output_type": "stream",
     "text": [
      "Using both positive and negative shear\n"
     ]
    },
    {
     "name": "stderr",
     "output_type": "stream",
     "text": []
    },
    {
     "name": "stdout",
     "output_type": "stream",
     "text": [
      "    # of sims: 100\n",
      "    noise cancel m   : -12.359779 +/-  51.833898 [1e-3, 3-sigma]\n",
      "    noise cancel c   :  940.717857 +/-  2581.972530 [1e-5, 3-sigma]\n"
     ]
    },
    {
     "name": "stderr",
     "output_type": "stream",
     "text": [
      "  1%|▏         | 25/2000 [01:12<3:04:43,  5.61s/it]"
     ]
    },
    {
     "name": "stdout",
     "output_type": "stream",
     "text": [
      "0.41029837609964637\n"
     ]
    },
    {
     "name": "stderr",
     "output_type": "stream",
     "text": [
      "  3%|▎         | 64/2000 [01:26<11:12,  2.88it/s]  "
     ]
    },
    {
     "name": "stdout",
     "output_type": "stream",
     "text": [
      "Using both positive and negative shear\n"
     ]
    },
    {
     "name": "stderr",
     "output_type": "stream",
     "text": []
    },
    {
     "name": "stdout",
     "output_type": "stream",
     "text": [
      "    # of sims: 100\n",
      "    noise cancel m   : -0.756895 +/-  162.235602 [1e-3, 3-sigma]\n",
      "    noise cancel c   :  471.782357 +/-  3902.310609 [1e-5, 3-sigma]\n"
     ]
    },
    {
     "name": "stderr",
     "output_type": "stream",
     "text": [
      "  3%|▎         | 65/2000 [01:43<2:56:31,  5.47s/it]"
     ]
    },
    {
     "name": "stdout",
     "output_type": "stream",
     "text": [
      "0.33511944059340487\n",
      "Using both positive and negative shear\n"
     ]
    },
    {
     "name": "stderr",
     "output_type": "stream",
     "text": []
    },
    {
     "name": "stdout",
     "output_type": "stream",
     "text": [
      "    # of sims: 100\n",
      "    noise cancel m   : -54.505707 +/-  126.137248 [1e-3, 3-sigma]\n",
      "    noise cancel c   :  140.753178 +/-  286.418829 [1e-5, 3-sigma]\n"
     ]
    },
    {
     "name": "stderr",
     "output_type": "stream",
     "text": [
      "  3%|▎         | 66/2000 [02:01<4:55:53,  9.18s/it]"
     ]
    },
    {
     "name": "stdout",
     "output_type": "stream",
     "text": [
      "0.34450482449625075\n"
     ]
    },
    {
     "name": "stderr",
     "output_type": "stream",
     "text": [
      "  4%|▎         | 74/2000 [02:06<35:30,  1.11s/it]  "
     ]
    },
    {
     "name": "stdout",
     "output_type": "stream",
     "text": [
      "Using both positive and negative shear\n"
     ]
    },
    {
     "name": "stderr",
     "output_type": "stream",
     "text": []
    },
    {
     "name": "stdout",
     "output_type": "stream",
     "text": [
      "    # of sims: 100\n",
      "    noise cancel m   : -80.169559 +/-  164.816950 [1e-3, 3-sigma]\n",
      "    noise cancel c   :  2984.616289 +/-  6515.761543 [1e-5, 3-sigma]\n"
     ]
    },
    {
     "name": "stderr",
     "output_type": "stream",
     "text": [
      "  4%|▍         | 75/2000 [02:24<3:13:40,  6.04s/it]"
     ]
    },
    {
     "name": "stdout",
     "output_type": "stream",
     "text": [
      "0.3694300148932564\n"
     ]
    },
    {
     "name": "stderr",
     "output_type": "stream",
     "text": [
      "  4%|▍         | 86/2000 [02:27<14:17,  2.23it/s]  "
     ]
    },
    {
     "name": "stdout",
     "output_type": "stream",
     "text": [
      "Using both positive and negative shear\n"
     ]
    },
    {
     "name": "stderr",
     "output_type": "stream",
     "text": []
    },
    {
     "name": "stdout",
     "output_type": "stream",
     "text": [
      "    # of sims: 100\n",
      "    noise cancel m   : -5.805891 +/-  41.189434 [1e-3, 3-sigma]\n",
      "    noise cancel c   :  169.356735 +/-  1397.998621 [1e-5, 3-sigma]\n"
     ]
    },
    {
     "name": "stderr",
     "output_type": "stream",
     "text": [
      "  4%|▍         | 87/2000 [02:44<2:49:10,  5.31s/it]"
     ]
    },
    {
     "name": "stdout",
     "output_type": "stream",
     "text": [
      "0.32596828587529963\n"
     ]
    },
    {
     "name": "stderr",
     "output_type": "stream",
     "text": [
      "  5%|▍         | 95/2000 [02:46<18:47,  1.69it/s]  "
     ]
    },
    {
     "name": "stdout",
     "output_type": "stream",
     "text": [
      "Using both positive and negative shear\n"
     ]
    },
    {
     "name": "stderr",
     "output_type": "stream",
     "text": []
    },
    {
     "name": "stdout",
     "output_type": "stream",
     "text": [
      "    # of sims: 100\n",
      "    noise cancel m   : -1.605648 +/-  5.481497 [1e-3, 3-sigma]\n",
      "    noise cancel c   :  234.640664 +/-  518.222955 [1e-5, 3-sigma]\n"
     ]
    },
    {
     "name": "stderr",
     "output_type": "stream",
     "text": [
      "  5%|▍         | 96/2000 [03:03<2:53:29,  5.47s/it]"
     ]
    },
    {
     "name": "stdout",
     "output_type": "stream",
     "text": [
      "0.33608007278255664\n"
     ]
    },
    {
     "name": "stderr",
     "output_type": "stream",
     "text": [
      "  7%|▋         | 134/2000 [03:22<10:38,  2.92it/s] "
     ]
    },
    {
     "name": "stdout",
     "output_type": "stream",
     "text": [
      "Using both positive and negative shear\n"
     ]
    },
    {
     "name": "stderr",
     "output_type": "stream",
     "text": []
    },
    {
     "name": "stdout",
     "output_type": "stream",
     "text": [
      "    # of sims: 100\n",
      "    noise cancel m   : -1.123599 +/-  65.772716 [1e-3, 3-sigma]\n",
      "    noise cancel c   :  246.583248 +/-  2398.156507 [1e-5, 3-sigma]\n"
     ]
    },
    {
     "name": "stderr",
     "output_type": "stream",
     "text": [
      "  7%|▋         | 135/2000 [03:38<2:35:02,  4.99s/it]"
     ]
    },
    {
     "name": "stdout",
     "output_type": "stream",
     "text": [
      "0.42722384098457644\n"
     ]
    },
    {
     "name": "stderr",
     "output_type": "stream",
     "text": [
      "  7%|▋         | 144/2000 [03:41<21:22,  1.45it/s]  "
     ]
    },
    {
     "name": "stdout",
     "output_type": "stream",
     "text": [
      "Using both positive and negative shear\n"
     ]
    },
    {
     "name": "stderr",
     "output_type": "stream",
     "text": []
    },
    {
     "name": "stdout",
     "output_type": "stream",
     "text": [
      "    # of sims: 100\n",
      "    noise cancel m   : -9.025545 +/-  34.044543 [1e-3, 3-sigma]\n",
      "    noise cancel c   :  431.256333 +/-  1335.459717 [1e-5, 3-sigma]\n"
     ]
    },
    {
     "name": "stderr",
     "output_type": "stream",
     "text": [
      "  7%|▋         | 145/2000 [03:58<2:45:06,  5.34s/it]"
     ]
    },
    {
     "name": "stdout",
     "output_type": "stream",
     "text": [
      "0.3271694947596088\n"
     ]
    },
    {
     "name": "stderr",
     "output_type": "stream",
     "text": [
      "  7%|▋         | 147/2000 [04:00<1:38:50,  3.20s/it]"
     ]
    },
    {
     "name": "stdout",
     "output_type": "stream",
     "text": [
      "Using both positive and negative shear\n"
     ]
    },
    {
     "name": "stderr",
     "output_type": "stream",
     "text": []
    },
    {
     "name": "stdout",
     "output_type": "stream",
     "text": [
      "    # of sims: 100\n",
      "    noise cancel m   : -11.054049 +/-  69.801986 [1e-3, 3-sigma]\n",
      "    noise cancel c   :  2031.224356 +/-  6196.842283 [1e-5, 3-sigma]\n"
     ]
    },
    {
     "name": "stderr",
     "output_type": "stream",
     "text": [
      "  7%|▋         | 148/2000 [04:16<3:33:13,  6.91s/it]"
     ]
    },
    {
     "name": "stdout",
     "output_type": "stream",
     "text": [
      "0.3181984681288069\n"
     ]
    },
    {
     "name": "stderr",
     "output_type": "stream",
     "text": [
      "  7%|▋         | 149/2000 [04:16<2:31:07,  4.90s/it]"
     ]
    },
    {
     "name": "stdout",
     "output_type": "stream",
     "text": [
      "Using both positive and negative shear\n"
     ]
    },
    {
     "name": "stderr",
     "output_type": "stream",
     "text": []
    },
    {
     "name": "stdout",
     "output_type": "stream",
     "text": [
      "    # of sims: 100\n",
      "    noise cancel m   : -3.810942 +/-  24.661261 [1e-3, 3-sigma]\n",
      "    noise cancel c   :  297.512022 +/-  1011.341583 [1e-5, 3-sigma]\n"
     ]
    },
    {
     "name": "stderr",
     "output_type": "stream",
     "text": [
      "  8%|▊         | 150/2000 [04:31<4:08:43,  8.07s/it]"
     ]
    },
    {
     "name": "stdout",
     "output_type": "stream",
     "text": [
      "0.351810653477372\n"
     ]
    },
    {
     "name": "stderr",
     "output_type": "stream",
     "text": [
      "  8%|▊         | 152/2000 [04:32<2:08:58,  4.19s/it]"
     ]
    },
    {
     "name": "stdout",
     "output_type": "stream",
     "text": [
      "Using both positive and negative shear\n"
     ]
    },
    {
     "name": "stderr",
     "output_type": "stream",
     "text": []
    },
    {
     "name": "stdout",
     "output_type": "stream",
     "text": [
      "    # of sims: 100\n",
      "    noise cancel m   : -10.289956 +/-  39.551812 [1e-3, 3-sigma]\n",
      "    noise cancel c   :  3691.138711 +/-  8131.668360 [1e-5, 3-sigma]\n"
     ]
    },
    {
     "name": "stderr",
     "output_type": "stream",
     "text": [
      "  8%|▊         | 153/2000 [04:48<3:55:26,  7.65s/it]"
     ]
    },
    {
     "name": "stdout",
     "output_type": "stream",
     "text": [
      "0.32895404499024833\n"
     ]
    },
    {
     "name": "stderr",
     "output_type": "stream",
     "text": [
      "  8%|▊         | 164/2000 [04:52<23:30,  1.30it/s]  "
     ]
    },
    {
     "name": "stdout",
     "output_type": "stream",
     "text": [
      "Using both positive and negative shear\n"
     ]
    },
    {
     "name": "stderr",
     "output_type": "stream",
     "text": []
    },
    {
     "name": "stdout",
     "output_type": "stream",
     "text": [
      "    # of sims: 100\n",
      "    noise cancel m   : -3.131072 +/-  10.493380 [1e-3, 3-sigma]\n",
      "    noise cancel c   :  2381.067702 +/-  5207.355772 [1e-5, 3-sigma]\n"
     ]
    },
    {
     "name": "stderr",
     "output_type": "stream",
     "text": [
      "  8%|▊         | 165/2000 [05:41<7:40:55, 15.07s/it]"
     ]
    },
    {
     "name": "stdout",
     "output_type": "stream",
     "text": [
      "0.39148016717731965\n"
     ]
    },
    {
     "name": "stderr",
     "output_type": "stream",
     "text": [
      "  8%|▊         | 170/2000 [05:46<1:40:24,  3.29s/it]"
     ]
    },
    {
     "name": "stdout",
     "output_type": "stream",
     "text": [
      "Using both positive and negative shear\n"
     ]
    },
    {
     "name": "stderr",
     "output_type": "stream",
     "text": []
    },
    {
     "name": "stdout",
     "output_type": "stream",
     "text": [
      "    # of sims: 100\n",
      "    noise cancel m   : -9.349501 +/-  42.241810 [1e-3, 3-sigma]\n",
      "    noise cancel c   :  886.918118 +/-  2512.927222 [1e-5, 3-sigma]\n"
     ]
    },
    {
     "name": "stderr",
     "output_type": "stream",
     "text": [
      "  9%|▊         | 171/2000 [06:09<4:43:07,  9.29s/it]"
     ]
    },
    {
     "name": "stdout",
     "output_type": "stream",
     "text": [
      "0.3417467853379177\n"
     ]
    },
    {
     "name": "stderr",
     "output_type": "stream",
     "text": [
      "  9%|▊         | 173/2000 [06:09<2:22:56,  4.69s/it]"
     ]
    },
    {
     "name": "stdout",
     "output_type": "stream",
     "text": [
      "Using both positive and negative shear\n"
     ]
    },
    {
     "name": "stderr",
     "output_type": "stream",
     "text": []
    },
    {
     "name": "stdout",
     "output_type": "stream",
     "text": [
      "    # of sims: 100\n",
      "    noise cancel m   : -3.072922 +/-  22.306738 [1e-3, 3-sigma]\n",
      "    noise cancel c   :  320.652567 +/-  968.312169 [1e-5, 3-sigma]\n"
     ]
    },
    {
     "name": "stderr",
     "output_type": "stream",
     "text": [
      "  9%|▊         | 174/2000 [06:25<4:03:50,  8.01s/it]"
     ]
    },
    {
     "name": "stdout",
     "output_type": "stream",
     "text": [
      "0.30961699655922376\n"
     ]
    },
    {
     "name": "stderr",
     "output_type": "stream",
     "text": [
      " 10%|█         | 201/2000 [06:37<10:41,  2.80it/s]  "
     ]
    },
    {
     "name": "stdout",
     "output_type": "stream",
     "text": [
      "Using both positive and negative shear\n"
     ]
    },
    {
     "name": "stderr",
     "output_type": "stream",
     "text": []
    },
    {
     "name": "stdout",
     "output_type": "stream",
     "text": [
      "    # of sims: 100\n",
      "    noise cancel m   : -25.788286 +/-  250.139978 [1e-3, 3-sigma]\n",
      "    noise cancel c   :  1301.282239 +/-  5327.738980 [1e-5, 3-sigma]\n"
     ]
    },
    {
     "name": "stderr",
     "output_type": "stream",
     "text": [
      " 10%|█         | 202/2000 [06:53<2:35:43,  5.20s/it]"
     ]
    },
    {
     "name": "stdout",
     "output_type": "stream",
     "text": [
      "0.28209694218016\n"
     ]
    },
    {
     "name": "stderr",
     "output_type": "stream",
     "text": [
      " 11%|█         | 216/2000 [07:01<11:56,  2.49it/s]  "
     ]
    },
    {
     "name": "stdout",
     "output_type": "stream",
     "text": [
      "Using both positive and negative shear\n"
     ]
    },
    {
     "name": "stderr",
     "output_type": "stream",
     "text": []
    },
    {
     "name": "stdout",
     "output_type": "stream",
     "text": [
      "    # of sims: 100\n",
      "    noise cancel m   : -7.630469 +/-  45.844164 [1e-3, 3-sigma]\n",
      "    noise cancel c   :  278.654870 +/-  1629.995036 [1e-5, 3-sigma]\n"
     ]
    },
    {
     "name": "stderr",
     "output_type": "stream",
     "text": [
      " 11%|█         | 217/2000 [07:33<4:48:50,  9.72s/it]"
     ]
    },
    {
     "name": "stdout",
     "output_type": "stream",
     "text": [
      "0.26395537342576975\n",
      "Using both positive and negative shear\n"
     ]
    },
    {
     "name": "stderr",
     "output_type": "stream",
     "text": []
    },
    {
     "name": "stdout",
     "output_type": "stream",
     "text": [
      "    # of sims: 100\n",
      "    noise cancel m   : -8.294650 +/-  13.977400 [1e-3, 3-sigma]\n",
      "    noise cancel c   :  321.300612 +/-  723.344960 [1e-5, 3-sigma]\n"
     ]
    },
    {
     "name": "stderr",
     "output_type": "stream",
     "text": [
      " 11%|█         | 218/2000 [08:15<9:43:54, 19.66s/it]"
     ]
    },
    {
     "name": "stdout",
     "output_type": "stream",
     "text": [
      "0.3331544439808705\n"
     ]
    },
    {
     "name": "stderr",
     "output_type": "stream",
     "text": [
      " 11%|█         | 220/2000 [08:16<4:51:13,  9.82s/it]"
     ]
    },
    {
     "name": "stdout",
     "output_type": "stream",
     "text": [
      "Using both positive and negative shear\n"
     ]
    },
    {
     "name": "stderr",
     "output_type": "stream",
     "text": []
    },
    {
     "name": "stdout",
     "output_type": "stream",
     "text": [
      "    # of sims: 100\n",
      "    noise cancel m   : -5.563381 +/-  36.613403 [1e-3, 3-sigma]\n",
      "    noise cancel c   :  1087.215559 +/-  2598.330053 [1e-5, 3-sigma]\n"
     ]
    },
    {
     "name": "stderr",
     "output_type": "stream",
     "text": [
      " 11%|█         | 221/2000 [08:32<5:44:58, 11.63s/it]"
     ]
    },
    {
     "name": "stdout",
     "output_type": "stream",
     "text": [
      "0.3604438872816418\n"
     ]
    },
    {
     "name": "stderr",
     "output_type": "stream",
     "text": [
      " 12%|█▏        | 232/2000 [08:36<16:12,  1.82it/s]  "
     ]
    },
    {
     "name": "stdout",
     "output_type": "stream",
     "text": [
      "Using both positive and negative shear\n"
     ]
    },
    {
     "name": "stderr",
     "output_type": "stream",
     "text": []
    },
    {
     "name": "stdout",
     "output_type": "stream",
     "text": [
      "    # of sims: 100\n",
      "    noise cancel m   : -6.026081 +/-  13.800611 [1e-3, 3-sigma]\n",
      "    noise cancel c   :  330.331999 +/-  788.424447 [1e-5, 3-sigma]\n"
     ]
    },
    {
     "name": "stderr",
     "output_type": "stream",
     "text": [
      " 12%|█▏        | 233/2000 [08:52<2:36:20,  5.31s/it]"
     ]
    },
    {
     "name": "stdout",
     "output_type": "stream",
     "text": [
      "0.31948571651728047\n"
     ]
    },
    {
     "name": "stderr",
     "output_type": "stream",
     "text": [
      " 14%|█▍        | 278/2000 [09:09<18:39,  1.54it/s]  "
     ]
    },
    {
     "name": "stdout",
     "output_type": "stream",
     "text": [
      "Using both positive and negative shear\n"
     ]
    },
    {
     "name": "stderr",
     "output_type": "stream",
     "text": []
    },
    {
     "name": "stdout",
     "output_type": "stream",
     "text": [
      "    # of sims: 100\n",
      "    noise cancel m   : -63.561075 +/-  158.850256 [1e-3, 3-sigma]\n",
      "    noise cancel c   :  517.352817 +/-  1211.777331 [1e-5, 3-sigma]\n"
     ]
    },
    {
     "name": "stderr",
     "output_type": "stream",
     "text": [
      " 14%|█▍        | 279/2000 [09:27<2:44:35,  5.74s/it]"
     ]
    },
    {
     "name": "stdout",
     "output_type": "stream",
     "text": [
      "0.35506851869346995\n"
     ]
    },
    {
     "name": "stderr",
     "output_type": "stream",
     "text": [
      " 14%|█▍        | 283/2000 [09:28<47:04,  1.64s/it]  "
     ]
    },
    {
     "name": "stdout",
     "output_type": "stream",
     "text": [
      "Using both positive and negative shear\n"
     ]
    },
    {
     "name": "stderr",
     "output_type": "stream",
     "text": []
    },
    {
     "name": "stdout",
     "output_type": "stream",
     "text": [
      "    # of sims: 100\n",
      "    noise cancel m   : -4.553382 +/-  59.427874 [1e-3, 3-sigma]\n",
      "    noise cancel c   :  1724.067845 +/-  4112.822819 [1e-5, 3-sigma]\n"
     ]
    },
    {
     "name": "stderr",
     "output_type": "stream",
     "text": [
      " 14%|█▍        | 284/2000 [09:44<2:46:06,  5.81s/it]"
     ]
    },
    {
     "name": "stdout",
     "output_type": "stream",
     "text": [
      "0.3103945863110682\n"
     ]
    },
    {
     "name": "stderr",
     "output_type": "stream",
     "text": [
      " 14%|█▍        | 288/2000 [09:45<44:44,  1.57s/it]  "
     ]
    },
    {
     "name": "stdout",
     "output_type": "stream",
     "text": [
      "Using both positive and negative shear\n"
     ]
    },
    {
     "name": "stderr",
     "output_type": "stream",
     "text": []
    },
    {
     "name": "stdout",
     "output_type": "stream",
     "text": [
      "    # of sims: 100\n",
      "    noise cancel m   :  1.668347 +/-  29.531140 [1e-3, 3-sigma]\n",
      "    noise cancel c   :  179.616920 +/-  2679.659850 [1e-5, 3-sigma]\n"
     ]
    },
    {
     "name": "stderr",
     "output_type": "stream",
     "text": [
      " 14%|█▍        | 289/2000 [10:01<2:46:47,  5.85s/it]"
     ]
    },
    {
     "name": "stdout",
     "output_type": "stream",
     "text": [
      "0.2874228883234233\n"
     ]
    },
    {
     "name": "stderr",
     "output_type": "stream",
     "text": [
      " 15%|█▍        | 295/2000 [10:04<28:38,  1.01s/it]  "
     ]
    },
    {
     "name": "stdout",
     "output_type": "stream",
     "text": [
      "Using both positive and negative shear\n"
     ]
    },
    {
     "name": "stderr",
     "output_type": "stream",
     "text": []
    },
    {
     "name": "stdout",
     "output_type": "stream",
     "text": [
      "    # of sims: 100\n",
      "    noise cancel m   : -6.733765 +/-  20.243470 [1e-3, 3-sigma]\n",
      "    noise cancel c   :  1672.210105 +/-  3646.527815 [1e-5, 3-sigma]\n"
     ]
    },
    {
     "name": "stderr",
     "output_type": "stream",
     "text": [
      " 15%|█▍        | 296/2000 [10:20<2:43:55,  5.77s/it]"
     ]
    },
    {
     "name": "stdout",
     "output_type": "stream",
     "text": [
      "0.33765574531381803\n"
     ]
    },
    {
     "name": "stderr",
     "output_type": "stream",
     "text": [
      " 15%|█▌        | 304/2000 [10:23<16:50,  1.68it/s]  "
     ]
    },
    {
     "name": "stdout",
     "output_type": "stream",
     "text": [
      "Using both positive and negative shear\n"
     ]
    },
    {
     "name": "stderr",
     "output_type": "stream",
     "text": []
    },
    {
     "name": "stdout",
     "output_type": "stream",
     "text": [
      "    # of sims: 100\n",
      "    noise cancel m   : -16.205348 +/-  74.048660 [1e-3, 3-sigma]\n",
      "    noise cancel c   :  577.566018 +/-  2694.377423 [1e-5, 3-sigma]\n"
     ]
    },
    {
     "name": "stderr",
     "output_type": "stream",
     "text": [
      " 15%|█▌        | 305/2000 [10:38<2:21:48,  5.02s/it]"
     ]
    },
    {
     "name": "stdout",
     "output_type": "stream",
     "text": [
      "0.40304647692634243\n"
     ]
    },
    {
     "name": "stderr",
     "output_type": "stream",
     "text": [
      " 15%|█▌        | 306/2000 [10:38<1:42:27,  3.63s/it]"
     ]
    },
    {
     "name": "stdout",
     "output_type": "stream",
     "text": [
      "Using both positive and negative shear\n"
     ]
    },
    {
     "name": "stderr",
     "output_type": "stream",
     "text": []
    },
    {
     "name": "stdout",
     "output_type": "stream",
     "text": [
      "    # of sims: 100\n",
      "    noise cancel m   : -6.031196 +/-  28.307767 [1e-3, 3-sigma]\n",
      "    noise cancel c   :  97.206989 +/-  978.303099 [1e-5, 3-sigma]\n"
     ]
    },
    {
     "name": "stderr",
     "output_type": "stream",
     "text": [
      " 15%|█▌        | 307/2000 [10:54<3:25:02,  7.27s/it]"
     ]
    },
    {
     "name": "stdout",
     "output_type": "stream",
     "text": [
      "0.3954690981908208\n",
      "Using both positive and negative shear\n"
     ]
    },
    {
     "name": "stderr",
     "output_type": "stream",
     "text": []
    },
    {
     "name": "stdout",
     "output_type": "stream",
     "text": [
      "    # of sims: 100\n",
      "    noise cancel m   : -1.438028 +/-  9.813431 [1e-3, 3-sigma]\n",
      "    noise cancel c   :  4355.751602 +/-  9621.708710 [1e-5, 3-sigma]\n"
     ]
    },
    {
     "name": "stderr",
     "output_type": "stream",
     "text": [
      " 15%|█▌        | 308/2000 [11:10<4:41:40,  9.99s/it]"
     ]
    },
    {
     "name": "stdout",
     "output_type": "stream",
     "text": [
      "0.37889521812948473\n"
     ]
    },
    {
     "name": "stderr",
     "output_type": "stream",
     "text": [
      " 15%|█▌        | 309/2000 [11:11<3:19:08,  7.07s/it]"
     ]
    },
    {
     "name": "stdout",
     "output_type": "stream",
     "text": [
      "Using both positive and negative shear\n"
     ]
    },
    {
     "name": "stderr",
     "output_type": "stream",
     "text": []
    },
    {
     "name": "stdout",
     "output_type": "stream",
     "text": [
      "    # of sims: 100\n",
      "    noise cancel m   : -1.726769 +/-  21.310951 [1e-3, 3-sigma]\n",
      "    noise cancel c   :  453.618759 +/-  2235.646652 [1e-5, 3-sigma]\n"
     ]
    },
    {
     "name": "stderr",
     "output_type": "stream",
     "text": [
      " 16%|█▌        | 310/2000 [11:28<4:44:51, 10.11s/it]"
     ]
    },
    {
     "name": "stdout",
     "output_type": "stream",
     "text": [
      "0.329764973587584\n"
     ]
    },
    {
     "name": "stderr",
     "output_type": "stream",
     "text": [
      " 16%|█▌        | 321/2000 [11:32<13:31,  2.07it/s]  "
     ]
    },
    {
     "name": "stdout",
     "output_type": "stream",
     "text": [
      "Using both positive and negative shear\n"
     ]
    },
    {
     "name": "stderr",
     "output_type": "stream",
     "text": []
    },
    {
     "name": "stdout",
     "output_type": "stream",
     "text": [
      "    # of sims: 100\n",
      "    noise cancel m   : -2.202082 +/-  19.048163 [1e-3, 3-sigma]\n",
      "    noise cancel c   :  193.827328 +/-  609.989121 [1e-5, 3-sigma]\n"
     ]
    },
    {
     "name": "stderr",
     "output_type": "stream",
     "text": [
      " 16%|█▌        | 322/2000 [11:48<2:31:38,  5.42s/it]"
     ]
    },
    {
     "name": "stdout",
     "output_type": "stream",
     "text": [
      "0.33664549662606896\n",
      "Using both positive and negative shear\n"
     ]
    },
    {
     "name": "stderr",
     "output_type": "stream",
     "text": []
    },
    {
     "name": "stdout",
     "output_type": "stream",
     "text": [
      "    # of sims: 100\n",
      "    noise cancel m   : -8.499047 +/-  25.106724 [1e-3, 3-sigma]\n",
      "    noise cancel c   :  2504.413433 +/-  5687.648066 [1e-5, 3-sigma]\n"
     ]
    },
    {
     "name": "stderr",
     "output_type": "stream",
     "text": [
      " 16%|█▌        | 323/2000 [12:06<4:11:35,  9.00s/it]"
     ]
    },
    {
     "name": "stdout",
     "output_type": "stream",
     "text": [
      "0.32912906417990706\n"
     ]
    },
    {
     "name": "stderr",
     "output_type": "stream",
     "text": [
      " 18%|█▊        | 359/2000 [12:25<06:57,  3.93it/s]  "
     ]
    },
    {
     "name": "stdout",
     "output_type": "stream",
     "text": [
      "Using both positive and negative shear\n"
     ]
    },
    {
     "name": "stderr",
     "output_type": "stream",
     "text": []
    },
    {
     "name": "stdout",
     "output_type": "stream",
     "text": [
      "    # of sims: 100\n",
      "    noise cancel m   :  2.248172 +/-  13.394938 [1e-3, 3-sigma]\n",
      "    noise cancel c   :  47.590740 +/-  547.436976 [1e-5, 3-sigma]\n"
     ]
    },
    {
     "name": "stderr",
     "output_type": "stream",
     "text": [
      " 18%|█▊        | 360/2000 [12:42<2:22:01,  5.20s/it]"
     ]
    },
    {
     "name": "stdout",
     "output_type": "stream",
     "text": [
      "0.33889923071094\n",
      "Using both positive and negative shear\n"
     ]
    },
    {
     "name": "stderr",
     "output_type": "stream",
     "text": []
    },
    {
     "name": "stdout",
     "output_type": "stream",
     "text": [
      "    # of sims: 100\n",
      "    noise cancel m   : -1.188718 +/-  15.995943 [1e-3, 3-sigma]\n",
      "    noise cancel c   :  3693.614592 +/-  8153.557895 [1e-5, 3-sigma]\n"
     ]
    },
    {
     "name": "stderr",
     "output_type": "stream",
     "text": [
      " 18%|█▊        | 361/2000 [12:59<3:54:19,  8.58s/it]"
     ]
    },
    {
     "name": "stdout",
     "output_type": "stream",
     "text": [
      "0.32017377020839244\n"
     ]
    },
    {
     "name": "stderr",
     "output_type": "stream",
     "text": [
      " 18%|█▊        | 363/2000 [13:00<2:05:39,  4.61s/it]"
     ]
    },
    {
     "name": "stdout",
     "output_type": "stream",
     "text": [
      "Using both positive and negative shear\n"
     ]
    },
    {
     "name": "stderr",
     "output_type": "stream",
     "text": []
    },
    {
     "name": "stdout",
     "output_type": "stream",
     "text": [
      "    # of sims: 100\n",
      "    noise cancel m   : -16.255986 +/-  56.510034 [1e-3, 3-sigma]\n",
      "    noise cancel c   :  1310.082315 +/-  3364.170919 [1e-5, 3-sigma]\n"
     ]
    },
    {
     "name": "stderr",
     "output_type": "stream",
     "text": [
      " 18%|█▊        | 364/2000 [13:16<3:39:09,  8.04s/it]"
     ]
    },
    {
     "name": "stdout",
     "output_type": "stream",
     "text": [
      "0.4558151774284676\n"
     ]
    },
    {
     "name": "stderr",
     "output_type": "stream",
     "text": [
      " 18%|█▊        | 366/2000 [13:17<1:50:46,  4.07s/it]"
     ]
    },
    {
     "name": "stdout",
     "output_type": "stream",
     "text": [
      "Using both positive and negative shear\n"
     ]
    },
    {
     "name": "stderr",
     "output_type": "stream",
     "text": []
    },
    {
     "name": "stdout",
     "output_type": "stream",
     "text": [
      "    # of sims: 100\n",
      "    noise cancel m   : -23.148824 +/-  38.728626 [1e-3, 3-sigma]\n",
      "    noise cancel c   :  132.052555 +/-  2134.281891 [1e-5, 3-sigma]\n"
     ]
    },
    {
     "name": "stderr",
     "output_type": "stream",
     "text": [
      " 18%|█▊        | 367/2000 [13:33<3:29:15,  7.69s/it]"
     ]
    },
    {
     "name": "stdout",
     "output_type": "stream",
     "text": [
      "0.3350570559719969\n"
     ]
    },
    {
     "name": "stderr",
     "output_type": "stream",
     "text": [
      " 19%|█▊        | 374/2000 [13:37<27:39,  1.02s/it]  "
     ]
    },
    {
     "name": "stdout",
     "output_type": "stream",
     "text": [
      "Using both positive and negative shear\n"
     ]
    },
    {
     "name": "stderr",
     "output_type": "stream",
     "text": []
    },
    {
     "name": "stdout",
     "output_type": "stream",
     "text": [
      "    # of sims: 100\n",
      "    noise cancel m   : -10.008023 +/-  42.427394 [1e-3, 3-sigma]\n",
      "    noise cancel c   :  325.635685 +/-  3370.841758 [1e-5, 3-sigma]\n"
     ]
    },
    {
     "name": "stderr",
     "output_type": "stream",
     "text": [
      " 19%|█▉        | 375/2000 [13:53<2:26:52,  5.42s/it]"
     ]
    },
    {
     "name": "stdout",
     "output_type": "stream",
     "text": [
      "0.35734984159716626\n"
     ]
    },
    {
     "name": "stderr",
     "output_type": "stream",
     "text": [
      " 20%|█▉        | 391/2000 [13:58<08:35,  3.12it/s]  "
     ]
    },
    {
     "name": "stdout",
     "output_type": "stream",
     "text": [
      "Using both positive and negative shear\n"
     ]
    },
    {
     "name": "stderr",
     "output_type": "stream",
     "text": []
    },
    {
     "name": "stdout",
     "output_type": "stream",
     "text": [
      "    # of sims: 100\n",
      "    noise cancel m   : -4.043922 +/-  46.407854 [1e-3, 3-sigma]\n",
      "    noise cancel c   :  235.221652 +/-  1572.067005 [1e-5, 3-sigma]\n"
     ]
    },
    {
     "name": "stderr",
     "output_type": "stream",
     "text": [
      " 20%|█▉        | 392/2000 [14:14<2:14:10,  5.01s/it]"
     ]
    },
    {
     "name": "stdout",
     "output_type": "stream",
     "text": [
      "0.2896285680608962\n"
     ]
    },
    {
     "name": "stderr",
     "output_type": "stream",
     "text": [
      " 20%|█▉        | 396/2000 [14:15<38:44,  1.45s/it]  "
     ]
    },
    {
     "name": "stdout",
     "output_type": "stream",
     "text": [
      "Using both positive and negative shear\n"
     ]
    },
    {
     "name": "stderr",
     "output_type": "stream",
     "text": []
    },
    {
     "name": "stdout",
     "output_type": "stream",
     "text": [
      "    # of sims: 100\n",
      "    noise cancel m   : -1.786723 +/-  13.741072 [1e-3, 3-sigma]\n",
      "    noise cancel c   :  274.618423 +/-  649.420269 [1e-5, 3-sigma]\n"
     ]
    },
    {
     "name": "stderr",
     "output_type": "stream",
     "text": [
      " 20%|█▉        | 397/2000 [14:32<2:41:27,  6.04s/it]"
     ]
    },
    {
     "name": "stdout",
     "output_type": "stream",
     "text": [
      "0.33633899571362363\n"
     ]
    },
    {
     "name": "stderr",
     "output_type": "stream",
     "text": [
      " 20%|█▉        | 398/2000 [14:32<1:54:48,  4.30s/it]"
     ]
    },
    {
     "name": "stdout",
     "output_type": "stream",
     "text": [
      "Using both positive and negative shear\n"
     ]
    },
    {
     "name": "stderr",
     "output_type": "stream",
     "text": []
    },
    {
     "name": "stdout",
     "output_type": "stream",
     "text": [
      "    # of sims: 100\n",
      "    noise cancel m   : -3.102542 +/-  18.699044 [1e-3, 3-sigma]\n",
      "    noise cancel c   :  1066.367396 +/-  2372.989290 [1e-5, 3-sigma]\n"
     ]
    },
    {
     "name": "stderr",
     "output_type": "stream",
     "text": [
      " 20%|█▉        | 399/2000 [14:48<3:27:40,  7.78s/it]"
     ]
    },
    {
     "name": "stdout",
     "output_type": "stream",
     "text": [
      "0.45401725278083027\n"
     ]
    },
    {
     "name": "stderr",
     "output_type": "stream",
     "text": [
      " 21%|██        | 415/2000 [14:54<14:05,  1.87it/s]  "
     ]
    },
    {
     "name": "stdout",
     "output_type": "stream",
     "text": [
      "Using both positive and negative shear\n"
     ]
    },
    {
     "name": "stderr",
     "output_type": "stream",
     "text": []
    },
    {
     "name": "stdout",
     "output_type": "stream",
     "text": [
      "    # of sims: 100\n",
      "    noise cancel m   : -7.361811 +/-  38.241696 [1e-3, 3-sigma]\n",
      "    noise cancel c   :  4888.485613 +/-  10793.854418 [1e-5, 3-sigma]\n"
     ]
    },
    {
     "name": "stderr",
     "output_type": "stream",
     "text": [
      " 21%|██        | 416/2000 [15:10<2:16:42,  5.18s/it]"
     ]
    },
    {
     "name": "stdout",
     "output_type": "stream",
     "text": [
      "0.33528344423882217\n",
      "Using both positive and negative shear\n"
     ]
    },
    {
     "name": "stderr",
     "output_type": "stream",
     "text": []
    },
    {
     "name": "stdout",
     "output_type": "stream",
     "text": [
      "    # of sims: 100\n",
      "    noise cancel m   : -4.211882 +/-  18.836102 [1e-3, 3-sigma]\n",
      "    noise cancel c   :  1187.336106 +/-  2620.524563 [1e-5, 3-sigma]\n"
     ]
    },
    {
     "name": "stderr",
     "output_type": "stream",
     "text": [
      " 21%|██        | 417/2000 [15:26<3:40:18,  8.35s/it]"
     ]
    },
    {
     "name": "stdout",
     "output_type": "stream",
     "text": [
      "0.26129675326811325\n"
     ]
    },
    {
     "name": "stderr",
     "output_type": "stream",
     "text": [
      " 22%|██▏       | 431/2000 [15:33<09:40,  2.70it/s]  "
     ]
    },
    {
     "name": "stdout",
     "output_type": "stream",
     "text": [
      "Using both positive and negative shear\n"
     ]
    },
    {
     "name": "stderr",
     "output_type": "stream",
     "text": []
    },
    {
     "name": "stdout",
     "output_type": "stream",
     "text": [
      "    # of sims: 100\n",
      "    noise cancel m   : -20.327903 +/-  61.762470 [1e-3, 3-sigma]\n",
      "    noise cancel c   :  2491.031920 +/-  5394.740946 [1e-5, 3-sigma]\n"
     ]
    },
    {
     "name": "stderr",
     "output_type": "stream",
     "text": [
      " 22%|██▏       | 432/2000 [15:49<2:16:40,  5.23s/it]"
     ]
    },
    {
     "name": "stdout",
     "output_type": "stream",
     "text": [
      "0.34842658226013506\n"
     ]
    },
    {
     "name": "stderr",
     "output_type": "stream",
     "text": [
      " 22%|██▏       | 435/2000 [15:50<52:31,  2.01s/it]  "
     ]
    },
    {
     "name": "stdout",
     "output_type": "stream",
     "text": [
      "Using both positive and negative shear\n"
     ]
    },
    {
     "name": "stderr",
     "output_type": "stream",
     "text": []
    },
    {
     "name": "stdout",
     "output_type": "stream",
     "text": [
      "    # of sims: 100\n",
      "    noise cancel m   : -6.174272 +/-  27.853763 [1e-3, 3-sigma]\n",
      "    noise cancel c   :  78.049529 +/-  948.673809 [1e-5, 3-sigma]\n"
     ]
    },
    {
     "name": "stderr",
     "output_type": "stream",
     "text": [
      " 22%|██▏       | 436/2000 [16:06<2:37:35,  6.05s/it]"
     ]
    },
    {
     "name": "stdout",
     "output_type": "stream",
     "text": [
      "0.45245590141622527\n"
     ]
    },
    {
     "name": "stderr",
     "output_type": "stream",
     "text": [
      " 22%|██▏       | 442/2000 [16:07<24:22,  1.07it/s]  "
     ]
    },
    {
     "name": "stdout",
     "output_type": "stream",
     "text": [
      "Using both positive and negative shear\n"
     ]
    },
    {
     "name": "stderr",
     "output_type": "stream",
     "text": []
    },
    {
     "name": "stdout",
     "output_type": "stream",
     "text": [
      "    # of sims: 100\n",
      "    noise cancel m   : -6.012523 +/-  64.097789 [1e-3, 3-sigma]\n",
      "    noise cancel c   :  2104.339482 +/-  4987.408471 [1e-5, 3-sigma]\n"
     ]
    },
    {
     "name": "stderr",
     "output_type": "stream",
     "text": [
      " 22%|██▏       | 443/2000 [16:23<2:15:56,  5.24s/it]"
     ]
    },
    {
     "name": "stdout",
     "output_type": "stream",
     "text": [
      "0.4103359043657725\n"
     ]
    },
    {
     "name": "stderr",
     "output_type": "stream",
     "text": [
      " 22%|██▏       | 447/2000 [16:24<37:56,  1.47s/it]  "
     ]
    },
    {
     "name": "stdout",
     "output_type": "stream",
     "text": [
      "Using both positive and negative shear\n"
     ]
    },
    {
     "name": "stderr",
     "output_type": "stream",
     "text": []
    },
    {
     "name": "stdout",
     "output_type": "stream",
     "text": [
      "    # of sims: 100\n",
      "    noise cancel m   : -4.159408 +/-  31.141177 [1e-3, 3-sigma]\n",
      "    noise cancel c   :  1295.606177 +/-  2943.615281 [1e-5, 3-sigma]\n"
     ]
    },
    {
     "name": "stderr",
     "output_type": "stream",
     "text": [
      " 22%|██▏       | 448/2000 [16:39<2:28:06,  5.73s/it]"
     ]
    },
    {
     "name": "stdout",
     "output_type": "stream",
     "text": [
      "0.38215049550952296\n"
     ]
    },
    {
     "name": "stderr",
     "output_type": "stream",
     "text": [
      " 22%|██▎       | 450/2000 [16:41<1:19:40,  3.08s/it]"
     ]
    },
    {
     "name": "stdout",
     "output_type": "stream",
     "text": [
      "Using both positive and negative shear\n"
     ]
    },
    {
     "name": "stderr",
     "output_type": "stream",
     "text": []
    },
    {
     "name": "stdout",
     "output_type": "stream",
     "text": [
      "    # of sims: 100\n",
      "    noise cancel m   : -15.565604 +/-  143.452761 [1e-3, 3-sigma]\n",
      "    noise cancel c   :  493.985408 +/-  4922.790764 [1e-5, 3-sigma]\n"
     ]
    },
    {
     "name": "stderr",
     "output_type": "stream",
     "text": [
      " 23%|██▎       | 451/2000 [16:56<2:57:12,  6.86s/it]"
     ]
    },
    {
     "name": "stdout",
     "output_type": "stream",
     "text": [
      "0.43229518691662444\n"
     ]
    },
    {
     "name": "stderr",
     "output_type": "stream",
     "text": [
      " 23%|██▎       | 460/2000 [16:59<13:28,  1.90it/s]  "
     ]
    },
    {
     "name": "stdout",
     "output_type": "stream",
     "text": [
      "Using both positive and negative shear\n"
     ]
    },
    {
     "name": "stderr",
     "output_type": "stream",
     "text": []
    },
    {
     "name": "stdout",
     "output_type": "stream",
     "text": [
      "    # of sims: 100\n",
      "    noise cancel m   : -1.947012 +/-  28.296652 [1e-3, 3-sigma]\n",
      "    noise cancel c   :  614.008244 +/-  5027.170466 [1e-5, 3-sigma]\n"
     ]
    },
    {
     "name": "stderr",
     "output_type": "stream",
     "text": [
      " 23%|██▎       | 461/2000 [17:14<2:10:12,  5.08s/it]"
     ]
    },
    {
     "name": "stdout",
     "output_type": "stream",
     "text": [
      "0.3564476730504087\n"
     ]
    },
    {
     "name": "stderr",
     "output_type": "stream",
     "text": [
      " 23%|██▎       | 468/2000 [17:16<15:16,  1.67it/s]  "
     ]
    },
    {
     "name": "stdout",
     "output_type": "stream",
     "text": [
      "Using both positive and negative shear\n"
     ]
    },
    {
     "name": "stderr",
     "output_type": "stream",
     "text": []
    },
    {
     "name": "stdout",
     "output_type": "stream",
     "text": [
      "    # of sims: 100\n",
      "    noise cancel m   :  2.677511 +/-  16.147852 [1e-3, 3-sigma]\n",
      "    noise cancel c   :  1201.182759 +/-  2614.866136 [1e-5, 3-sigma]\n"
     ]
    },
    {
     "name": "stderr",
     "output_type": "stream",
     "text": [
      " 23%|██▎       | 469/2000 [17:32<2:17:54,  5.40s/it]"
     ]
    },
    {
     "name": "stdout",
     "output_type": "stream",
     "text": [
      "0.33743372213430833\n"
     ]
    },
    {
     "name": "stderr",
     "output_type": "stream",
     "text": [
      " 24%|██▍       | 483/2000 [17:40<09:44,  2.60it/s]  "
     ]
    },
    {
     "name": "stdout",
     "output_type": "stream",
     "text": [
      "Using both positive and negative shear\n"
     ]
    },
    {
     "name": "stderr",
     "output_type": "stream",
     "text": []
    },
    {
     "name": "stdout",
     "output_type": "stream",
     "text": [
      "    # of sims: 100\n",
      "    noise cancel m   : -7.429060 +/-  41.777291 [1e-3, 3-sigma]\n",
      "    noise cancel c   :  1501.692764 +/-  3433.995876 [1e-5, 3-sigma]\n"
     ]
    },
    {
     "name": "stderr",
     "output_type": "stream",
     "text": [
      " 24%|██▍       | 484/2000 [17:55<2:03:51,  4.90s/it]"
     ]
    },
    {
     "name": "stdout",
     "output_type": "stream",
     "text": [
      "0.34863330562211475\n"
     ]
    },
    {
     "name": "stderr",
     "output_type": "stream",
     "text": [
      " 24%|██▍       | 488/2000 [17:57<39:01,  1.55s/it]  "
     ]
    },
    {
     "name": "stdout",
     "output_type": "stream",
     "text": [
      "Using both positive and negative shear\n"
     ]
    },
    {
     "name": "stderr",
     "output_type": "stream",
     "text": []
    },
    {
     "name": "stdout",
     "output_type": "stream",
     "text": [
      "    # of sims: 100\n",
      "    noise cancel m   : -2.504314 +/-  11.594601 [1e-3, 3-sigma]\n",
      "    noise cancel c   :  577.438947 +/-  1288.368665 [1e-5, 3-sigma]\n"
     ]
    },
    {
     "name": "stderr",
     "output_type": "stream",
     "text": [
      " 24%|██▍       | 489/2000 [18:13<2:24:43,  5.75s/it]"
     ]
    },
    {
     "name": "stdout",
     "output_type": "stream",
     "text": [
      "0.3967877877526311\n",
      "Using both positive and negative shear\n"
     ]
    },
    {
     "name": "stderr",
     "output_type": "stream",
     "text": []
    },
    {
     "name": "stdout",
     "output_type": "stream",
     "text": [
      "    # of sims: 100\n",
      "    noise cancel m   : -3.334317 +/-  28.462141 [1e-3, 3-sigma]\n",
      "    noise cancel c   :  1159.200285 +/-  2869.681823 [1e-5, 3-sigma]\n"
     ]
    },
    {
     "name": "stderr",
     "output_type": "stream",
     "text": [
      " 24%|██▍       | 490/2000 [18:28<3:38:51,  8.70s/it]"
     ]
    },
    {
     "name": "stdout",
     "output_type": "stream",
     "text": [
      "0.33636800548885054\n"
     ]
    },
    {
     "name": "stderr",
     "output_type": "stream",
     "text": [
      " 25%|██▌       | 507/2000 [18:32<05:49,  4.27it/s]  "
     ]
    },
    {
     "name": "stdout",
     "output_type": "stream",
     "text": [
      "Using both positive and negative shear\n"
     ]
    },
    {
     "name": "stderr",
     "output_type": "stream",
     "text": []
    },
    {
     "name": "stdout",
     "output_type": "stream",
     "text": [
      "    # of sims: 100\n",
      "    noise cancel m   : -4.371367 +/-  63.765597 [1e-3, 3-sigma]\n",
      "    noise cancel c   :  1787.910045 +/-  3687.578877 [1e-5, 3-sigma]\n"
     ]
    },
    {
     "name": "stderr",
     "output_type": "stream",
     "text": [
      " 25%|██▌       | 508/2000 [18:49<2:04:01,  4.99s/it]"
     ]
    },
    {
     "name": "stdout",
     "output_type": "stream",
     "text": [
      "0.28236006768826455\n"
     ]
    },
    {
     "name": "stderr",
     "output_type": "stream",
     "text": [
      " 26%|██▌       | 511/2000 [18:49<45:54,  1.85s/it]  "
     ]
    },
    {
     "name": "stdout",
     "output_type": "stream",
     "text": [
      "Using both positive and negative shear\n"
     ]
    },
    {
     "name": "stderr",
     "output_type": "stream",
     "text": []
    },
    {
     "name": "stdout",
     "output_type": "stream",
     "text": [
      "    # of sims: 100\n",
      "    noise cancel m   : -5.253308 +/-  28.157609 [1e-3, 3-sigma]\n",
      "    noise cancel c   :  675.217155 +/-  1691.118459 [1e-5, 3-sigma]\n"
     ]
    },
    {
     "name": "stderr",
     "output_type": "stream",
     "text": [
      " 26%|██▌       | 512/2000 [19:31<5:44:24, 13.89s/it]"
     ]
    },
    {
     "name": "stdout",
     "output_type": "stream",
     "text": [
      "0.3774573734471507\n",
      "Using both positive and negative shear\n"
     ]
    },
    {
     "name": "stderr",
     "output_type": "stream",
     "text": []
    },
    {
     "name": "stdout",
     "output_type": "stream",
     "text": [
      "    # of sims: 100\n",
      "    noise cancel m   : -11.213744 +/-  64.902919 [1e-3, 3-sigma]\n",
      "    noise cancel c   :  912.232646 +/-  2817.157941 [1e-5, 3-sigma]\n"
     ]
    },
    {
     "name": "stderr",
     "output_type": "stream",
     "text": [
      " 26%|██▌       | 513/2000 [20:02<7:49:09, 18.93s/it]"
     ]
    },
    {
     "name": "stdout",
     "output_type": "stream",
     "text": [
      "0.36088309077229114\n"
     ]
    },
    {
     "name": "stderr",
     "output_type": "stream",
     "text": [
      " 27%|██▋       | 542/2000 [20:13<05:30,  4.41it/s]  "
     ]
    },
    {
     "name": "stdout",
     "output_type": "stream",
     "text": [
      "Using both positive and negative shear\n"
     ]
    },
    {
     "name": "stderr",
     "output_type": "stream",
     "text": []
    },
    {
     "name": "stdout",
     "output_type": "stream",
     "text": [
      "    # of sims: 100\n",
      "    noise cancel m   : -3.593400 +/-  39.696038 [1e-3, 3-sigma]\n",
      "    noise cancel c   :  237.383693 +/-  1433.502358 [1e-5, 3-sigma]\n"
     ]
    },
    {
     "name": "stderr",
     "output_type": "stream",
     "text": [
      " 27%|██▋       | 543/2000 [20:29<1:57:47,  4.85s/it]"
     ]
    },
    {
     "name": "stdout",
     "output_type": "stream",
     "text": [
      "0.4149303655351651\n"
     ]
    },
    {
     "name": "stderr",
     "output_type": "stream",
     "text": [
      " 28%|██▊       | 557/2000 [20:33<08:55,  2.70it/s]  "
     ]
    },
    {
     "name": "stdout",
     "output_type": "stream",
     "text": [
      "Using both positive and negative shear\n"
     ]
    },
    {
     "name": "stderr",
     "output_type": "stream",
     "text": []
    },
    {
     "name": "stdout",
     "output_type": "stream",
     "text": [
      "    # of sims: 100\n",
      "    noise cancel m   : -8.326484 +/-  45.110341 [1e-3, 3-sigma]\n",
      "    noise cancel c   :  170.985610 +/-  1617.176660 [1e-5, 3-sigma]\n"
     ]
    },
    {
     "name": "stderr",
     "output_type": "stream",
     "text": [
      " 28%|██▊       | 558/2000 [20:48<1:58:47,  4.94s/it]"
     ]
    },
    {
     "name": "stdout",
     "output_type": "stream",
     "text": [
      "0.28756126960237244\n"
     ]
    },
    {
     "name": "stderr",
     "output_type": "stream",
     "text": [
      " 28%|██▊       | 570/2000 [20:58<21:13,  1.12it/s]  "
     ]
    },
    {
     "name": "stdout",
     "output_type": "stream",
     "text": [
      "Using both positive and negative shear\n"
     ]
    },
    {
     "name": "stderr",
     "output_type": "stream",
     "text": []
    },
    {
     "name": "stdout",
     "output_type": "stream",
     "text": [
      "    # of sims: 100\n",
      "    noise cancel m   : -1.061600 +/-  8.819802 [1e-3, 3-sigma]\n",
      "    noise cancel c   :  1514.165387 +/-  3322.802465 [1e-5, 3-sigma]\n"
     ]
    },
    {
     "name": "stderr",
     "output_type": "stream",
     "text": [
      " 29%|██▊       | 571/2000 [21:51<6:38:09, 16.72s/it]"
     ]
    },
    {
     "name": "stdout",
     "output_type": "stream",
     "text": [
      "0.33781460232323196\n"
     ]
    },
    {
     "name": "stderr",
     "output_type": "stream",
     "text": [
      " 29%|██▊       | 572/2000 [21:52<4:41:26, 11.83s/it]"
     ]
    },
    {
     "name": "stdout",
     "output_type": "stream",
     "text": [
      "Using both positive and negative shear\n"
     ]
    },
    {
     "name": "stderr",
     "output_type": "stream",
     "text": []
    },
    {
     "name": "stdout",
     "output_type": "stream",
     "text": [
      "    # of sims: 100\n",
      "    noise cancel m   : -13.076456 +/-  34.404640 [1e-3, 3-sigma]\n",
      "    noise cancel c   : -129.863829 +/-  3627.759133 [1e-5, 3-sigma]\n"
     ]
    },
    {
     "name": "stderr",
     "output_type": "stream",
     "text": [
      " 29%|██▊       | 573/2000 [22:10<5:24:53, 13.66s/it]"
     ]
    },
    {
     "name": "stdout",
     "output_type": "stream",
     "text": [
      "0.35723063963167534\n"
     ]
    },
    {
     "name": "stderr",
     "output_type": "stream",
     "text": [
      " 29%|██▉       | 575/2000 [22:10<2:42:22,  6.84s/it]"
     ]
    },
    {
     "name": "stdout",
     "output_type": "stream",
     "text": [
      "Using both positive and negative shear\n"
     ]
    },
    {
     "name": "stderr",
     "output_type": "stream",
     "text": []
    },
    {
     "name": "stdout",
     "output_type": "stream",
     "text": [
      "    # of sims: 100\n",
      "    noise cancel m   : -2.626983 +/-  15.535408 [1e-3, 3-sigma]\n",
      "    noise cancel c   :  3354.095608 +/-  7398.994874 [1e-5, 3-sigma]\n"
     ]
    },
    {
     "name": "stderr",
     "output_type": "stream",
     "text": [
      " 29%|██▉       | 576/2000 [22:27<3:49:25,  9.67s/it]"
     ]
    },
    {
     "name": "stdout",
     "output_type": "stream",
     "text": [
      "0.4316797665658869\n"
     ]
    },
    {
     "name": "stderr",
     "output_type": "stream",
     "text": [
      " 29%|██▉       | 581/2000 [22:30<58:36,  2.48s/it]  "
     ]
    },
    {
     "name": "stdout",
     "output_type": "stream",
     "text": [
      "Using both positive and negative shear\n"
     ]
    },
    {
     "name": "stderr",
     "output_type": "stream",
     "text": []
    },
    {
     "name": "stdout",
     "output_type": "stream",
     "text": [
      "    # of sims: 100\n",
      "    noise cancel m   : -9.228761 +/-  43.454533 [1e-3, 3-sigma]\n",
      "    noise cancel c   :  1397.384481 +/-  3265.941488 [1e-5, 3-sigma]\n"
     ]
    },
    {
     "name": "stderr",
     "output_type": "stream",
     "text": [
      " 29%|██▉       | 582/2000 [22:46<2:33:35,  6.50s/it]"
     ]
    },
    {
     "name": "stdout",
     "output_type": "stream",
     "text": [
      "0.31197583091789105\n"
     ]
    },
    {
     "name": "stderr",
     "output_type": "stream",
     "text": [
      " 30%|██▉       | 591/2000 [22:50<14:27,  1.62it/s]  "
     ]
    },
    {
     "name": "stdout",
     "output_type": "stream",
     "text": [
      "Using both positive and negative shear\n"
     ]
    },
    {
     "name": "stderr",
     "output_type": "stream",
     "text": []
    },
    {
     "name": "stdout",
     "output_type": "stream",
     "text": [
      "    # of sims: 100\n",
      "    noise cancel m   :  6.686144 +/-  72.224515 [1e-3, 3-sigma]\n",
      "    noise cancel c   :  779.811811 +/-  2791.487706 [1e-5, 3-sigma]\n"
     ]
    },
    {
     "name": "stderr",
     "output_type": "stream",
     "text": [
      " 30%|██▉       | 592/2000 [23:05<2:00:15,  5.12s/it]"
     ]
    },
    {
     "name": "stdout",
     "output_type": "stream",
     "text": [
      "0.3258199346491734\n"
     ]
    },
    {
     "name": "stderr",
     "output_type": "stream",
     "text": [
      " 30%|██▉       | 596/2000 [23:07<35:22,  1.51s/it]  "
     ]
    },
    {
     "name": "stdout",
     "output_type": "stream",
     "text": [
      "Using both positive and negative shear\n"
     ]
    },
    {
     "name": "stderr",
     "output_type": "stream",
     "text": []
    },
    {
     "name": "stdout",
     "output_type": "stream",
     "text": [
      "    # of sims: 100\n",
      "    noise cancel m   : -9.367392 +/-  48.614314 [1e-3, 3-sigma]\n",
      "    noise cancel c   :  422.820684 +/-  1848.132486 [1e-5, 3-sigma]\n"
     ]
    },
    {
     "name": "stderr",
     "output_type": "stream",
     "text": [
      " 30%|██▉       | 597/2000 [23:22<2:14:47,  5.76s/it]"
     ]
    },
    {
     "name": "stdout",
     "output_type": "stream",
     "text": [
      "0.28383906056155245\n"
     ]
    },
    {
     "name": "stderr",
     "output_type": "stream",
     "text": [
      " 31%|███       | 615/2000 [23:29<11:26,  2.02it/s]  "
     ]
    },
    {
     "name": "stdout",
     "output_type": "stream",
     "text": [
      "Using both positive and negative shear\n"
     ]
    },
    {
     "name": "stderr",
     "output_type": "stream",
     "text": []
    },
    {
     "name": "stdout",
     "output_type": "stream",
     "text": [
      "    # of sims: 100\n",
      "    noise cancel m   : -7.987123 +/-  26.568442 [1e-3, 3-sigma]\n",
      "    noise cancel c   :  738.694522 +/-  1500.064446 [1e-5, 3-sigma]\n"
     ]
    },
    {
     "name": "stderr",
     "output_type": "stream",
     "text": [
      " 31%|███       | 616/2000 [23:46<2:03:38,  5.36s/it]"
     ]
    },
    {
     "name": "stdout",
     "output_type": "stream",
     "text": [
      "0.33885225971850663\n"
     ]
    },
    {
     "name": "stderr",
     "output_type": "stream",
     "text": [
      " 31%|███▏      | 628/2000 [23:50<09:56,  2.30it/s]  "
     ]
    },
    {
     "name": "stdout",
     "output_type": "stream",
     "text": [
      "Using both positive and negative shear\n"
     ]
    },
    {
     "name": "stderr",
     "output_type": "stream",
     "text": []
    },
    {
     "name": "stdout",
     "output_type": "stream",
     "text": [
      "    # of sims: 100\n",
      "    noise cancel m   : -20.364965 +/-  71.500256 [1e-3, 3-sigma]\n",
      "    noise cancel c   :  1000.834479 +/-  3070.679163 [1e-5, 3-sigma]\n"
     ]
    },
    {
     "name": "stderr",
     "output_type": "stream",
     "text": [
      " 31%|███▏      | 629/2000 [24:05<1:54:13,  5.00s/it]"
     ]
    },
    {
     "name": "stdout",
     "output_type": "stream",
     "text": [
      "0.28700373198189216\n"
     ]
    },
    {
     "name": "stderr",
     "output_type": "stream",
     "text": [
      " 32%|███▏      | 642/2000 [24:09<06:48,  3.33it/s]  "
     ]
    },
    {
     "name": "stdout",
     "output_type": "stream",
     "text": [
      "Using both positive and negative shear\n"
     ]
    },
    {
     "name": "stderr",
     "output_type": "stream",
     "text": []
    },
    {
     "name": "stdout",
     "output_type": "stream",
     "text": [
      "    # of sims: 100\n",
      "    noise cancel m   : -5.613412 +/-  89.352446 [1e-3, 3-sigma]\n",
      "    noise cancel c   :  321.231147 +/-  2955.262336 [1e-5, 3-sigma]\n"
     ]
    },
    {
     "name": "stderr",
     "output_type": "stream",
     "text": [
      " 32%|███▏      | 643/2000 [24:25<1:49:18,  4.83s/it]"
     ]
    },
    {
     "name": "stdout",
     "output_type": "stream",
     "text": [
      "0.29935721675771715\n"
     ]
    },
    {
     "name": "stderr",
     "output_type": "stream",
     "text": [
      " 32%|███▏      | 644/2000 [24:25<1:17:57,  3.45s/it]"
     ]
    },
    {
     "name": "stdout",
     "output_type": "stream",
     "text": [
      "Using both positive and negative shear\n"
     ]
    },
    {
     "name": "stderr",
     "output_type": "stream",
     "text": []
    },
    {
     "name": "stdout",
     "output_type": "stream",
     "text": [
      "    # of sims: 100\n",
      "    noise cancel m   : -5.339131 +/-  18.327126 [1e-3, 3-sigma]\n",
      "    noise cancel c   :  1193.276625 +/-  2630.149993 [1e-5, 3-sigma]\n"
     ]
    },
    {
     "name": "stderr",
     "output_type": "stream",
     "text": [
      " 32%|███▏      | 645/2000 [24:41<2:41:32,  7.15s/it]"
     ]
    },
    {
     "name": "stdout",
     "output_type": "stream",
     "text": [
      "0.30618942373956676\n"
     ]
    },
    {
     "name": "stderr",
     "output_type": "stream",
     "text": [
      " 32%|███▏      | 646/2000 [24:41<1:55:39,  5.12s/it]"
     ]
    },
    {
     "name": "stdout",
     "output_type": "stream",
     "text": [
      "Using both positive and negative shear\n"
     ]
    },
    {
     "name": "stderr",
     "output_type": "stream",
     "text": []
    },
    {
     "name": "stdout",
     "output_type": "stream",
     "text": [
      "    # of sims: 100\n",
      "    noise cancel m   : -4.827607 +/-  29.745571 [1e-3, 3-sigma]\n",
      "    noise cancel c   :  179.524644 +/-  1056.469603 [1e-5, 3-sigma]\n"
     ]
    },
    {
     "name": "stderr",
     "output_type": "stream",
     "text": [
      " 32%|███▏      | 647/2000 [24:57<3:07:36,  8.32s/it]"
     ]
    },
    {
     "name": "stdout",
     "output_type": "stream",
     "text": [
      "0.27240891553870694\n"
     ]
    },
    {
     "name": "stderr",
     "output_type": "stream",
     "text": [
      " 33%|███▎      | 653/2000 [24:59<30:25,  1.36s/it]  "
     ]
    },
    {
     "name": "stdout",
     "output_type": "stream",
     "text": [
      "Using both positive and negative shear\n"
     ]
    },
    {
     "name": "stderr",
     "output_type": "stream",
     "text": []
    },
    {
     "name": "stdout",
     "output_type": "stream",
     "text": [
      "    # of sims: 100\n",
      "    noise cancel m   :  826.716697 +/-  60241.203462 [1e-3, 3-sigma]\n",
      "    noise cancel c   :  1186.543008 +/-  3296.497116 [1e-5, 3-sigma]\n"
     ]
    },
    {
     "name": "stderr",
     "output_type": "stream",
     "text": [
      " 33%|███▎      | 654/2000 [25:24<3:03:16,  8.17s/it]"
     ]
    },
    {
     "name": "stdout",
     "output_type": "stream",
     "text": [
      "0.15989659750175214\n"
     ]
    },
    {
     "name": "stderr",
     "output_type": "stream",
     "text": [
      " 33%|███▎      | 657/2000 [25:25<1:11:59,  3.22s/it]"
     ]
    },
    {
     "name": "stdout",
     "output_type": "stream",
     "text": [
      "Using both positive and negative shear\n"
     ]
    },
    {
     "name": "stderr",
     "output_type": "stream",
     "text": []
    },
    {
     "name": "stdout",
     "output_type": "stream",
     "text": [
      "    # of sims: 100\n",
      "    noise cancel m   : -9.774759 +/-  42.204075 [1e-3, 3-sigma]\n",
      "    noise cancel c   :  514.203817 +/-  1528.538325 [1e-5, 3-sigma]\n"
     ]
    },
    {
     "name": "stderr",
     "output_type": "stream",
     "text": [
      " 33%|███▎      | 658/2000 [25:42<2:44:41,  7.36s/it]"
     ]
    },
    {
     "name": "stdout",
     "output_type": "stream",
     "text": [
      "0.3412875778005857\n"
     ]
    },
    {
     "name": "stderr",
     "output_type": "stream",
     "text": [
      " 34%|███▎      | 671/2000 [25:48<06:34,  3.37it/s]  "
     ]
    },
    {
     "name": "stdout",
     "output_type": "stream",
     "text": [
      "Using both positive and negative shear\n"
     ]
    },
    {
     "name": "stderr",
     "output_type": "stream",
     "text": []
    },
    {
     "name": "stdout",
     "output_type": "stream",
     "text": [
      "    # of sims: 100\n",
      "    noise cancel m   : -6.211670 +/-  31.211536 [1e-3, 3-sigma]\n",
      "    noise cancel c   :  404.798841 +/-  1309.419748 [1e-5, 3-sigma]\n"
     ]
    },
    {
     "name": "stderr",
     "output_type": "stream",
     "text": [
      " 34%|███▎      | 672/2000 [26:04<1:52:08,  5.07s/it]"
     ]
    },
    {
     "name": "stdout",
     "output_type": "stream",
     "text": [
      "0.4133224796564399\n",
      "Using both positive and negative shear\n"
     ]
    },
    {
     "name": "stderr",
     "output_type": "stream",
     "text": []
    },
    {
     "name": "stdout",
     "output_type": "stream",
     "text": [
      "    # of sims: 100\n",
      "    noise cancel m   : -7.655481 +/-  49.306341 [1e-3, 3-sigma]\n",
      "    noise cancel c   :  1222.709350 +/-  3260.158251 [1e-5, 3-sigma]\n"
     ]
    },
    {
     "name": "stderr",
     "output_type": "stream",
     "text": [
      " 34%|███▎      | 673/2000 [26:21<3:09:01,  8.55s/it]"
     ]
    },
    {
     "name": "stdout",
     "output_type": "stream",
     "text": [
      "0.2842201628198263\n"
     ]
    },
    {
     "name": "stderr",
     "output_type": "stream",
     "text": [
      " 34%|███▍      | 678/2000 [26:23<36:43,  1.67s/it]  "
     ]
    },
    {
     "name": "stdout",
     "output_type": "stream",
     "text": [
      "Using both positive and negative shear\n"
     ]
    },
    {
     "name": "stderr",
     "output_type": "stream",
     "text": []
    },
    {
     "name": "stdout",
     "output_type": "stream",
     "text": [
      "    # of sims: 100\n",
      "    noise cancel m   : -11.561367 +/-  67.936867 [1e-3, 3-sigma]\n",
      "    noise cancel c   :  1685.939410 +/-  4279.120694 [1e-5, 3-sigma]\n"
     ]
    },
    {
     "name": "stderr",
     "output_type": "stream",
     "text": [
      " 34%|███▍      | 679/2000 [26:39<2:16:08,  6.18s/it]"
     ]
    },
    {
     "name": "stdout",
     "output_type": "stream",
     "text": [
      "0.4086263888460021\n"
     ]
    },
    {
     "name": "stderr",
     "output_type": "stream",
     "text": [
      " 34%|███▍      | 686/2000 [26:41<15:48,  1.39it/s]  "
     ]
    },
    {
     "name": "stdout",
     "output_type": "stream",
     "text": [
      "Using both positive and negative shear\n"
     ]
    },
    {
     "name": "stderr",
     "output_type": "stream",
     "text": []
    },
    {
     "name": "stdout",
     "output_type": "stream",
     "text": [
      "    # of sims: 100\n",
      "    noise cancel m   : -37.115497 +/-  96.656044 [1e-3, 3-sigma]\n",
      "    noise cancel c   :  204.840991 +/-  2765.241808 [1e-5, 3-sigma]\n"
     ]
    },
    {
     "name": "stderr",
     "output_type": "stream",
     "text": [
      " 34%|███▍      | 687/2000 [26:58<2:01:06,  5.53s/it]"
     ]
    },
    {
     "name": "stdout",
     "output_type": "stream",
     "text": [
      "0.3394784900624327\n",
      "Using both positive and negative shear\n"
     ]
    },
    {
     "name": "stderr",
     "output_type": "stream",
     "text": []
    },
    {
     "name": "stdout",
     "output_type": "stream",
     "text": [
      "    # of sims: 100\n",
      "    noise cancel m   : -18.100166 +/-  53.364260 [1e-3, 3-sigma]\n",
      "    noise cancel c   :  551.863480 +/-  1940.942791 [1e-5, 3-sigma]\n"
     ]
    },
    {
     "name": "stderr",
     "output_type": "stream",
     "text": [
      " 34%|███▍      | 688/2000 [27:13<3:05:50,  8.50s/it]"
     ]
    },
    {
     "name": "stdout",
     "output_type": "stream",
     "text": [
      "0.38004508979724144\n",
      "Using both positive and negative shear\n"
     ]
    },
    {
     "name": "stderr",
     "output_type": "stream",
     "text": []
    },
    {
     "name": "stdout",
     "output_type": "stream",
     "text": [
      "    # of sims: 100\n",
      "    noise cancel m   : -18.317254 +/-  56.486059 [1e-3, 3-sigma]\n",
      "    noise cancel c   :  496.132973 +/-  2150.764440 [1e-5, 3-sigma]\n"
     ]
    },
    {
     "name": "stderr",
     "output_type": "stream",
     "text": [
      " 34%|███▍      | 689/2000 [27:29<3:55:04, 10.76s/it]"
     ]
    },
    {
     "name": "stdout",
     "output_type": "stream",
     "text": [
      "0.3011706276971643\n",
      "Using both positive and negative shear\n"
     ]
    },
    {
     "name": "stderr",
     "output_type": "stream",
     "text": []
    },
    {
     "name": "stdout",
     "output_type": "stream",
     "text": [
      "    # of sims: 100\n",
      "    noise cancel m   : -18.118569 +/-  86.381312 [1e-3, 3-sigma]\n",
      "    noise cancel c   :  244.883804 +/-  3101.588001 [1e-5, 3-sigma]\n"
     ]
    },
    {
     "name": "stderr",
     "output_type": "stream",
     "text": [
      " 34%|███▍      | 690/2000 [27:45<4:30:05, 12.37s/it]"
     ]
    },
    {
     "name": "stdout",
     "output_type": "stream",
     "text": [
      "0.460776895123454\n"
     ]
    },
    {
     "name": "stderr",
     "output_type": "stream",
     "text": [
      " 35%|███▌      | 705/2000 [27:51<09:00,  2.40it/s]  "
     ]
    },
    {
     "name": "stdout",
     "output_type": "stream",
     "text": [
      "Using both positive and negative shear\n"
     ]
    },
    {
     "name": "stderr",
     "output_type": "stream",
     "text": []
    },
    {
     "name": "stdout",
     "output_type": "stream",
     "text": [
      "    # of sims: 100\n",
      "    noise cancel m   : -3.933551 +/-  46.380622 [1e-3, 3-sigma]\n",
      "    noise cancel c   :  206.219766 +/-  1602.208670 [1e-5, 3-sigma]\n"
     ]
    },
    {
     "name": "stderr",
     "output_type": "stream",
     "text": [
      " 35%|███▌      | 706/2000 [28:06<1:44:31,  4.85s/it]"
     ]
    },
    {
     "name": "stdout",
     "output_type": "stream",
     "text": [
      "0.28600964071135904\n"
     ]
    },
    {
     "name": "stderr",
     "output_type": "stream",
     "text": [
      " 36%|███▌      | 720/2000 [28:11<06:20,  3.37it/s]  "
     ]
    },
    {
     "name": "stdout",
     "output_type": "stream",
     "text": [
      "Using both positive and negative shear\n"
     ]
    },
    {
     "name": "stderr",
     "output_type": "stream",
     "text": []
    },
    {
     "name": "stdout",
     "output_type": "stream",
     "text": [
      "    # of sims: 100\n",
      "    noise cancel m   : -5.384543 +/-  50.364546 [1e-3, 3-sigma]\n",
      "    noise cancel c   :  656.184538 +/-  2110.489674 [1e-5, 3-sigma]\n"
     ]
    },
    {
     "name": "stderr",
     "output_type": "stream",
     "text": [
      " 36%|███▌      | 721/2000 [28:27<1:47:03,  5.02s/it]"
     ]
    },
    {
     "name": "stdout",
     "output_type": "stream",
     "text": [
      "0.4051288122689501\n"
     ]
    },
    {
     "name": "stderr",
     "output_type": "stream",
     "text": [
      " 37%|███▋      | 735/2000 [28:31<07:28,  2.82it/s]  "
     ]
    },
    {
     "name": "stdout",
     "output_type": "stream",
     "text": [
      "Using both positive and negative shear\n"
     ]
    },
    {
     "name": "stderr",
     "output_type": "stream",
     "text": []
    },
    {
     "name": "stdout",
     "output_type": "stream",
     "text": [
      "    # of sims: 100\n",
      "    noise cancel m   : -68.442908 +/-  274.509004 [1e-3, 3-sigma]\n",
      "    noise cancel c   :  975.276342 +/-  2423.232196 [1e-5, 3-sigma]\n"
     ]
    },
    {
     "name": "stderr",
     "output_type": "stream",
     "text": [
      " 37%|███▋      | 736/2000 [28:49<2:00:12,  5.71s/it]"
     ]
    },
    {
     "name": "stdout",
     "output_type": "stream",
     "text": [
      "0.35926262045169133\n"
     ]
    },
    {
     "name": "stderr",
     "output_type": "stream",
     "text": [
      " 37%|███▋      | 740/2000 [28:51<34:51,  1.66s/it]  "
     ]
    },
    {
     "name": "stdout",
     "output_type": "stream",
     "text": [
      "Using both positive and negative shear\n"
     ]
    },
    {
     "name": "stderr",
     "output_type": "stream",
     "text": []
    },
    {
     "name": "stdout",
     "output_type": "stream",
     "text": [
      "    # of sims: 100\n",
      "    noise cancel m   : -9.151290 +/-  45.977099 [1e-3, 3-sigma]\n",
      "    noise cancel c   :  714.765083 +/-  2609.399890 [1e-5, 3-sigma]\n"
     ]
    },
    {
     "name": "stderr",
     "output_type": "stream",
     "text": [
      " 37%|███▋      | 741/2000 [29:40<5:35:25, 15.99s/it]"
     ]
    },
    {
     "name": "stdout",
     "output_type": "stream",
     "text": [
      "0.27166130596865457\n"
     ]
    },
    {
     "name": "stderr",
     "output_type": "stream",
     "text": [
      " 37%|███▋      | 742/2000 [29:41<3:58:46, 11.39s/it]"
     ]
    },
    {
     "name": "stdout",
     "output_type": "stream",
     "text": [
      "Using both positive and negative shear\n"
     ]
    },
    {
     "name": "stderr",
     "output_type": "stream",
     "text": []
    },
    {
     "name": "stdout",
     "output_type": "stream",
     "text": [
      "    # of sims: 100\n",
      "    noise cancel m   : -8.083682 +/-  46.706838 [1e-3, 3-sigma]\n",
      "    noise cancel c   :  450.664912 +/-  1809.358197 [1e-5, 3-sigma]\n"
     ]
    },
    {
     "name": "stderr",
     "output_type": "stream",
     "text": [
      " 37%|███▋      | 743/2000 [30:06<5:23:33, 15.44s/it]"
     ]
    },
    {
     "name": "stdout",
     "output_type": "stream",
     "text": [
      "0.32083883215466913\n"
     ]
    },
    {
     "name": "stderr",
     "output_type": "stream",
     "text": [
      " 37%|███▋      | 749/2000 [30:14<53:01,  2.54s/it]  "
     ]
    },
    {
     "name": "stdout",
     "output_type": "stream",
     "text": [
      "Using both positive and negative shear\n"
     ]
    },
    {
     "name": "stderr",
     "output_type": "stream",
     "text": []
    },
    {
     "name": "stdout",
     "output_type": "stream",
     "text": [
      "    # of sims: 100\n",
      "    noise cancel m   : -71.434595 +/-  179.695571 [1e-3, 3-sigma]\n",
      "    noise cancel c   :  538.179943 +/-  1016.619510 [1e-5, 3-sigma]\n"
     ]
    },
    {
     "name": "stderr",
     "output_type": "stream",
     "text": [
      " 38%|███▊      | 750/2000 [30:31<2:22:31,  6.84s/it]"
     ]
    },
    {
     "name": "stdout",
     "output_type": "stream",
     "text": [
      "0.36775856936595663\n",
      "Using both positive and negative shear\n"
     ]
    },
    {
     "name": "stderr",
     "output_type": "stream",
     "text": []
    },
    {
     "name": "stdout",
     "output_type": "stream",
     "text": [
      "    # of sims: 100\n",
      "    noise cancel m   : -17.236799 +/-  48.047549 [1e-3, 3-sigma]\n",
      "    noise cancel c   :  3474.563202 +/-  7834.595423 [1e-5, 3-sigma]\n"
     ]
    },
    {
     "name": "stderr",
     "output_type": "stream",
     "text": [
      " 38%|███▊      | 751/2000 [30:47<3:21:25,  9.68s/it]"
     ]
    },
    {
     "name": "stdout",
     "output_type": "stream",
     "text": [
      "0.4274771964436382\n"
     ]
    },
    {
     "name": "stderr",
     "output_type": "stream",
     "text": [
      " 38%|███▊      | 753/2000 [30:48<1:41:44,  4.90s/it]"
     ]
    },
    {
     "name": "stdout",
     "output_type": "stream",
     "text": [
      "Using both positive and negative shear\n"
     ]
    },
    {
     "name": "stderr",
     "output_type": "stream",
     "text": []
    },
    {
     "name": "stdout",
     "output_type": "stream",
     "text": [
      "    # of sims: 100\n",
      "    noise cancel m   : -6.635866 +/-  35.081449 [1e-3, 3-sigma]\n",
      "    noise cancel c   :  1492.498226 +/-  3389.249243 [1e-5, 3-sigma]\n"
     ]
    },
    {
     "name": "stderr",
     "output_type": "stream",
     "text": [
      " 38%|███▊      | 754/2000 [31:04<2:50:43,  8.22s/it]"
     ]
    },
    {
     "name": "stdout",
     "output_type": "stream",
     "text": [
      "0.26320613344907123\n"
     ]
    },
    {
     "name": "stderr",
     "output_type": "stream",
     "text": [
      " 38%|███▊      | 757/2000 [31:04<1:01:29,  2.97s/it]"
     ]
    },
    {
     "name": "stdout",
     "output_type": "stream",
     "text": [
      "Using both positive and negative shear\n"
     ]
    },
    {
     "name": "stderr",
     "output_type": "stream",
     "text": []
    },
    {
     "name": "stdout",
     "output_type": "stream",
     "text": [
      "    # of sims: 100\n",
      "    noise cancel m   : -3.699438 +/-  17.080716 [1e-3, 3-sigma]\n",
      "    noise cancel c   :  2682.394201 +/-  5909.284911 [1e-5, 3-sigma]\n"
     ]
    },
    {
     "name": "stderr",
     "output_type": "stream",
     "text": [
      " 38%|███▊      | 758/2000 [31:20<2:18:43,  6.70s/it]"
     ]
    },
    {
     "name": "stdout",
     "output_type": "stream",
     "text": [
      "0.4245577010561098\n"
     ]
    },
    {
     "name": "stderr",
     "output_type": "stream",
     "text": [
      " 38%|███▊      | 760/2000 [31:20<1:10:59,  3.44s/it]"
     ]
    },
    {
     "name": "stdout",
     "output_type": "stream",
     "text": [
      "Using both positive and negative shear\n"
     ]
    },
    {
     "name": "stderr",
     "output_type": "stream",
     "text": []
    },
    {
     "name": "stdout",
     "output_type": "stream",
     "text": [
      "    # of sims: 100\n",
      "    noise cancel m   : -3.411426 +/-  27.830430 [1e-3, 3-sigma]\n",
      "    noise cancel c   :  543.232240 +/-  1443.042437 [1e-5, 3-sigma]\n"
     ]
    },
    {
     "name": "stderr",
     "output_type": "stream",
     "text": [
      " 38%|███▊      | 761/2000 [31:36<2:25:52,  7.06s/it]"
     ]
    },
    {
     "name": "stdout",
     "output_type": "stream",
     "text": [
      "0.3020230136610881\n"
     ]
    },
    {
     "name": "stderr",
     "output_type": "stream",
     "text": [
      " 38%|███▊      | 763/2000 [31:37<1:14:24,  3.61s/it]"
     ]
    },
    {
     "name": "stdout",
     "output_type": "stream",
     "text": [
      "Using both positive and negative shear\n"
     ]
    },
    {
     "name": "stderr",
     "output_type": "stream",
     "text": []
    },
    {
     "name": "stdout",
     "output_type": "stream",
     "text": [
      "    # of sims: 100\n",
      "    noise cancel m   : -18.985190 +/-  108.468946 [1e-3, 3-sigma]\n",
      "    noise cancel c   :  720.661838 +/-  4189.066120 [1e-5, 3-sigma]\n"
     ]
    },
    {
     "name": "stderr",
     "output_type": "stream",
     "text": [
      " 38%|███▊      | 764/2000 [31:52<2:26:42,  7.12s/it]"
     ]
    },
    {
     "name": "stdout",
     "output_type": "stream",
     "text": [
      "0.32131923046444244\n"
     ]
    },
    {
     "name": "stderr",
     "output_type": "stream",
     "text": [
      " 39%|███▊      | 772/2000 [31:54<14:15,  1.44it/s]  "
     ]
    },
    {
     "name": "stdout",
     "output_type": "stream",
     "text": [
      "Using both positive and negative shear\n"
     ]
    },
    {
     "name": "stderr",
     "output_type": "stream",
     "text": []
    },
    {
     "name": "stdout",
     "output_type": "stream",
     "text": [
      "    # of sims: 100\n",
      "    noise cancel m   : -6.437960 +/-  34.610292 [1e-3, 3-sigma]\n",
      "    noise cancel c   :  222.551977 +/-  1257.006389 [1e-5, 3-sigma]\n"
     ]
    },
    {
     "name": "stderr",
     "output_type": "stream",
     "text": [
      " 39%|███▊      | 773/2000 [32:09<1:42:53,  5.03s/it]"
     ]
    },
    {
     "name": "stdout",
     "output_type": "stream",
     "text": [
      "0.30845646648083436\n",
      "Using both positive and negative shear\n"
     ]
    },
    {
     "name": "stderr",
     "output_type": "stream",
     "text": []
    },
    {
     "name": "stdout",
     "output_type": "stream",
     "text": [
      "    # of sims: 100\n",
      "    noise cancel m   : -9.944463 +/-  38.699235 [1e-3, 3-sigma]\n",
      "    noise cancel c   :  2096.739431 +/-  4669.426132 [1e-5, 3-sigma]\n"
     ]
    },
    {
     "name": "stderr",
     "output_type": "stream",
     "text": [
      " 39%|███▊      | 774/2000 [32:25<2:46:25,  8.14s/it]"
     ]
    },
    {
     "name": "stdout",
     "output_type": "stream",
     "text": [
      "0.39996065272512493\n"
     ]
    },
    {
     "name": "stderr",
     "output_type": "stream",
     "text": [
      " 39%|███▉      | 783/2000 [32:28<12:00,  1.69it/s]  "
     ]
    },
    {
     "name": "stdout",
     "output_type": "stream",
     "text": [
      "Using both positive and negative shear\n"
     ]
    },
    {
     "name": "stderr",
     "output_type": "stream",
     "text": []
    },
    {
     "name": "stdout",
     "output_type": "stream",
     "text": [
      "    # of sims: 100\n",
      "    noise cancel m   : -2.039342 +/-  12.920243 [1e-3, 3-sigma]\n",
      "    noise cancel c   :  1070.551708 +/-  2348.444158 [1e-5, 3-sigma]\n"
     ]
    },
    {
     "name": "stderr",
     "output_type": "stream",
     "text": [
      " 39%|███▉      | 784/2000 [32:43<1:42:41,  5.07s/it]"
     ]
    },
    {
     "name": "stdout",
     "output_type": "stream",
     "text": [
      "0.3386041176361391\n"
     ]
    },
    {
     "name": "stderr",
     "output_type": "stream",
     "text": [
      " 39%|███▉      | 785/2000 [32:43<1:12:59,  3.60s/it]"
     ]
    },
    {
     "name": "stdout",
     "output_type": "stream",
     "text": [
      "Using both positive and negative shear\n"
     ]
    },
    {
     "name": "stderr",
     "output_type": "stream",
     "text": []
    },
    {
     "name": "stdout",
     "output_type": "stream",
     "text": [
      "    # of sims: 100\n",
      "    noise cancel m   : -6.608341 +/-  30.327239 [1e-3, 3-sigma]\n",
      "    noise cancel c   :  322.847961 +/-  1195.504262 [1e-5, 3-sigma]\n"
     ]
    },
    {
     "name": "stderr",
     "output_type": "stream",
     "text": [
      " 39%|███▉      | 786/2000 [32:59<2:26:18,  7.23s/it]"
     ]
    },
    {
     "name": "stdout",
     "output_type": "stream",
     "text": [
      "0.3285908042967416\n"
     ]
    },
    {
     "name": "stderr",
     "output_type": "stream",
     "text": [
      " 39%|███▉      | 788/2000 [33:00<1:14:56,  3.71s/it]"
     ]
    },
    {
     "name": "stdout",
     "output_type": "stream",
     "text": [
      "Using both positive and negative shear\n"
     ]
    },
    {
     "name": "stderr",
     "output_type": "stream",
     "text": []
    },
    {
     "name": "stdout",
     "output_type": "stream",
     "text": [
      "    # of sims: 100\n",
      "    noise cancel m   : -1.846931 +/-  9.579567 [1e-3, 3-sigma]\n",
      "    noise cancel c   :  1842.706759 +/-  4049.572209 [1e-5, 3-sigma]\n"
     ]
    },
    {
     "name": "stderr",
     "output_type": "stream",
     "text": [
      " 39%|███▉      | 789/2000 [33:15<2:24:55,  7.18s/it]"
     ]
    },
    {
     "name": "stdout",
     "output_type": "stream",
     "text": [
      "0.4186500085839133\n",
      "Using both positive and negative shear\n"
     ]
    },
    {
     "name": "stderr",
     "output_type": "stream",
     "text": []
    },
    {
     "name": "stdout",
     "output_type": "stream",
     "text": [
      "    # of sims: 100\n",
      "    noise cancel m   : -16.448492 +/-  309.803900 [1e-3, 3-sigma]\n",
      "    noise cancel c   :  956.441138 +/-  2241.142591 [1e-5, 3-sigma]\n"
     ]
    },
    {
     "name": "stderr",
     "output_type": "stream",
     "text": [
      " 40%|███▉      | 790/2000 [33:32<3:26:46, 10.25s/it]"
     ]
    },
    {
     "name": "stdout",
     "output_type": "stream",
     "text": [
      "0.35083305376451146\n"
     ]
    },
    {
     "name": "stderr",
     "output_type": "stream",
     "text": [
      " 40%|███▉      | 791/2000 [33:33<2:26:05,  7.25s/it]"
     ]
    },
    {
     "name": "stdout",
     "output_type": "stream",
     "text": [
      "Using both positive and negative shear\n"
     ]
    },
    {
     "name": "stderr",
     "output_type": "stream",
     "text": []
    },
    {
     "name": "stdout",
     "output_type": "stream",
     "text": [
      "    # of sims: 100\n",
      "    noise cancel m   :  39.093122 +/-  106.287986 [1e-3, 3-sigma]\n",
      "    noise cancel c   :  2064.169672 +/-  4451.580111 [1e-5, 3-sigma]\n"
     ]
    },
    {
     "name": "stderr",
     "output_type": "stream",
     "text": [
      " 40%|███▉      | 792/2000 [33:50<3:26:52, 10.28s/it]"
     ]
    },
    {
     "name": "stdout",
     "output_type": "stream",
     "text": [
      "0.3356825795974846\n",
      "Using both positive and negative shear\n"
     ]
    },
    {
     "name": "stderr",
     "output_type": "stream",
     "text": []
    },
    {
     "name": "stdout",
     "output_type": "stream",
     "text": [
      "    # of sims: 100\n",
      "    noise cancel m   : -32.034312 +/-  73.783793 [1e-3, 3-sigma]\n",
      "    noise cancel c   :  1751.773184 +/-  4450.200457 [1e-5, 3-sigma]\n"
     ]
    },
    {
     "name": "stderr",
     "output_type": "stream",
     "text": [
      " 40%|███▉      | 793/2000 [34:05<3:56:18, 11.75s/it]"
     ]
    },
    {
     "name": "stdout",
     "output_type": "stream",
     "text": [
      "0.4249112463315815\n"
     ]
    },
    {
     "name": "stderr",
     "output_type": "stream",
     "text": [
      " 40%|████      | 803/2000 [34:08<11:59,  1.66it/s]  "
     ]
    },
    {
     "name": "stdout",
     "output_type": "stream",
     "text": [
      "Using both positive and negative shear\n"
     ]
    },
    {
     "name": "stderr",
     "output_type": "stream",
     "text": []
    },
    {
     "name": "stdout",
     "output_type": "stream",
     "text": [
      "    # of sims: 100\n",
      "    noise cancel m   : -15.470580 +/-  54.778263 [1e-3, 3-sigma]\n",
      "    noise cancel c   :  4139.102583 +/-  5158.342116 [1e-5, 3-sigma]\n"
     ]
    },
    {
     "name": "stderr",
     "output_type": "stream",
     "text": [
      " 40%|████      | 804/2000 [34:24<1:41:27,  5.09s/it]"
     ]
    },
    {
     "name": "stdout",
     "output_type": "stream",
     "text": [
      "0.31891291617569767\n"
     ]
    },
    {
     "name": "stderr",
     "output_type": "stream",
     "text": [
      " 41%|████      | 814/2000 [34:27<08:05,  2.45it/s]  "
     ]
    },
    {
     "name": "stdout",
     "output_type": "stream",
     "text": [
      "Using both positive and negative shear\n"
     ]
    },
    {
     "name": "stderr",
     "output_type": "stream",
     "text": []
    },
    {
     "name": "stdout",
     "output_type": "stream",
     "text": [
      "    # of sims: 100\n",
      "    noise cancel m   : -6.724222 +/-  24.055037 [1e-3, 3-sigma]\n",
      "    noise cancel c   :  1325.214697 +/-  3025.771035 [1e-5, 3-sigma]\n"
     ]
    },
    {
     "name": "stderr",
     "output_type": "stream",
     "text": [
      " 41%|████      | 815/2000 [34:42<1:36:24,  4.88s/it]"
     ]
    },
    {
     "name": "stdout",
     "output_type": "stream",
     "text": [
      "0.41673116921281683\n"
     ]
    },
    {
     "name": "stderr",
     "output_type": "stream",
     "text": [
      " 41%|████      | 818/2000 [34:43<35:32,  1.80s/it]  "
     ]
    },
    {
     "name": "stdout",
     "output_type": "stream",
     "text": [
      "Using both positive and negative shear\n"
     ]
    },
    {
     "name": "stderr",
     "output_type": "stream",
     "text": []
    },
    {
     "name": "stdout",
     "output_type": "stream",
     "text": [
      "    # of sims: 100\n",
      "    noise cancel m   : -4.073862 +/-  10.010648 [1e-3, 3-sigma]\n",
      "    noise cancel c   :  2978.650413 +/-  4747.442761 [1e-5, 3-sigma]\n"
     ]
    },
    {
     "name": "stderr",
     "output_type": "stream",
     "text": [
      " 41%|████      | 819/2000 [35:02<2:17:55,  7.01s/it]"
     ]
    },
    {
     "name": "stdout",
     "output_type": "stream",
     "text": [
      "0.32138216776471623\n"
     ]
    },
    {
     "name": "stderr",
     "output_type": "stream",
     "text": [
      " 41%|████      | 822/2000 [35:03<50:20,  2.56s/it]  "
     ]
    },
    {
     "name": "stdout",
     "output_type": "stream",
     "text": [
      "Using both positive and negative shear\n"
     ]
    },
    {
     "name": "stderr",
     "output_type": "stream",
     "text": []
    },
    {
     "name": "stdout",
     "output_type": "stream",
     "text": [
      "    # of sims: 100\n",
      "    noise cancel m   : -4.075800 +/-  11.325714 [1e-3, 3-sigma]\n",
      "    noise cancel c   :  1090.440170 +/-  2365.976666 [1e-5, 3-sigma]\n"
     ]
    },
    {
     "name": "stderr",
     "output_type": "stream",
     "text": [
      " 41%|████      | 823/2000 [35:19<2:09:03,  6.58s/it]"
     ]
    },
    {
     "name": "stdout",
     "output_type": "stream",
     "text": [
      "0.32711611793329476\n",
      "Using both positive and negative shear\n"
     ]
    },
    {
     "name": "stderr",
     "output_type": "stream",
     "text": []
    },
    {
     "name": "stdout",
     "output_type": "stream",
     "text": [
      "    # of sims: 100\n",
      "    noise cancel m   : -6.221375 +/-  89.049631 [1e-3, 3-sigma]\n",
      "    noise cancel c   :  290.149581 +/-  3124.950755 [1e-5, 3-sigma]\n"
     ]
    },
    {
     "name": "stderr",
     "output_type": "stream",
     "text": [
      " 41%|████      | 824/2000 [35:34<2:59:25,  9.15s/it]"
     ]
    },
    {
     "name": "stdout",
     "output_type": "stream",
     "text": [
      "0.4261996059129505\n"
     ]
    },
    {
     "name": "stderr",
     "output_type": "stream",
     "text": [
      " 42%|████▏     | 835/2000 [35:37<11:48,  1.64it/s]  "
     ]
    },
    {
     "name": "stdout",
     "output_type": "stream",
     "text": [
      "Using both positive and negative shear\n"
     ]
    },
    {
     "name": "stderr",
     "output_type": "stream",
     "text": []
    },
    {
     "name": "stdout",
     "output_type": "stream",
     "text": [
      "    # of sims: 100\n",
      "    noise cancel m   : -147.459593 +/-  335.124179 [1e-3, 3-sigma]\n",
      "    noise cancel c   :  922.350864 +/-  2030.931627 [1e-5, 3-sigma]\n"
     ]
    },
    {
     "name": "stderr",
     "output_type": "stream",
     "text": [
      " 42%|████▏     | 836/2000 [35:53<1:36:58,  5.00s/it]"
     ]
    },
    {
     "name": "stdout",
     "output_type": "stream",
     "text": [
      "0.3214807603518937\n"
     ]
    },
    {
     "name": "stderr",
     "output_type": "stream",
     "text": [
      " 42%|████▏     | 837/2000 [35:53<1:09:52,  3.61s/it]"
     ]
    },
    {
     "name": "stdout",
     "output_type": "stream",
     "text": [
      "Using both positive and negative shear\n"
     ]
    },
    {
     "name": "stderr",
     "output_type": "stream",
     "text": []
    },
    {
     "name": "stdout",
     "output_type": "stream",
     "text": [
      "    # of sims: 100\n",
      "    noise cancel m   : -1.259722 +/-  12.210532 [1e-3, 3-sigma]\n",
      "    noise cancel c   :  1430.913375 +/-  3134.301984 [1e-5, 3-sigma]\n"
     ]
    },
    {
     "name": "stderr",
     "output_type": "stream",
     "text": [
      " 42%|████▏     | 838/2000 [36:08<2:17:38,  7.11s/it]"
     ]
    },
    {
     "name": "stdout",
     "output_type": "stream",
     "text": [
      "0.2890152366440932\n"
     ]
    },
    {
     "name": "stderr",
     "output_type": "stream",
     "text": [
      " 44%|████▎     | 872/2000 [36:30<05:47,  3.25it/s]  "
     ]
    },
    {
     "name": "stdout",
     "output_type": "stream",
     "text": [
      "Using both positive and negative shear\n"
     ]
    },
    {
     "name": "stderr",
     "output_type": "stream",
     "text": []
    },
    {
     "name": "stdout",
     "output_type": "stream",
     "text": [
      "    # of sims: 100\n",
      "    noise cancel m   : -5.785428 +/-  31.648094 [1e-3, 3-sigma]\n",
      "    noise cancel c   :  427.959672 +/-  1342.793364 [1e-5, 3-sigma]\n"
     ]
    },
    {
     "name": "stderr",
     "output_type": "stream",
     "text": [
      " 44%|████▎     | 873/2000 [36:45<1:32:21,  4.92s/it]"
     ]
    },
    {
     "name": "stdout",
     "output_type": "stream",
     "text": [
      "0.2923046625257869\n",
      "Using both positive and negative shear\n"
     ]
    },
    {
     "name": "stderr",
     "output_type": "stream",
     "text": []
    },
    {
     "name": "stdout",
     "output_type": "stream",
     "text": [
      "    # of sims: 100\n",
      "    noise cancel m   : -6.016127 +/-  15.652858 [1e-3, 3-sigma]\n",
      "    noise cancel c   :  166.909488 +/-  589.896282 [1e-5, 3-sigma]\n"
     ]
    },
    {
     "name": "stderr",
     "output_type": "stream",
     "text": [
      " 44%|████▎     | 874/2000 [37:02<2:36:34,  8.34s/it]"
     ]
    },
    {
     "name": "stdout",
     "output_type": "stream",
     "text": [
      "0.32345089264530197\n"
     ]
    },
    {
     "name": "stderr",
     "output_type": "stream",
     "text": [
      " 44%|████▍     | 885/2000 [37:05<08:12,  2.27it/s]  "
     ]
    },
    {
     "name": "stdout",
     "output_type": "stream",
     "text": [
      "Using both positive and negative shear\n"
     ]
    },
    {
     "name": "stderr",
     "output_type": "stream",
     "text": []
    },
    {
     "name": "stdout",
     "output_type": "stream",
     "text": [
      "    # of sims: 100\n",
      "    noise cancel m   : -13.933954 +/-  63.412922 [1e-3, 3-sigma]\n",
      "    noise cancel c   :  4884.206576 +/-  10921.752618 [1e-5, 3-sigma]\n"
     ]
    },
    {
     "name": "stderr",
     "output_type": "stream",
     "text": [
      " 44%|████▍     | 886/2000 [37:21<1:32:45,  5.00s/it]"
     ]
    },
    {
     "name": "stdout",
     "output_type": "stream",
     "text": [
      "0.356177482580446\n"
     ]
    },
    {
     "name": "stderr",
     "output_type": "stream",
     "text": [
      " 44%|████▍     | 887/2000 [37:21<1:06:00,  3.56s/it]"
     ]
    },
    {
     "name": "stdout",
     "output_type": "stream",
     "text": [
      "Using both positive and negative shear\n"
     ]
    },
    {
     "name": "stderr",
     "output_type": "stream",
     "text": []
    },
    {
     "name": "stdout",
     "output_type": "stream",
     "text": [
      "    # of sims: 100\n",
      "    noise cancel m   : -14.992636 +/-  98.849666 [1e-3, 3-sigma]\n",
      "    noise cancel c   :  447.236300 +/-  3550.661929 [1e-5, 3-sigma]\n"
     ]
    },
    {
     "name": "stderr",
     "output_type": "stream",
     "text": [
      " 44%|████▍     | 888/2000 [37:37<2:13:09,  7.18s/it]"
     ]
    },
    {
     "name": "stdout",
     "output_type": "stream",
     "text": [
      "0.32296664936014396\n"
     ]
    },
    {
     "name": "stderr",
     "output_type": "stream",
     "text": [
      " 44%|████▍     | 889/2000 [37:37<1:34:31,  5.11s/it]"
     ]
    },
    {
     "name": "stdout",
     "output_type": "stream",
     "text": [
      "Using both positive and negative shear\n"
     ]
    },
    {
     "name": "stderr",
     "output_type": "stream",
     "text": []
    },
    {
     "name": "stdout",
     "output_type": "stream",
     "text": [
      "    # of sims: 100\n",
      "    noise cancel m   : -18.614428 +/-  57.527219 [1e-3, 3-sigma]\n",
      "    noise cancel c   : -264.422730 +/-  1983.172709 [1e-5, 3-sigma]\n"
     ]
    },
    {
     "name": "stderr",
     "output_type": "stream",
     "text": [
      " 44%|████▍     | 890/2000 [37:53<2:35:02,  8.38s/it]"
     ]
    },
    {
     "name": "stdout",
     "output_type": "stream",
     "text": [
      "0.3111395851602072\n"
     ]
    },
    {
     "name": "stderr",
     "output_type": "stream",
     "text": [
      " 45%|████▌     | 905/2000 [37:57<04:38,  3.93it/s]  "
     ]
    },
    {
     "name": "stdout",
     "output_type": "stream",
     "text": [
      "Using both positive and negative shear\n"
     ]
    },
    {
     "name": "stderr",
     "output_type": "stream",
     "text": []
    },
    {
     "name": "stdout",
     "output_type": "stream",
     "text": [
      "    # of sims: 100\n",
      "    noise cancel m   : -117.366313 +/-  266.347169 [1e-3, 3-sigma]\n",
      "    noise cancel c   :  597.364011 +/-  1381.830543 [1e-5, 3-sigma]\n"
     ]
    },
    {
     "name": "stderr",
     "output_type": "stream",
     "text": [
      " 45%|████▌     | 906/2000 [38:13<1:33:45,  5.14s/it]"
     ]
    },
    {
     "name": "stdout",
     "output_type": "stream",
     "text": [
      "0.3474373176416085\n"
     ]
    },
    {
     "name": "stderr",
     "output_type": "stream",
     "text": [
      " 46%|████▌     | 921/2000 [38:19<06:27,  2.78it/s]  "
     ]
    },
    {
     "name": "stdout",
     "output_type": "stream",
     "text": [
      "Using both positive and negative shear\n"
     ]
    },
    {
     "name": "stderr",
     "output_type": "stream",
     "text": []
    },
    {
     "name": "stdout",
     "output_type": "stream",
     "text": [
      "    # of sims: 100\n",
      "    noise cancel m   : -0.292533 +/-  3.143512 [1e-3, 3-sigma]\n",
      "    noise cancel c   :  4740.117531 +/-  10500.373638 [1e-5, 3-sigma]\n"
     ]
    },
    {
     "name": "stderr",
     "output_type": "stream",
     "text": [
      " 46%|████▌     | 922/2000 [38:36<1:35:45,  5.33s/it]"
     ]
    },
    {
     "name": "stdout",
     "output_type": "stream",
     "text": [
      "0.4361465214410943\n"
     ]
    },
    {
     "name": "stderr",
     "output_type": "stream",
     "text": [
      " 46%|████▌     | 923/2000 [38:36<1:08:03,  3.79s/it]"
     ]
    },
    {
     "name": "stdout",
     "output_type": "stream",
     "text": [
      "Using both positive and negative shear\n"
     ]
    },
    {
     "name": "stderr",
     "output_type": "stream",
     "text": []
    },
    {
     "name": "stdout",
     "output_type": "stream",
     "text": [
      "    # of sims: 100\n",
      "    noise cancel m   : -23.100531 +/-  100.897355 [1e-3, 3-sigma]\n",
      "    noise cancel c   :  5388.461243 +/-  12441.042218 [1e-5, 3-sigma]\n"
     ]
    },
    {
     "name": "stderr",
     "output_type": "stream",
     "text": [
      " 46%|████▌     | 924/2000 [38:52<2:11:30,  7.33s/it]"
     ]
    },
    {
     "name": "stdout",
     "output_type": "stream",
     "text": [
      "0.4284547994533452\n"
     ]
    },
    {
     "name": "stderr",
     "output_type": "stream",
     "text": [
      " 46%|████▋     | 928/2000 [38:53<35:22,  1.98s/it]  "
     ]
    },
    {
     "name": "stdout",
     "output_type": "stream",
     "text": [
      "Using both positive and negative shear\n"
     ]
    },
    {
     "name": "stderr",
     "output_type": "stream",
     "text": []
    },
    {
     "name": "stdout",
     "output_type": "stream",
     "text": [
      "    # of sims: 100\n",
      "    noise cancel m   : -6.752949 +/-  37.784601 [1e-3, 3-sigma]\n",
      "    noise cancel c   :  616.475560 +/-  1761.266178 [1e-5, 3-sigma]\n"
     ]
    },
    {
     "name": "stderr",
     "output_type": "stream",
     "text": [
      " 46%|████▋     | 929/2000 [39:08<1:47:18,  6.01s/it]"
     ]
    },
    {
     "name": "stdout",
     "output_type": "stream",
     "text": [
      "0.37883518724221416\n"
     ]
    },
    {
     "name": "stderr",
     "output_type": "stream",
     "text": [
      " 47%|████▋     | 932/2000 [39:09<41:08,  2.31s/it]  "
     ]
    },
    {
     "name": "stdout",
     "output_type": "stream",
     "text": [
      "Using both positive and negative shear\n"
     ]
    },
    {
     "name": "stderr",
     "output_type": "stream",
     "text": []
    },
    {
     "name": "stdout",
     "output_type": "stream",
     "text": [
      "    # of sims: 100\n",
      "    noise cancel m   : -10.428094 +/-  84.117996 [1e-3, 3-sigma]\n",
      "    noise cancel c   :  2582.642963 +/-  6308.075572 [1e-5, 3-sigma]\n"
     ]
    },
    {
     "name": "stderr",
     "output_type": "stream",
     "text": [
      " 47%|████▋     | 933/2000 [39:25<1:51:59,  6.30s/it]"
     ]
    },
    {
     "name": "stdout",
     "output_type": "stream",
     "text": [
      "0.4541573637873775\n"
     ]
    },
    {
     "name": "stderr",
     "output_type": "stream",
     "text": [
      " 48%|████▊     | 967/2000 [39:39<08:45,  1.97it/s]  "
     ]
    },
    {
     "name": "stdout",
     "output_type": "stream",
     "text": [
      "Using both positive and negative shear\n"
     ]
    },
    {
     "name": "stderr",
     "output_type": "stream",
     "text": []
    },
    {
     "name": "stdout",
     "output_type": "stream",
     "text": [
      "    # of sims: 100\n",
      "    noise cancel m   : -5.671477 +/-  27.368123 [1e-3, 3-sigma]\n",
      "    noise cancel c   :  2614.232499 +/-  5774.556751 [1e-5, 3-sigma]\n"
     ]
    },
    {
     "name": "stderr",
     "output_type": "stream",
     "text": [
      " 48%|████▊     | 968/2000 [39:56<1:29:37,  5.21s/it]"
     ]
    },
    {
     "name": "stdout",
     "output_type": "stream",
     "text": [
      "0.37383654429758517\n"
     ]
    },
    {
     "name": "stderr",
     "output_type": "stream",
     "text": [
      " 49%|████▊     | 974/2000 [39:58<15:04,  1.13it/s]  "
     ]
    },
    {
     "name": "stdout",
     "output_type": "stream",
     "text": [
      "Using both positive and negative shear\n"
     ]
    },
    {
     "name": "stderr",
     "output_type": "stream",
     "text": []
    },
    {
     "name": "stdout",
     "output_type": "stream",
     "text": [
      "    # of sims: 100\n",
      "    noise cancel m   : -0.963571 +/-  10.433934 [1e-3, 3-sigma]\n",
      "    noise cancel c   :  117.471128 +/-  323.622871 [1e-5, 3-sigma]\n"
     ]
    },
    {
     "name": "stderr",
     "output_type": "stream",
     "text": [
      " 49%|████▉     | 975/2000 [40:14<1:36:35,  5.65s/it]"
     ]
    },
    {
     "name": "stdout",
     "output_type": "stream",
     "text": [
      "0.33118008169481833\n"
     ]
    },
    {
     "name": "stderr",
     "output_type": "stream",
     "text": [
      " 49%|████▉     | 978/2000 [40:15<35:57,  2.11s/it]  "
     ]
    },
    {
     "name": "stdout",
     "output_type": "stream",
     "text": [
      "Using both positive and negative shear\n"
     ]
    },
    {
     "name": "stderr",
     "output_type": "stream",
     "text": []
    },
    {
     "name": "stdout",
     "output_type": "stream",
     "text": [
      "    # of sims: 100\n",
      "    noise cancel m   : -4.256820 +/-  23.456589 [1e-3, 3-sigma]\n",
      "    noise cancel c   :  730.599019 +/-  1710.318366 [1e-5, 3-sigma]\n"
     ]
    },
    {
     "name": "stderr",
     "output_type": "stream",
     "text": [
      " 49%|████▉     | 979/2000 [40:31<1:45:45,  6.21s/it]"
     ]
    },
    {
     "name": "stdout",
     "output_type": "stream",
     "text": [
      "0.3444522668769691\n"
     ]
    },
    {
     "name": "stderr",
     "output_type": "stream",
     "text": [
      " 49%|████▉     | 983/2000 [40:32<28:17,  1.67s/it]  "
     ]
    },
    {
     "name": "stdout",
     "output_type": "stream",
     "text": [
      "Using both positive and negative shear\n"
     ]
    },
    {
     "name": "stderr",
     "output_type": "stream",
     "text": []
    },
    {
     "name": "stdout",
     "output_type": "stream",
     "text": [
      "    # of sims: 100\n",
      "    noise cancel m   : -7.617365 +/-  46.564106 [1e-3, 3-sigma]\n",
      "    noise cancel c   :  324.788792 +/-  1731.361055 [1e-5, 3-sigma]\n"
     ]
    },
    {
     "name": "stderr",
     "output_type": "stream",
     "text": [
      " 49%|████▉     | 984/2000 [40:49<1:44:36,  6.18s/it]"
     ]
    },
    {
     "name": "stdout",
     "output_type": "stream",
     "text": [
      "0.4321952193021077\n"
     ]
    },
    {
     "name": "stderr",
     "output_type": "stream",
     "text": [
      " 50%|████▉     | 995/2000 [40:52<06:10,  2.72it/s]  "
     ]
    },
    {
     "name": "stdout",
     "output_type": "stream",
     "text": [
      "Using both positive and negative shear\n"
     ]
    },
    {
     "name": "stderr",
     "output_type": "stream",
     "text": []
    },
    {
     "name": "stdout",
     "output_type": "stream",
     "text": [
      "    # of sims: 100\n",
      "    noise cancel m   : -34.602806 +/-  150.494111 [1e-3, 3-sigma]\n",
      "    noise cancel c   :  1432.357336 +/-  3317.055146 [1e-5, 3-sigma]\n"
     ]
    },
    {
     "name": "stderr",
     "output_type": "stream",
     "text": [
      " 50%|████▉     | 996/2000 [41:10<1:36:34,  5.77s/it]"
     ]
    },
    {
     "name": "stdout",
     "output_type": "stream",
     "text": [
      "0.3392799858811102\n"
     ]
    },
    {
     "name": "stderr",
     "output_type": "stream",
     "text": [
      " 50%|█████     | 1002/2000 [41:11<14:34,  1.14it/s] "
     ]
    },
    {
     "name": "stdout",
     "output_type": "stream",
     "text": [
      "Using both positive and negative shear\n"
     ]
    },
    {
     "name": "stderr",
     "output_type": "stream",
     "text": []
    },
    {
     "name": "stdout",
     "output_type": "stream",
     "text": [
      "    # of sims: 100\n",
      "    noise cancel m   : -2.323078 +/-  16.433254 [1e-3, 3-sigma]\n",
      "    noise cancel c   :  682.547635 +/-  1545.725413 [1e-5, 3-sigma]\n"
     ]
    },
    {
     "name": "stderr",
     "output_type": "stream",
     "text": [
      " 50%|█████     | 1003/2000 [41:27<1:30:16,  5.43s/it]"
     ]
    },
    {
     "name": "stdout",
     "output_type": "stream",
     "text": [
      "0.2830355326187388\n"
     ]
    },
    {
     "name": "stderr",
     "output_type": "stream",
     "text": [
      " 50%|█████     | 1004/2000 [41:28<1:04:15,  3.87s/it]"
     ]
    },
    {
     "name": "stdout",
     "output_type": "stream",
     "text": [
      "Using both positive and negative shear\n"
     ]
    },
    {
     "name": "stderr",
     "output_type": "stream",
     "text": []
    },
    {
     "name": "stdout",
     "output_type": "stream",
     "text": [
      "    # of sims: 100\n",
      "    noise cancel m   :  1.113796 +/-  94.220063 [1e-3, 3-sigma]\n",
      "    noise cancel c   :  691.847777 +/-  3269.841008 [1e-5, 3-sigma]\n"
     ]
    },
    {
     "name": "stderr",
     "output_type": "stream",
     "text": [
      " 50%|█████     | 1005/2000 [41:43<2:02:57,  7.41s/it]"
     ]
    },
    {
     "name": "stdout",
     "output_type": "stream",
     "text": [
      "0.2945095879616929\n"
     ]
    },
    {
     "name": "stderr",
     "output_type": "stream",
     "text": [
      " 50%|█████     | 1006/2000 [41:44<1:28:00,  5.31s/it]"
     ]
    },
    {
     "name": "stdout",
     "output_type": "stream",
     "text": [
      "Using both positive and negative shear\n"
     ]
    },
    {
     "name": "stderr",
     "output_type": "stream",
     "text": []
    },
    {
     "name": "stdout",
     "output_type": "stream",
     "text": [
      "    # of sims: 100\n",
      "    noise cancel m   : -27.862662 +/-  93.179355 [1e-3, 3-sigma]\n",
      "    noise cancel c   :  1230.451800 +/-  3774.322402 [1e-5, 3-sigma]\n"
     ]
    },
    {
     "name": "stderr",
     "output_type": "stream",
     "text": [
      " 50%|█████     | 1007/2000 [41:59<2:18:43,  8.38s/it]"
     ]
    },
    {
     "name": "stdout",
     "output_type": "stream",
     "text": [
      "0.46280826258921026\n"
     ]
    },
    {
     "name": "stderr",
     "output_type": "stream",
     "text": [
      " 50%|█████     | 1009/2000 [42:00<1:11:17,  4.32s/it]"
     ]
    },
    {
     "name": "stdout",
     "output_type": "stream",
     "text": [
      "Using both positive and negative shear\n"
     ]
    },
    {
     "name": "stderr",
     "output_type": "stream",
     "text": []
    },
    {
     "name": "stdout",
     "output_type": "stream",
     "text": [
      "    # of sims: 100\n",
      "    noise cancel m   : -6.383308 +/-  91.476987 [1e-3, 3-sigma]\n",
      "    noise cancel c   :  1636.127870 +/-  4462.089916 [1e-5, 3-sigma]\n"
     ]
    },
    {
     "name": "stderr",
     "output_type": "stream",
     "text": [
      " 50%|█████     | 1010/2000 [42:16<2:08:28,  7.79s/it]"
     ]
    },
    {
     "name": "stdout",
     "output_type": "stream",
     "text": [
      "0.3077953361675594\n"
     ]
    },
    {
     "name": "stderr",
     "output_type": "stream",
     "text": [
      " 52%|█████▏    | 1040/2000 [42:26<05:03,  3.16it/s]  "
     ]
    },
    {
     "name": "stdout",
     "output_type": "stream",
     "text": [
      "Using both positive and negative shear\n"
     ]
    },
    {
     "name": "stderr",
     "output_type": "stream",
     "text": []
    },
    {
     "name": "stdout",
     "output_type": "stream",
     "text": [
      "    # of sims: 100\n",
      "    noise cancel m   : -89.681725 +/-  220.424421 [1e-3, 3-sigma]\n",
      "    noise cancel c   :  269.642011 +/-  778.692507 [1e-5, 3-sigma]\n"
     ]
    },
    {
     "name": "stderr",
     "output_type": "stream",
     "text": [
      " 52%|█████▏    | 1041/2000 [42:44<1:26:47,  5.43s/it]"
     ]
    },
    {
     "name": "stdout",
     "output_type": "stream",
     "text": [
      "0.35170832178988254\n"
     ]
    },
    {
     "name": "stderr",
     "output_type": "stream",
     "text": [
      " 52%|█████▏    | 1048/2000 [42:46<12:25,  1.28it/s]  "
     ]
    },
    {
     "name": "stdout",
     "output_type": "stream",
     "text": [
      "Using both positive and negative shear\n"
     ]
    },
    {
     "name": "stderr",
     "output_type": "stream",
     "text": []
    },
    {
     "name": "stdout",
     "output_type": "stream",
     "text": [
      "    # of sims: 100\n",
      "    noise cancel m   : -17.251956 +/-  67.451294 [1e-3, 3-sigma]\n",
      "    noise cancel c   :  2215.588283 +/-  5229.901962 [1e-5, 3-sigma]\n"
     ]
    },
    {
     "name": "stderr",
     "output_type": "stream",
     "text": [
      " 52%|█████▏    | 1049/2000 [43:03<1:29:53,  5.67s/it]"
     ]
    },
    {
     "name": "stdout",
     "output_type": "stream",
     "text": [
      "0.2901934348714978\n"
     ]
    },
    {
     "name": "stderr",
     "output_type": "stream",
     "text": [
      " 53%|█████▎    | 1066/2000 [43:10<07:38,  2.04it/s]  "
     ]
    },
    {
     "name": "stdout",
     "output_type": "stream",
     "text": [
      "Using both positive and negative shear\n"
     ]
    },
    {
     "name": "stderr",
     "output_type": "stream",
     "text": []
    },
    {
     "name": "stdout",
     "output_type": "stream",
     "text": [
      "    # of sims: 100\n",
      "    noise cancel m   : -63.297447 +/-  156.321561 [1e-3, 3-sigma]\n",
      "    noise cancel c   :  750.161770 +/-  2372.726024 [1e-5, 3-sigma]\n"
     ]
    },
    {
     "name": "stderr",
     "output_type": "stream",
     "text": [
      " 53%|█████▎    | 1067/2000 [43:27<1:25:00,  5.47s/it]"
     ]
    },
    {
     "name": "stdout",
     "output_type": "stream",
     "text": [
      "0.33447262312311465\n"
     ]
    },
    {
     "name": "stderr",
     "output_type": "stream",
     "text": [
      " 54%|█████▎    | 1071/2000 [43:28<23:59,  1.55s/it]  "
     ]
    },
    {
     "name": "stdout",
     "output_type": "stream",
     "text": [
      "Using both positive and negative shear\n"
     ]
    },
    {
     "name": "stderr",
     "output_type": "stream",
     "text": []
    },
    {
     "name": "stdout",
     "output_type": "stream",
     "text": [
      "    # of sims: 100\n",
      "    noise cancel m   : -5.627259 +/-  67.719151 [1e-3, 3-sigma]\n",
      "    noise cancel c   :  517.293963 +/-  2278.168865 [1e-5, 3-sigma]\n"
     ]
    },
    {
     "name": "stderr",
     "output_type": "stream",
     "text": [
      " 54%|█████▎    | 1072/2000 [43:45<1:35:30,  6.18s/it]"
     ]
    },
    {
     "name": "stdout",
     "output_type": "stream",
     "text": [
      "0.3366867766837543\n"
     ]
    },
    {
     "name": "stderr",
     "output_type": "stream",
     "text": [
      " 54%|█████▎    | 1074/2000 [43:46<48:31,  3.14s/it]  "
     ]
    },
    {
     "name": "stdout",
     "output_type": "stream",
     "text": [
      "Using both positive and negative shear\n"
     ]
    },
    {
     "name": "stderr",
     "output_type": "stream",
     "text": []
    },
    {
     "name": "stdout",
     "output_type": "stream",
     "text": [
      "    # of sims: 100\n",
      "    noise cancel m   : -35.373433 +/-  100.402059 [1e-3, 3-sigma]\n",
      "    noise cancel c   :  587.883425 +/-  3697.017619 [1e-5, 3-sigma]\n"
     ]
    },
    {
     "name": "stderr",
     "output_type": "stream",
     "text": [
      " 54%|█████▍    | 1075/2000 [44:03<1:52:53,  7.32s/it]"
     ]
    },
    {
     "name": "stdout",
     "output_type": "stream",
     "text": [
      "0.3538294663012597\n"
     ]
    },
    {
     "name": "stderr",
     "output_type": "stream",
     "text": [
      " 55%|█████▍    | 1094/2000 [44:11<04:19,  3.50it/s]  "
     ]
    },
    {
     "name": "stdout",
     "output_type": "stream",
     "text": [
      "Using both positive and negative shear\n"
     ]
    },
    {
     "name": "stderr",
     "output_type": "stream",
     "text": []
    },
    {
     "name": "stdout",
     "output_type": "stream",
     "text": [
      "    # of sims: 100\n",
      "    noise cancel m   : -94.458163 +/-  236.922643 [1e-3, 3-sigma]\n",
      "    noise cancel c   : -148.546472 +/-  9444.425720 [1e-5, 3-sigma]\n"
     ]
    },
    {
     "name": "stderr",
     "output_type": "stream",
     "text": [
      " 55%|█████▍    | 1095/2000 [44:28<1:20:14,  5.32s/it]"
     ]
    },
    {
     "name": "stdout",
     "output_type": "stream",
     "text": [
      "0.34940965680094466\n"
     ]
    },
    {
     "name": "stderr",
     "output_type": "stream",
     "text": [
      " 55%|█████▌    | 1100/2000 [44:29<16:24,  1.09s/it]  "
     ]
    },
    {
     "name": "stdout",
     "output_type": "stream",
     "text": [
      "Using both positive and negative shear\n"
     ]
    },
    {
     "name": "stderr",
     "output_type": "stream",
     "text": []
    },
    {
     "name": "stdout",
     "output_type": "stream",
     "text": [
      "    # of sims: 100\n",
      "    noise cancel m   : -8.675656 +/-  13.864787 [1e-3, 3-sigma]\n",
      "    noise cancel c   :  344.370123 +/-  633.777486 [1e-5, 3-sigma]\n"
     ]
    },
    {
     "name": "stderr",
     "output_type": "stream",
     "text": [
      " 55%|█████▌    | 1101/2000 [44:46<1:27:50,  5.86s/it]"
     ]
    },
    {
     "name": "stdout",
     "output_type": "stream",
     "text": [
      "0.3289382541782505\n"
     ]
    },
    {
     "name": "stderr",
     "output_type": "stream",
     "text": [
      " 55%|█████▌    | 1102/2000 [44:47<1:02:48,  4.20s/it]"
     ]
    },
    {
     "name": "stdout",
     "output_type": "stream",
     "text": [
      "Using both positive and negative shear\n"
     ]
    },
    {
     "name": "stderr",
     "output_type": "stream",
     "text": []
    },
    {
     "name": "stdout",
     "output_type": "stream",
     "text": [
      "    # of sims: 100\n",
      "    noise cancel m   : -3.196679 +/-  21.058288 [1e-3, 3-sigma]\n",
      "    noise cancel c   :  868.580350 +/-  1990.402236 [1e-5, 3-sigma]\n"
     ]
    },
    {
     "name": "stderr",
     "output_type": "stream",
     "text": [
      " 55%|█████▌    | 1103/2000 [45:04<2:03:10,  8.24s/it]"
     ]
    },
    {
     "name": "stdout",
     "output_type": "stream",
     "text": [
      "0.3578810173365583\n"
     ]
    },
    {
     "name": "stderr",
     "output_type": "stream",
     "text": [
      " 55%|█████▌    | 1106/2000 [45:06<45:36,  3.06s/it]  "
     ]
    },
    {
     "name": "stdout",
     "output_type": "stream",
     "text": [
      "Using both positive and negative shear\n"
     ]
    },
    {
     "name": "stderr",
     "output_type": "stream",
     "text": []
    },
    {
     "name": "stdout",
     "output_type": "stream",
     "text": [
      "    # of sims: 100\n",
      "    noise cancel m   : -6.090992 +/-  31.312892 [1e-3, 3-sigma]\n",
      "    noise cancel c   :  102.504268 +/-  1078.428451 [1e-5, 3-sigma]\n"
     ]
    },
    {
     "name": "stderr",
     "output_type": "stream",
     "text": [
      " 55%|█████▌    | 1107/2000 [45:21<1:40:51,  6.78s/it]"
     ]
    },
    {
     "name": "stdout",
     "output_type": "stream",
     "text": [
      "0.2903119630857729\n"
     ]
    },
    {
     "name": "stderr",
     "output_type": "stream",
     "text": [
      " 56%|█████▌    | 1123/2000 [45:28<04:11,  3.49it/s]  "
     ]
    },
    {
     "name": "stdout",
     "output_type": "stream",
     "text": [
      "Using both positive and negative shear\n"
     ]
    },
    {
     "name": "stderr",
     "output_type": "stream",
     "text": []
    },
    {
     "name": "stdout",
     "output_type": "stream",
     "text": [
      "    # of sims: 100\n",
      "    noise cancel m   : -5.439066 +/-  29.885248 [1e-3, 3-sigma]\n",
      "    noise cancel c   :  932.179533 +/-  2218.753251 [1e-5, 3-sigma]\n"
     ]
    },
    {
     "name": "stderr",
     "output_type": "stream",
     "text": [
      " 56%|█████▌    | 1124/2000 [45:44<1:11:24,  4.89s/it]"
     ]
    },
    {
     "name": "stdout",
     "output_type": "stream",
     "text": [
      "0.31230804573798293\n"
     ]
    },
    {
     "name": "stderr",
     "output_type": "stream",
     "text": [
      " 56%|█████▋    | 1128/2000 [45:45<20:10,  1.39s/it]  "
     ]
    },
    {
     "name": "stdout",
     "output_type": "stream",
     "text": [
      "Using both positive and negative shear\n"
     ]
    },
    {
     "name": "stderr",
     "output_type": "stream",
     "text": []
    },
    {
     "name": "stdout",
     "output_type": "stream",
     "text": [
      "    # of sims: 100\n",
      "    noise cancel m   : -1.838730 +/-  32.679430 [1e-3, 3-sigma]\n",
      "    noise cancel c   :  770.408970 +/-  2071.589036 [1e-5, 3-sigma]\n"
     ]
    },
    {
     "name": "stderr",
     "output_type": "stream",
     "text": [
      " 56%|█████▋    | 1129/2000 [46:01<1:23:06,  5.72s/it]"
     ]
    },
    {
     "name": "stdout",
     "output_type": "stream",
     "text": [
      "0.3139980398270341\n"
     ]
    },
    {
     "name": "stderr",
     "output_type": "stream",
     "text": [
      " 57%|█████▋    | 1133/2000 [46:02<23:21,  1.62s/it]  "
     ]
    },
    {
     "name": "stdout",
     "output_type": "stream",
     "text": [
      "Using both positive and negative shear\n"
     ]
    },
    {
     "name": "stderr",
     "output_type": "stream",
     "text": []
    },
    {
     "name": "stdout",
     "output_type": "stream",
     "text": [
      "    # of sims: 100\n",
      "    noise cancel m   : -10.106989 +/-  64.870386 [1e-3, 3-sigma]\n",
      "    noise cancel c   :  497.247559 +/-  2349.449274 [1e-5, 3-sigma]\n"
     ]
    },
    {
     "name": "stderr",
     "output_type": "stream",
     "text": [
      " 57%|█████▋    | 1134/2000 [46:17<1:22:15,  5.70s/it]"
     ]
    },
    {
     "name": "stdout",
     "output_type": "stream",
     "text": [
      "0.45368558028526507\n"
     ]
    },
    {
     "name": "stderr",
     "output_type": "stream",
     "text": [
      " 57%|█████▋    | 1140/2000 [46:19<14:16,  1.00it/s]  "
     ]
    },
    {
     "name": "stdout",
     "output_type": "stream",
     "text": [
      "Using both positive and negative shear\n"
     ]
    },
    {
     "name": "stderr",
     "output_type": "stream",
     "text": []
    },
    {
     "name": "stdout",
     "output_type": "stream",
     "text": [
      "    # of sims: 100\n",
      "    noise cancel m   :  10.911075 +/-  88.280785 [1e-3, 3-sigma]\n",
      "    noise cancel c   :  1171.340981 +/-  4541.160671 [1e-5, 3-sigma]\n"
     ]
    },
    {
     "name": "stderr",
     "output_type": "stream",
     "text": [
      " 57%|█████▋    | 1141/2000 [46:35<1:16:17,  5.33s/it]"
     ]
    },
    {
     "name": "stdout",
     "output_type": "stream",
     "text": [
      "0.35985344878590697\n",
      "Using both positive and negative shear\n"
     ]
    },
    {
     "name": "stderr",
     "output_type": "stream",
     "text": []
    },
    {
     "name": "stdout",
     "output_type": "stream",
     "text": [
      "    # of sims: 100\n",
      "    noise cancel m   : -175.220792 +/-  308.222870 [1e-3, 3-sigma]\n",
      "    noise cancel c   :  533.929513 +/-  1113.284375 [1e-5, 3-sigma]\n"
     ]
    },
    {
     "name": "stderr",
     "output_type": "stream",
     "text": [
      " 57%|█████▋    | 1142/2000 [46:52<2:07:35,  8.92s/it]"
     ]
    },
    {
     "name": "stdout",
     "output_type": "stream",
     "text": [
      "0.3360759711359938\n"
     ]
    },
    {
     "name": "stderr",
     "output_type": "stream",
     "text": [
      " 57%|█████▋    | 1145/2000 [46:53<46:21,  3.25s/it]  "
     ]
    },
    {
     "name": "stdout",
     "output_type": "stream",
     "text": [
      "Using both positive and negative shear\n"
     ]
    },
    {
     "name": "stderr",
     "output_type": "stream",
     "text": []
    },
    {
     "name": "stdout",
     "output_type": "stream",
     "text": [
      "    # of sims: 100\n",
      "    noise cancel m   : -4.173456 +/-  100.902308 [1e-3, 3-sigma]\n",
      "    noise cancel c   :  482.306816 +/-  3318.027696 [1e-5, 3-sigma]\n"
     ]
    },
    {
     "name": "stderr",
     "output_type": "stream",
     "text": [
      " 57%|█████▋    | 1146/2000 [47:09<1:39:56,  7.02s/it]"
     ]
    },
    {
     "name": "stdout",
     "output_type": "stream",
     "text": [
      "0.30667839819566745\n"
     ]
    },
    {
     "name": "stderr",
     "output_type": "stream",
     "text": [
      " 58%|█████▊    | 1152/2000 [47:12<20:00,  1.42s/it]  "
     ]
    },
    {
     "name": "stdout",
     "output_type": "stream",
     "text": [
      "Using both positive and negative shear\n"
     ]
    },
    {
     "name": "stderr",
     "output_type": "stream",
     "text": []
    },
    {
     "name": "stdout",
     "output_type": "stream",
     "text": [
      "    # of sims: 100\n",
      "    noise cancel m   : -12.492527 +/-  60.421618 [1e-3, 3-sigma]\n",
      "    noise cancel c   :  4357.650588 +/-  9739.855148 [1e-5, 3-sigma]\n"
     ]
    },
    {
     "name": "stderr",
     "output_type": "stream",
     "text": [
      " 58%|█████▊    | 1153/2000 [47:28<1:22:59,  5.88s/it]"
     ]
    },
    {
     "name": "stdout",
     "output_type": "stream",
     "text": [
      "0.36113843241861304\n",
      "Using both positive and negative shear\n"
     ]
    },
    {
     "name": "stderr",
     "output_type": "stream",
     "text": []
    },
    {
     "name": "stdout",
     "output_type": "stream",
     "text": [
      "    # of sims: 100\n",
      "    noise cancel m   : -6.716434 +/-  51.937349 [1e-3, 3-sigma]\n",
      "    noise cancel c   :  4475.783902 +/-  9943.378016 [1e-5, 3-sigma]\n"
     ]
    },
    {
     "name": "stderr",
     "output_type": "stream",
     "text": [
      " 58%|█████▊    | 1154/2000 [47:45<2:08:28,  9.11s/it]"
     ]
    },
    {
     "name": "stdout",
     "output_type": "stream",
     "text": [
      "0.400367429579775\n"
     ]
    },
    {
     "name": "stderr",
     "output_type": "stream",
     "text": [
      " 58%|█████▊    | 1169/2000 [47:50<04:20,  3.19it/s]  "
     ]
    },
    {
     "name": "stdout",
     "output_type": "stream",
     "text": [
      "Using both positive and negative shear\n"
     ]
    },
    {
     "name": "stderr",
     "output_type": "stream",
     "text": []
    },
    {
     "name": "stdout",
     "output_type": "stream",
     "text": [
      "    # of sims: 100\n",
      "    noise cancel m   : -1.420370 +/-  9.769498 [1e-3, 3-sigma]\n",
      "    noise cancel c   :  2885.752059 +/-  6353.159041 [1e-5, 3-sigma]\n"
     ]
    },
    {
     "name": "stderr",
     "output_type": "stream",
     "text": [
      " 58%|█████▊    | 1170/2000 [48:06<1:11:07,  5.14s/it]"
     ]
    },
    {
     "name": "stdout",
     "output_type": "stream",
     "text": [
      "0.3194776809295709\n"
     ]
    },
    {
     "name": "stderr",
     "output_type": "stream",
     "text": [
      " 59%|█████▊    | 1171/2000 [48:06<51:21,  3.72s/it]  "
     ]
    },
    {
     "name": "stdout",
     "output_type": "stream",
     "text": [
      "Using both positive and negative shear\n"
     ]
    },
    {
     "name": "stderr",
     "output_type": "stream",
     "text": []
    },
    {
     "name": "stdout",
     "output_type": "stream",
     "text": [
      "    # of sims: 100\n",
      "    noise cancel m   : -14.353817 +/-  52.328466 [1e-3, 3-sigma]\n",
      "    noise cancel c   :  1873.185138 +/-  4324.958395 [1e-5, 3-sigma]\n"
     ]
    },
    {
     "name": "stderr",
     "output_type": "stream",
     "text": [
      " 59%|█████▊    | 1172/2000 [48:23<1:43:22,  7.49s/it]"
     ]
    },
    {
     "name": "stdout",
     "output_type": "stream",
     "text": [
      "0.29606062780717257\n"
     ]
    },
    {
     "name": "stderr",
     "output_type": "stream",
     "text": [
      " 59%|█████▉    | 1179/2000 [48:25<12:08,  1.13it/s]  "
     ]
    },
    {
     "name": "stdout",
     "output_type": "stream",
     "text": [
      "Using both positive and negative shear\n"
     ]
    },
    {
     "name": "stderr",
     "output_type": "stream",
     "text": []
    },
    {
     "name": "stdout",
     "output_type": "stream",
     "text": [
      "    # of sims: 100\n",
      "    noise cancel m   : -5.838594 +/-  79.192491 [1e-3, 3-sigma]\n",
      "    noise cancel c   :  2700.924780 +/-  6354.792584 [1e-5, 3-sigma]\n"
     ]
    },
    {
     "name": "stderr",
     "output_type": "stream",
     "text": [
      " 59%|█████▉    | 1180/2000 [48:41<1:15:59,  5.56s/it]"
     ]
    },
    {
     "name": "stdout",
     "output_type": "stream",
     "text": [
      "0.4285748561649607\n"
     ]
    },
    {
     "name": "stderr",
     "output_type": "stream",
     "text": [
      " 59%|█████▉    | 1181/2000 [48:41<54:03,  3.96s/it]  "
     ]
    },
    {
     "name": "stdout",
     "output_type": "stream",
     "text": [
      "Using both positive and negative shear\n"
     ]
    },
    {
     "name": "stderr",
     "output_type": "stream",
     "text": []
    },
    {
     "name": "stdout",
     "output_type": "stream",
     "text": [
      "    # of sims: 100\n",
      "    noise cancel m   : -24.691667 +/-  52.686794 [1e-3, 3-sigma]\n",
      "    noise cancel c   :  804.994349 +/-  2982.316215 [1e-5, 3-sigma]\n"
     ]
    },
    {
     "name": "stderr",
     "output_type": "stream",
     "text": [
      " 59%|█████▉    | 1182/2000 [48:58<1:45:47,  7.76s/it]"
     ]
    },
    {
     "name": "stdout",
     "output_type": "stream",
     "text": [
      "0.335251677338561\n"
     ]
    },
    {
     "name": "stderr",
     "output_type": "stream",
     "text": [
      " 60%|█████▉    | 1194/2000 [49:02<07:35,  1.77it/s]  "
     ]
    },
    {
     "name": "stdout",
     "output_type": "stream",
     "text": [
      "Using both positive and negative shear\n"
     ]
    },
    {
     "name": "stderr",
     "output_type": "stream",
     "text": []
    },
    {
     "name": "stdout",
     "output_type": "stream",
     "text": [
      "    # of sims: 100\n",
      "    noise cancel m   : -12.250859 +/-  58.021010 [1e-3, 3-sigma]\n",
      "    noise cancel c   :  236.434624 +/-  2063.506800 [1e-5, 3-sigma]\n"
     ]
    },
    {
     "name": "stderr",
     "output_type": "stream",
     "text": [
      " 60%|█████▉    | 1195/2000 [49:19<1:11:27,  5.33s/it]"
     ]
    },
    {
     "name": "stdout",
     "output_type": "stream",
     "text": [
      "0.294748710354494\n"
     ]
    },
    {
     "name": "stderr",
     "output_type": "stream",
     "text": [
      " 60%|█████▉    | 1197/2000 [49:19<36:44,  2.75s/it]  "
     ]
    },
    {
     "name": "stdout",
     "output_type": "stream",
     "text": [
      "Using both positive and negative shear\n"
     ]
    },
    {
     "name": "stderr",
     "output_type": "stream",
     "text": []
    },
    {
     "name": "stdout",
     "output_type": "stream",
     "text": [
      "    # of sims: 100\n",
      "    noise cancel m   :  155.021950 +/-  633.313621 [1e-3, 3-sigma]\n",
      "    noise cancel c   :  1785.667051 +/-  5362.731244 [1e-5, 3-sigma]\n"
     ]
    },
    {
     "name": "stderr",
     "output_type": "stream",
     "text": [
      " 60%|█████▉    | 1198/2000 [49:35<1:29:39,  6.71s/it]"
     ]
    },
    {
     "name": "stdout",
     "output_type": "stream",
     "text": [
      "0.3380011007799951\n"
     ]
    },
    {
     "name": "stderr",
     "output_type": "stream",
     "text": [
      " 60%|██████    | 1201/2000 [49:37<34:24,  2.58s/it]  "
     ]
    },
    {
     "name": "stdout",
     "output_type": "stream",
     "text": [
      "Using both positive and negative shear\n"
     ]
    },
    {
     "name": "stderr",
     "output_type": "stream",
     "text": []
    },
    {
     "name": "stdout",
     "output_type": "stream",
     "text": [
      "    # of sims: 100\n",
      "    noise cancel m   : -17.982462 +/-  114.962785 [1e-3, 3-sigma]\n",
      "    noise cancel c   :  453.652289 +/-  4016.236099 [1e-5, 3-sigma]\n"
     ]
    },
    {
     "name": "stderr",
     "output_type": "stream",
     "text": [
      " 60%|██████    | 1202/2000 [49:52<1:25:43,  6.44s/it]"
     ]
    },
    {
     "name": "stdout",
     "output_type": "stream",
     "text": [
      "0.38078797897906946\n"
     ]
    },
    {
     "name": "stderr",
     "output_type": "stream",
     "text": [
      " 61%|██████    | 1215/2000 [49:57<05:44,  2.28it/s]  "
     ]
    },
    {
     "name": "stdout",
     "output_type": "stream",
     "text": [
      "Using both positive and negative shear\n"
     ]
    },
    {
     "name": "stderr",
     "output_type": "stream",
     "text": []
    },
    {
     "name": "stdout",
     "output_type": "stream",
     "text": [
      "    # of sims: 100\n",
      "    noise cancel m   : -5.760566 +/-  31.309035 [1e-3, 3-sigma]\n",
      "    noise cancel c   :  3140.705171 +/-  6931.356723 [1e-5, 3-sigma]\n"
     ]
    },
    {
     "name": "stderr",
     "output_type": "stream",
     "text": [
      " 61%|██████    | 1216/2000 [50:12<1:03:45,  4.88s/it]"
     ]
    },
    {
     "name": "stdout",
     "output_type": "stream",
     "text": [
      "0.38886688399302693\n"
     ]
    },
    {
     "name": "stderr",
     "output_type": "stream",
     "text": [
      " 63%|██████▎   | 1252/2000 [50:34<03:03,  4.07it/s]  "
     ]
    },
    {
     "name": "stdout",
     "output_type": "stream",
     "text": [
      "Using both positive and negative shear\n"
     ]
    },
    {
     "name": "stderr",
     "output_type": "stream",
     "text": []
    },
    {
     "name": "stdout",
     "output_type": "stream",
     "text": [
      "    # of sims: 100\n",
      "    noise cancel m   : -4.682037 +/-  23.216706 [1e-3, 3-sigma]\n",
      "    noise cancel c   :  2950.379879 +/-  2897.968106 [1e-5, 3-sigma]\n"
     ]
    },
    {
     "name": "stderr",
     "output_type": "stream",
     "text": [
      " 63%|██████▎   | 1253/2000 [50:50<1:02:35,  5.03s/it]"
     ]
    },
    {
     "name": "stdout",
     "output_type": "stream",
     "text": [
      "0.28906669784263456\n"
     ]
    },
    {
     "name": "stderr",
     "output_type": "stream",
     "text": [
      " 63%|██████▎   | 1260/2000 [50:53<11:34,  1.06it/s]  "
     ]
    },
    {
     "name": "stdout",
     "output_type": "stream",
     "text": [
      "Using both positive and negative shear\n"
     ]
    },
    {
     "name": "stderr",
     "output_type": "stream",
     "text": []
    },
    {
     "name": "stdout",
     "output_type": "stream",
     "text": [
      "    # of sims: 100\n",
      "    noise cancel m   : -4.342193 +/-  23.344906 [1e-3, 3-sigma]\n",
      "    noise cancel c   :  3941.199799 +/-  8698.377008 [1e-5, 3-sigma]\n"
     ]
    },
    {
     "name": "stderr",
     "output_type": "stream",
     "text": [
      " 63%|██████▎   | 1261/2000 [51:09<1:05:33,  5.32s/it]"
     ]
    },
    {
     "name": "stdout",
     "output_type": "stream",
     "text": [
      "0.3914211215294132\n"
     ]
    },
    {
     "name": "stderr",
     "output_type": "stream",
     "text": [
      " 63%|██████▎   | 1267/2000 [51:13<16:08,  1.32s/it]  "
     ]
    },
    {
     "name": "stdout",
     "output_type": "stream",
     "text": [
      "Using both positive and negative shear\n"
     ]
    },
    {
     "name": "stderr",
     "output_type": "stream",
     "text": []
    },
    {
     "name": "stdout",
     "output_type": "stream",
     "text": [
      "    # of sims: 100\n",
      "    noise cancel m   : -2.425297 +/-  18.057480 [1e-3, 3-sigma]\n",
      "    noise cancel c   :  161.613576 +/-  672.464532 [1e-5, 3-sigma]\n"
     ]
    },
    {
     "name": "stderr",
     "output_type": "stream",
     "text": [
      " 63%|██████▎   | 1268/2000 [51:57<2:52:10, 14.11s/it]"
     ]
    },
    {
     "name": "stdout",
     "output_type": "stream",
     "text": [
      "0.2690073779819116\n"
     ]
    },
    {
     "name": "stderr",
     "output_type": "stream",
     "text": [
      " 64%|██████▍   | 1280/2000 [52:10<12:30,  1.04s/it]  "
     ]
    },
    {
     "name": "stdout",
     "output_type": "stream",
     "text": [
      "Using both positive and negative shear\n"
     ]
    },
    {
     "name": "stderr",
     "output_type": "stream",
     "text": []
    },
    {
     "name": "stdout",
     "output_type": "stream",
     "text": [
      "    # of sims: 100\n",
      "    noise cancel m   :  34.397530 +/-  140.740286 [1e-3, 3-sigma]\n",
      "    noise cancel c   :  217.963035 +/-  429.140992 [1e-5, 3-sigma]\n"
     ]
    },
    {
     "name": "stderr",
     "output_type": "stream",
     "text": [
      " 64%|██████▍   | 1281/2000 [52:28<1:16:18,  6.37s/it]"
     ]
    },
    {
     "name": "stdout",
     "output_type": "stream",
     "text": [
      "0.32405167281309455\n"
     ]
    },
    {
     "name": "stderr",
     "output_type": "stream",
     "text": [
      " 64%|██████▍   | 1288/2000 [52:34<13:06,  1.10s/it]  "
     ]
    },
    {
     "name": "stdout",
     "output_type": "stream",
     "text": [
      "Using both positive and negative shear\n"
     ]
    },
    {
     "name": "stderr",
     "output_type": "stream",
     "text": []
    },
    {
     "name": "stdout",
     "output_type": "stream",
     "text": [
      "    # of sims: 100\n",
      "    noise cancel m   :  0.904570 +/-  17.624663 [1e-3, 3-sigma]\n",
      "    noise cancel c   :  1153.927788 +/-  2560.641735 [1e-5, 3-sigma]\n"
     ]
    },
    {
     "name": "stderr",
     "output_type": "stream",
     "text": [
      " 64%|██████▍   | 1289/2000 [53:28<3:17:52, 16.70s/it]"
     ]
    },
    {
     "name": "stdout",
     "output_type": "stream",
     "text": [
      "0.3419467316480476\n"
     ]
    },
    {
     "name": "stderr",
     "output_type": "stream",
     "text": [
      " 65%|██████▍   | 1291/2000 [53:28<1:39:16,  8.40s/it]"
     ]
    },
    {
     "name": "stdout",
     "output_type": "stream",
     "text": [
      "Using both positive and negative shear\n"
     ]
    },
    {
     "name": "stderr",
     "output_type": "stream",
     "text": []
    },
    {
     "name": "stdout",
     "output_type": "stream",
     "text": [
      "    # of sims: 100\n",
      "    noise cancel m   : -11.632701 +/-  60.905099 [1e-3, 3-sigma]\n",
      "    noise cancel c   :  621.605405 +/-  2419.204833 [1e-5, 3-sigma]\n"
     ]
    },
    {
     "name": "stderr",
     "output_type": "stream",
     "text": [
      " 65%|██████▍   | 1292/2000 [53:44<2:03:52, 10.50s/it]"
     ]
    },
    {
     "name": "stdout",
     "output_type": "stream",
     "text": [
      "0.27979385431105896\n"
     ]
    },
    {
     "name": "stderr",
     "output_type": "stream",
     "text": [
      " 65%|██████▍   | 1293/2000 [53:44<1:27:24,  7.42s/it]"
     ]
    },
    {
     "name": "stdout",
     "output_type": "stream",
     "text": [
      "Using both positive and negative shear\n"
     ]
    },
    {
     "name": "stderr",
     "output_type": "stream",
     "text": []
    },
    {
     "name": "stdout",
     "output_type": "stream",
     "text": [
      "    # of sims: 100\n",
      "    noise cancel m   :  4.925765 +/-  25.209428 [1e-3, 3-sigma]\n",
      "    noise cancel c   :  3969.388704 +/-  10446.303727 [1e-5, 3-sigma]\n"
     ]
    },
    {
     "name": "stderr",
     "output_type": "stream",
     "text": [
      " 65%|██████▍   | 1294/2000 [54:00<1:55:47,  9.84s/it]"
     ]
    },
    {
     "name": "stdout",
     "output_type": "stream",
     "text": [
      "0.3197487637344393\n"
     ]
    },
    {
     "name": "stderr",
     "output_type": "stream",
     "text": [
      " 65%|██████▍   | 1296/2000 [54:01<1:00:02,  5.12s/it]"
     ]
    },
    {
     "name": "stdout",
     "output_type": "stream",
     "text": [
      "Using both positive and negative shear\n"
     ]
    },
    {
     "name": "stderr",
     "output_type": "stream",
     "text": []
    },
    {
     "name": "stdout",
     "output_type": "stream",
     "text": [
      "    # of sims: 100\n",
      "    noise cancel m   : -6.037859 +/-  35.890292 [1e-3, 3-sigma]\n",
      "    noise cancel c   :  1436.696894 +/-  3276.623585 [1e-5, 3-sigma]\n"
     ]
    },
    {
     "name": "stderr",
     "output_type": "stream",
     "text": [
      " 65%|██████▍   | 1297/2000 [54:16<1:36:28,  8.23s/it]"
     ]
    },
    {
     "name": "stdout",
     "output_type": "stream",
     "text": [
      "0.25872592790575605\n"
     ]
    },
    {
     "name": "stderr",
     "output_type": "stream",
     "text": [
      " 65%|██████▌   | 1301/2000 [54:26<40:02,  3.44s/it]  "
     ]
    },
    {
     "name": "stdout",
     "output_type": "stream",
     "text": [
      "Using both positive and negative shear\n"
     ]
    },
    {
     "name": "stderr",
     "output_type": "stream",
     "text": []
    },
    {
     "name": "stdout",
     "output_type": "stream",
     "text": [
      "    # of sims: 100\n",
      "    noise cancel m   : -4.183266 +/-  23.184446 [1e-3, 3-sigma]\n",
      "    noise cancel c   :  1503.679567 +/-  3330.617746 [1e-5, 3-sigma]\n"
     ]
    },
    {
     "name": "stderr",
     "output_type": "stream",
     "text": [
      " 65%|██████▌   | 1302/2000 [54:42<1:22:40,  7.11s/it]"
     ]
    },
    {
     "name": "stdout",
     "output_type": "stream",
     "text": [
      "0.42820697506157457\n"
     ]
    },
    {
     "name": "stderr",
     "output_type": "stream",
     "text": [
      " 65%|██████▌   | 1307/2000 [54:44<16:33,  1.43s/it]  "
     ]
    },
    {
     "name": "stdout",
     "output_type": "stream",
     "text": [
      "Using both positive and negative shear\n"
     ]
    },
    {
     "name": "stderr",
     "output_type": "stream",
     "text": []
    },
    {
     "name": "stdout",
     "output_type": "stream",
     "text": [
      "    # of sims: 100\n",
      "    noise cancel m   : -0.491959 +/-  7.430265 [1e-3, 3-sigma]\n",
      "    noise cancel c   :  1161.782900 +/-  2550.283367 [1e-5, 3-sigma]\n"
     ]
    },
    {
     "name": "stderr",
     "output_type": "stream",
     "text": [
      " 65%|██████▌   | 1308/2000 [55:00<1:08:27,  5.94s/it]"
     ]
    },
    {
     "name": "stdout",
     "output_type": "stream",
     "text": [
      "0.40461577353956346\n"
     ]
    },
    {
     "name": "stderr",
     "output_type": "stream",
     "text": [
      " 66%|██████▌   | 1314/2000 [55:02<11:06,  1.03it/s]  "
     ]
    },
    {
     "name": "stdout",
     "output_type": "stream",
     "text": [
      "Using both positive and negative shear\n"
     ]
    },
    {
     "name": "stderr",
     "output_type": "stream",
     "text": []
    },
    {
     "name": "stdout",
     "output_type": "stream",
     "text": [
      "    # of sims: 100\n",
      "    noise cancel m   : -8.915783 +/-  24.500241 [1e-3, 3-sigma]\n",
      "    noise cancel c   :  152.038991 +/-  847.245696 [1e-5, 3-sigma]\n"
     ]
    },
    {
     "name": "stderr",
     "output_type": "stream",
     "text": [
      " 66%|██████▌   | 1315/2000 [55:18<1:04:30,  5.65s/it]"
     ]
    },
    {
     "name": "stdout",
     "output_type": "stream",
     "text": [
      "0.28283855661720947\n"
     ]
    },
    {
     "name": "stderr",
     "output_type": "stream",
     "text": [
      " 67%|██████▋   | 1336/2000 [55:30<06:38,  1.67it/s]  "
     ]
    },
    {
     "name": "stdout",
     "output_type": "stream",
     "text": [
      "Using both positive and negative shear\n"
     ]
    },
    {
     "name": "stderr",
     "output_type": "stream",
     "text": []
    },
    {
     "name": "stdout",
     "output_type": "stream",
     "text": [
      "    # of sims: 100\n",
      "    noise cancel m   : -4.037589 +/-  20.162152 [1e-3, 3-sigma]\n",
      "    noise cancel c   :  5287.098994 +/-  11683.803667 [1e-5, 3-sigma]\n"
     ]
    },
    {
     "name": "stderr",
     "output_type": "stream",
     "text": [
      " 67%|██████▋   | 1337/2000 [55:47<59:34,  5.39s/it]"
     ]
    },
    {
     "name": "stdout",
     "output_type": "stream",
     "text": [
      "0.3492042734187424\n"
     ]
    },
    {
     "name": "stderr",
     "output_type": "stream",
     "text": [
      " 68%|██████▊   | 1352/2000 [55:53<03:53,  2.77it/s]"
     ]
    },
    {
     "name": "stdout",
     "output_type": "stream",
     "text": [
      "Using both positive and negative shear\n"
     ]
    },
    {
     "name": "stderr",
     "output_type": "stream",
     "text": []
    },
    {
     "name": "stdout",
     "output_type": "stream",
     "text": [
      "    # of sims: 100\n",
      "    noise cancel m   :  0.234589 +/-  12.163996 [1e-3, 3-sigma]\n",
      "    noise cancel c   :  3033.226007 +/-  6690.396216 [1e-5, 3-sigma]\n"
     ]
    },
    {
     "name": "stderr",
     "output_type": "stream",
     "text": [
      " 68%|██████▊   | 1353/2000 [56:09<56:00,  5.19s/it]"
     ]
    },
    {
     "name": "stdout",
     "output_type": "stream",
     "text": [
      "0.2929088671704452\n"
     ]
    },
    {
     "name": "stderr",
     "output_type": "stream",
     "text": [
      " 68%|██████▊   | 1358/2000 [56:15<19:49,  1.85s/it]"
     ]
    },
    {
     "name": "stdout",
     "output_type": "stream",
     "text": [
      "Using both positive and negative shear\n"
     ]
    },
    {
     "name": "stderr",
     "output_type": "stream",
     "text": []
    },
    {
     "name": "stdout",
     "output_type": "stream",
     "text": [
      "    # of sims: 100\n",
      "    noise cancel m   :  90.008356 +/-  238.310682 [1e-3, 3-sigma]\n",
      "    noise cancel c   :  444.528462 +/-  1201.604057 [1e-5, 3-sigma]\n"
     ]
    },
    {
     "name": "stderr",
     "output_type": "stream",
     "text": [
      " 68%|██████▊   | 1359/2000 [56:34<1:14:51,  7.01s/it]"
     ]
    },
    {
     "name": "stdout",
     "output_type": "stream",
     "text": [
      "0.31335500703378144\n"
     ]
    },
    {
     "name": "stderr",
     "output_type": "stream",
     "text": [
      " 69%|██████▉   | 1379/2000 [56:49<03:35,  2.88it/s]  "
     ]
    },
    {
     "name": "stdout",
     "output_type": "stream",
     "text": [
      "Using both positive and negative shear\n"
     ]
    },
    {
     "name": "stderr",
     "output_type": "stream",
     "text": []
    },
    {
     "name": "stdout",
     "output_type": "stream",
     "text": [
      "    # of sims: 100\n",
      "    noise cancel m   : -6.916247 +/-  33.221817 [1e-3, 3-sigma]\n",
      "    noise cancel c   :  5407.713795 +/-  11976.313246 [1e-5, 3-sigma]\n"
     ]
    },
    {
     "name": "stderr",
     "output_type": "stream",
     "text": [
      " 69%|██████▉   | 1380/2000 [57:05<50:37,  4.90s/it]"
     ]
    },
    {
     "name": "stdout",
     "output_type": "stream",
     "text": [
      "0.3814049830078552\n"
     ]
    },
    {
     "name": "stderr",
     "output_type": "stream",
     "text": [
      " 69%|██████▉   | 1389/2000 [57:08<05:51,  1.74it/s]"
     ]
    },
    {
     "name": "stdout",
     "output_type": "stream",
     "text": [
      "Using both positive and negative shear\n"
     ]
    },
    {
     "name": "stderr",
     "output_type": "stream",
     "text": []
    },
    {
     "name": "stdout",
     "output_type": "stream",
     "text": [
      "    # of sims: 100\n",
      "    noise cancel m   : -9.473154 +/-  83.399269 [1e-3, 3-sigma]\n",
      "    noise cancel c   :  227.696538 +/-  2944.119252 [1e-5, 3-sigma]\n"
     ]
    },
    {
     "name": "stderr",
     "output_type": "stream",
     "text": [
      " 70%|██████▉   | 1390/2000 [57:24<51:36,  5.08s/it]"
     ]
    },
    {
     "name": "stdout",
     "output_type": "stream",
     "text": [
      "0.3214472016070789\n"
     ]
    },
    {
     "name": "stderr",
     "output_type": "stream",
     "text": [
      " 70%|███████   | 1401/2000 [57:27<04:06,  2.43it/s]"
     ]
    },
    {
     "name": "stdout",
     "output_type": "stream",
     "text": [
      "Using both positive and negative shear\n"
     ]
    },
    {
     "name": "stderr",
     "output_type": "stream",
     "text": []
    },
    {
     "name": "stdout",
     "output_type": "stream",
     "text": [
      "    # of sims: 100\n",
      "    noise cancel m   : -0.557479 +/-  38.575470 [1e-3, 3-sigma]\n",
      "    noise cancel c   :  700.681141 +/-  1902.847764 [1e-5, 3-sigma]\n"
     ]
    },
    {
     "name": "stderr",
     "output_type": "stream",
     "text": [
      " 70%|███████   | 1402/2000 [57:43<51:24,  5.16s/it]"
     ]
    },
    {
     "name": "stdout",
     "output_type": "stream",
     "text": [
      "0.36844768196995004\n"
     ]
    },
    {
     "name": "stderr",
     "output_type": "stream",
     "text": [
      " 71%|███████   | 1414/2000 [57:49<05:24,  1.81it/s]"
     ]
    },
    {
     "name": "stdout",
     "output_type": "stream",
     "text": [
      "Using both positive and negative shear\n"
     ]
    },
    {
     "name": "stderr",
     "output_type": "stream",
     "text": []
    },
    {
     "name": "stdout",
     "output_type": "stream",
     "text": [
      "    # of sims: 100\n",
      "    noise cancel m   : -9.778730 +/-  45.603452 [1e-3, 3-sigma]\n",
      "    noise cancel c   :  954.376123 +/-  2507.630689 [1e-5, 3-sigma]\n"
     ]
    },
    {
     "name": "stderr",
     "output_type": "stream",
     "text": [
      " 71%|███████   | 1415/2000 [58:13<1:14:51,  7.68s/it]"
     ]
    },
    {
     "name": "stdout",
     "output_type": "stream",
     "text": [
      "0.28101192169251976\n"
     ]
    },
    {
     "name": "stderr",
     "output_type": "stream",
     "text": [
      " 71%|███████   | 1422/2000 [58:17<10:26,  1.08s/it]  "
     ]
    },
    {
     "name": "stdout",
     "output_type": "stream",
     "text": [
      "Using both positive and negative shear\n"
     ]
    },
    {
     "name": "stderr",
     "output_type": "stream",
     "text": []
    },
    {
     "name": "stdout",
     "output_type": "stream",
     "text": [
      "    # of sims: 100\n",
      "    noise cancel m   : -0.442667 +/-  9.029369 [1e-3, 3-sigma]\n",
      "    noise cancel c   :  1088.131218 +/-  6056.646828 [1e-5, 3-sigma]\n"
     ]
    },
    {
     "name": "stderr",
     "output_type": "stream",
     "text": [
      " 71%|███████   | 1423/2000 [58:33<55:02,  5.72s/it]"
     ]
    },
    {
     "name": "stdout",
     "output_type": "stream",
     "text": [
      "0.33155463406351154\n",
      "Using both positive and negative shear\n"
     ]
    },
    {
     "name": "stderr",
     "output_type": "stream",
     "text": []
    },
    {
     "name": "stdout",
     "output_type": "stream",
     "text": [
      "    # of sims: 100\n",
      "    noise cancel m   : -9.991295 +/-  40.033686 [1e-3, 3-sigma]\n",
      "    noise cancel c   :  2563.134456 +/-  8121.576119 [1e-5, 3-sigma]\n"
     ]
    },
    {
     "name": "stderr",
     "output_type": "stream",
     "text": [
      " 71%|███████   | 1424/2000 [58:50<1:25:33,  8.91s/it]"
     ]
    },
    {
     "name": "stdout",
     "output_type": "stream",
     "text": [
      "0.31266000699243374\n",
      "Using both positive and negative shear\n"
     ]
    },
    {
     "name": "stderr",
     "output_type": "stream",
     "text": []
    },
    {
     "name": "stdout",
     "output_type": "stream",
     "text": [
      "    # of sims: 100\n",
      "    noise cancel m   : -15.361058 +/-  119.614959 [1e-3, 3-sigma]\n",
      "    noise cancel c   :  1328.560075 +/-  4802.109548 [1e-5, 3-sigma]\n"
     ]
    },
    {
     "name": "stderr",
     "output_type": "stream",
     "text": [
      " 71%|███████▏  | 1425/2000 [59:44<3:35:26, 22.48s/it]"
     ]
    },
    {
     "name": "stdout",
     "output_type": "stream",
     "text": [
      "0.4624868809162805\n"
     ]
    },
    {
     "name": "stderr",
     "output_type": "stream",
     "text": [
      " 72%|███████▏  | 1437/2000 [59:49<07:25,  1.26it/s]  "
     ]
    },
    {
     "name": "stdout",
     "output_type": "stream",
     "text": [
      "Using both positive and negative shear\n"
     ]
    },
    {
     "name": "stderr",
     "output_type": "stream",
     "text": []
    },
    {
     "name": "stdout",
     "output_type": "stream",
     "text": [
      "    # of sims: 100\n",
      "    noise cancel m   : -7.651405 +/-  51.753162 [1e-3, 3-sigma]\n",
      "    noise cancel c   :  337.247991 +/-  1851.799236 [1e-5, 3-sigma]\n"
     ]
    },
    {
     "name": "stderr",
     "output_type": "stream",
     "text": [
      " 72%|███████▏  | 1438/2000 [1:00:04<48:35,  5.19s/it]"
     ]
    },
    {
     "name": "stdout",
     "output_type": "stream",
     "text": [
      "0.2785133045225489\n"
     ]
    },
    {
     "name": "stderr",
     "output_type": "stream",
     "text": [
      " 72%|███████▏  | 1446/2000 [1:00:07<06:05,  1.51it/s]"
     ]
    },
    {
     "name": "stdout",
     "output_type": "stream",
     "text": [
      "Using both positive and negative shear\n"
     ]
    },
    {
     "name": "stderr",
     "output_type": "stream",
     "text": []
    },
    {
     "name": "stdout",
     "output_type": "stream",
     "text": [
      "    # of sims: 100\n",
      "    noise cancel m   : -3.613981 +/-  15.119261 [1e-3, 3-sigma]\n",
      "    noise cancel c   :  929.723421 +/-  2297.682208 [1e-5, 3-sigma]\n"
     ]
    },
    {
     "name": "stderr",
     "output_type": "stream",
     "text": [
      " 72%|███████▏  | 1447/2000 [1:00:23<48:29,  5.26s/it]"
     ]
    },
    {
     "name": "stdout",
     "output_type": "stream",
     "text": [
      "0.3130910906062773\n"
     ]
    },
    {
     "name": "stderr",
     "output_type": "stream",
     "text": [
      " 73%|███████▎  | 1452/2000 [1:00:25<12:01,  1.32s/it]"
     ]
    },
    {
     "name": "stdout",
     "output_type": "stream",
     "text": [
      "Using both positive and negative shear\n"
     ]
    },
    {
     "name": "stderr",
     "output_type": "stream",
     "text": []
    },
    {
     "name": "stdout",
     "output_type": "stream",
     "text": [
      "    # of sims: 100\n",
      "    noise cancel m   : -17.824227 +/-  101.202387 [1e-3, 3-sigma]\n",
      "    noise cancel c   :  2672.258900 +/-  6503.674730 [1e-5, 3-sigma]\n"
     ]
    },
    {
     "name": "stderr",
     "output_type": "stream",
     "text": [
      " 73%|███████▎  | 1453/2000 [1:00:41<50:09,  5.50s/it]"
     ]
    },
    {
     "name": "stdout",
     "output_type": "stream",
     "text": [
      "0.4613331015644006\n"
     ]
    },
    {
     "name": "stderr",
     "output_type": "stream",
     "text": [
      " 73%|███████▎  | 1456/2000 [1:00:42<19:25,  2.14s/it]"
     ]
    },
    {
     "name": "stdout",
     "output_type": "stream",
     "text": [
      "Using both positive and negative shear\n"
     ]
    },
    {
     "name": "stderr",
     "output_type": "stream",
     "text": []
    },
    {
     "name": "stdout",
     "output_type": "stream",
     "text": [
      "    # of sims: 100\n",
      "    noise cancel m   :  0.686873 +/-  26.241069 [1e-3, 3-sigma]\n",
      "    noise cancel c   :  553.672234 +/-  965.668035 [1e-5, 3-sigma]\n"
     ]
    },
    {
     "name": "stderr",
     "output_type": "stream",
     "text": [
      " 73%|███████▎  | 1457/2000 [1:00:59<1:00:43,  6.71s/it]"
     ]
    },
    {
     "name": "stdout",
     "output_type": "stream",
     "text": [
      "0.3329385193434689\n"
     ]
    },
    {
     "name": "stderr",
     "output_type": "stream",
     "text": [
      " 73%|███████▎  | 1461/2000 [1:01:01<17:18,  1.93s/it]  "
     ]
    },
    {
     "name": "stdout",
     "output_type": "stream",
     "text": [
      "Using both positive and negative shear\n"
     ]
    },
    {
     "name": "stderr",
     "output_type": "stream",
     "text": []
    },
    {
     "name": "stdout",
     "output_type": "stream",
     "text": [
      "    # of sims: 100\n",
      "    noise cancel m   : -4.685217 +/-  17.084190 [1e-3, 3-sigma]\n",
      "    noise cancel c   :  1123.885603 +/-  3668.944428 [1e-5, 3-sigma]\n"
     ]
    },
    {
     "name": "stderr",
     "output_type": "stream",
     "text": [
      " 73%|███████▎  | 1462/2000 [1:01:17<56:17,  6.28s/it]"
     ]
    },
    {
     "name": "stdout",
     "output_type": "stream",
     "text": [
      "0.3647545026110731\n"
     ]
    },
    {
     "name": "stderr",
     "output_type": "stream",
     "text": [
      " 73%|███████▎  | 1469/2000 [1:01:20<07:03,  1.25it/s]"
     ]
    },
    {
     "name": "stdout",
     "output_type": "stream",
     "text": [
      "Using both positive and negative shear\n"
     ]
    },
    {
     "name": "stderr",
     "output_type": "stream",
     "text": []
    },
    {
     "name": "stdout",
     "output_type": "stream",
     "text": [
      "    # of sims: 100\n",
      "    noise cancel m   : -6.226458 +/-  42.935744 [1e-3, 3-sigma]\n",
      "    noise cancel c   :  827.406860 +/-  2061.703674 [1e-5, 3-sigma]\n"
     ]
    },
    {
     "name": "stderr",
     "output_type": "stream",
     "text": [
      " 74%|███████▎  | 1470/2000 [1:01:35<46:12,  5.23s/it]"
     ]
    },
    {
     "name": "stdout",
     "output_type": "stream",
     "text": [
      "0.3584502467688642\n"
     ]
    },
    {
     "name": "stderr",
     "output_type": "stream",
     "text": [
      " 74%|███████▎  | 1471/2000 [1:01:36<33:21,  3.78s/it]"
     ]
    },
    {
     "name": "stdout",
     "output_type": "stream",
     "text": [
      "Using both positive and negative shear\n"
     ]
    },
    {
     "name": "stderr",
     "output_type": "stream",
     "text": []
    },
    {
     "name": "stdout",
     "output_type": "stream",
     "text": [
      "    # of sims: 100\n",
      "    noise cancel m   : -3.625775 +/-  17.849720 [1e-3, 3-sigma]\n",
      "    noise cancel c   :  1769.479791 +/-  3902.764850 [1e-5, 3-sigma]\n"
     ]
    },
    {
     "name": "stderr",
     "output_type": "stream",
     "text": [
      " 74%|███████▎  | 1472/2000 [1:01:51<1:04:21,  7.31s/it]"
     ]
    },
    {
     "name": "stdout",
     "output_type": "stream",
     "text": [
      "0.3107399854872387\n"
     ]
    },
    {
     "name": "stderr",
     "output_type": "stream",
     "text": [
      " 74%|███████▎  | 1473/2000 [1:01:54<53:37,  6.11s/it]  "
     ]
    },
    {
     "name": "stdout",
     "output_type": "stream",
     "text": [
      "Using both positive and negative shear\n"
     ]
    },
    {
     "name": "stderr",
     "output_type": "stream",
     "text": []
    },
    {
     "name": "stdout",
     "output_type": "stream",
     "text": [
      "    # of sims: 100\n",
      "    noise cancel m   :  10.005940 +/-  50.412280 [1e-3, 3-sigma]\n",
      "    noise cancel c   :  2604.203794 +/-  3994.702023 [1e-5, 3-sigma]\n"
     ]
    },
    {
     "name": "stderr",
     "output_type": "stream",
     "text": [
      " 74%|███████▎  | 1474/2000 [1:02:10<1:19:31,  9.07s/it]"
     ]
    },
    {
     "name": "stdout",
     "output_type": "stream",
     "text": [
      "0.3238957398082357\n",
      "Using both positive and negative shear\n"
     ]
    },
    {
     "name": "stderr",
     "output_type": "stream",
     "text": []
    },
    {
     "name": "stdout",
     "output_type": "stream",
     "text": [
      "    # of sims: 100\n",
      "    noise cancel m   : -0.961458 +/-  5.590308 [1e-3, 3-sigma]\n",
      "    noise cancel c   :  4657.243604 +/-  10313.651287 [1e-5, 3-sigma]\n"
     ]
    },
    {
     "name": "stderr",
     "output_type": "stream",
     "text": [
      " 74%|███████▍  | 1475/2000 [1:02:27<1:39:13, 11.34s/it]"
     ]
    },
    {
     "name": "stdout",
     "output_type": "stream",
     "text": [
      "0.4209327611678939\n"
     ]
    },
    {
     "name": "stderr",
     "output_type": "stream",
     "text": [
      " 74%|███████▍  | 1480/2000 [1:02:37<40:25,  4.67s/it]  "
     ]
    },
    {
     "name": "stdout",
     "output_type": "stream",
     "text": [
      "Using both positive and negative shear\n"
     ]
    },
    {
     "name": "stderr",
     "output_type": "stream",
     "text": []
    },
    {
     "name": "stdout",
     "output_type": "stream",
     "text": [
      "    # of sims: 100\n",
      "    noise cancel m   : -24.343418 +/-  105.888717 [1e-3, 3-sigma]\n",
      "    noise cancel c   : -1092.274981 +/-  4840.235407 [1e-5, 3-sigma]\n"
     ]
    },
    {
     "name": "stderr",
     "output_type": "stream",
     "text": [
      " 74%|███████▍  | 1481/2000 [1:02:53<1:09:12,  8.00s/it]"
     ]
    },
    {
     "name": "stdout",
     "output_type": "stream",
     "text": [
      "0.39395706592925345\n"
     ]
    },
    {
     "name": "stderr",
     "output_type": "stream",
     "text": [
      " 74%|███████▍  | 1484/2000 [1:02:54<26:54,  3.13s/it]  "
     ]
    },
    {
     "name": "stdout",
     "output_type": "stream",
     "text": [
      "Using both positive and negative shear\n"
     ]
    },
    {
     "name": "stderr",
     "output_type": "stream",
     "text": []
    },
    {
     "name": "stdout",
     "output_type": "stream",
     "text": [
      "    # of sims: 100\n",
      "    noise cancel m   : -18.089239 +/-  114.691611 [1e-3, 3-sigma]\n",
      "    noise cancel c   :  349.271857 +/-  4219.546948 [1e-5, 3-sigma]\n"
     ]
    },
    {
     "name": "stderr",
     "output_type": "stream",
     "text": [
      " 74%|███████▍  | 1485/2000 [1:03:11<1:00:59,  7.11s/it]"
     ]
    },
    {
     "name": "stdout",
     "output_type": "stream",
     "text": [
      "0.33287772282236594\n"
     ]
    },
    {
     "name": "stderr",
     "output_type": "stream",
     "text": [
      " 75%|███████▍  | 1493/2000 [1:03:14<07:12,  1.17it/s]  "
     ]
    },
    {
     "name": "stdout",
     "output_type": "stream",
     "text": [
      "Using both positive and negative shear\n"
     ]
    },
    {
     "name": "stderr",
     "output_type": "stream",
     "text": []
    },
    {
     "name": "stdout",
     "output_type": "stream",
     "text": [
      "    # of sims: 100\n",
      "    noise cancel m   :  0.238029 +/-  0.136923 [1e-3, 3-sigma]\n",
      "    noise cancel c   :  366.067861 +/-  808.882010 [1e-5, 3-sigma]\n"
     ]
    },
    {
     "name": "stderr",
     "output_type": "stream",
     "text": [
      " 75%|███████▍  | 1494/2000 [1:03:42<1:15:26,  8.95s/it]"
     ]
    },
    {
     "name": "stdout",
     "output_type": "stream",
     "text": [
      "0.3211399031049797\n"
     ]
    },
    {
     "name": "stderr",
     "output_type": "stream",
     "text": [
      " 75%|███████▌  | 1507/2000 [1:03:46<03:49,  2.14it/s]  "
     ]
    },
    {
     "name": "stdout",
     "output_type": "stream",
     "text": [
      "Using both positive and negative shear\n"
     ]
    },
    {
     "name": "stderr",
     "output_type": "stream",
     "text": []
    },
    {
     "name": "stdout",
     "output_type": "stream",
     "text": [
      "    # of sims: 100\n",
      "    noise cancel m   : -6.738915 +/-  40.118832 [1e-3, 3-sigma]\n",
      "    noise cancel c   :  113.095581 +/-  1729.093983 [1e-5, 3-sigma]\n"
     ]
    },
    {
     "name": "stderr",
     "output_type": "stream",
     "text": [
      " 75%|███████▌  | 1508/2000 [1:04:02<41:07,  5.02s/it]"
     ]
    },
    {
     "name": "stdout",
     "output_type": "stream",
     "text": [
      "0.3166373161047656\n"
     ]
    },
    {
     "name": "stderr",
     "output_type": "stream",
     "text": [
      " 76%|███████▌  | 1511/2000 [1:04:03<15:23,  1.89s/it]"
     ]
    },
    {
     "name": "stdout",
     "output_type": "stream",
     "text": [
      "Using both positive and negative shear\n"
     ]
    },
    {
     "name": "stderr",
     "output_type": "stream",
     "text": []
    },
    {
     "name": "stdout",
     "output_type": "stream",
     "text": [
      "    # of sims: 100\n",
      "    noise cancel m   : -1.154969 +/-  10.293253 [1e-3, 3-sigma]\n",
      "    noise cancel c   :  646.288960 +/-  1427.384522 [1e-5, 3-sigma]\n"
     ]
    },
    {
     "name": "stderr",
     "output_type": "stream",
     "text": [
      " 76%|███████▌  | 1512/2000 [1:04:55<2:19:19, 17.13s/it]"
     ]
    },
    {
     "name": "stdout",
     "output_type": "stream",
     "text": [
      "0.41531426334875543\n"
     ]
    },
    {
     "name": "stderr",
     "output_type": "stream",
     "text": [
      " 76%|███████▋  | 1526/2000 [1:05:00<03:14,  2.44it/s]  "
     ]
    },
    {
     "name": "stdout",
     "output_type": "stream",
     "text": [
      "Using both positive and negative shear\n"
     ]
    },
    {
     "name": "stderr",
     "output_type": "stream",
     "text": []
    },
    {
     "name": "stdout",
     "output_type": "stream",
     "text": [
      "    # of sims: 100\n",
      "    noise cancel m   : -15.162828 +/-  88.598460 [1e-3, 3-sigma]\n",
      "    noise cancel c   :  821.842896 +/-  3571.556145 [1e-5, 3-sigma]\n"
     ]
    },
    {
     "name": "stderr",
     "output_type": "stream",
     "text": [
      " 76%|███████▋  | 1527/2000 [1:05:17<41:06,  5.21s/it]"
     ]
    },
    {
     "name": "stdout",
     "output_type": "stream",
     "text": [
      "0.35650357239413294\n"
     ]
    },
    {
     "name": "stderr",
     "output_type": "stream",
     "text": [
      " 77%|███████▋  | 1531/2000 [1:05:18<12:02,  1.54s/it]"
     ]
    },
    {
     "name": "stdout",
     "output_type": "stream",
     "text": [
      "Using both positive and negative shear\n"
     ]
    },
    {
     "name": "stderr",
     "output_type": "stream",
     "text": []
    },
    {
     "name": "stdout",
     "output_type": "stream",
     "text": [
      "    # of sims: 100\n",
      "    noise cancel m   :  58.477187 +/-  244.490301 [1e-3, 3-sigma]\n",
      "    noise cancel c   :  161.549592 +/-  339.630099 [1e-5, 3-sigma]\n"
     ]
    },
    {
     "name": "stderr",
     "output_type": "stream",
     "text": [
      " 77%|███████▋  | 1532/2000 [1:05:35<47:38,  6.11s/it]"
     ]
    },
    {
     "name": "stdout",
     "output_type": "stream",
     "text": [
      "0.31237763474127006\n"
     ]
    },
    {
     "name": "stderr",
     "output_type": "stream",
     "text": [
      " 77%|███████▋  | 1546/2000 [1:05:40<02:22,  3.19it/s]"
     ]
    },
    {
     "name": "stdout",
     "output_type": "stream",
     "text": [
      "Using both positive and negative shear\n"
     ]
    },
    {
     "name": "stderr",
     "output_type": "stream",
     "text": []
    },
    {
     "name": "stdout",
     "output_type": "stream",
     "text": [
      "    # of sims: 100\n",
      "    noise cancel m   : -6.322535 +/-  20.951165 [1e-3, 3-sigma]\n",
      "    noise cancel c   :  1244.879622 +/-  2775.426498 [1e-5, 3-sigma]\n"
     ]
    },
    {
     "name": "stderr",
     "output_type": "stream",
     "text": [
      " 77%|███████▋  | 1547/2000 [1:05:56<37:08,  4.92s/it]"
     ]
    },
    {
     "name": "stdout",
     "output_type": "stream",
     "text": [
      "0.30800248058934254\n"
     ]
    },
    {
     "name": "stderr",
     "output_type": "stream",
     "text": [
      " 78%|███████▊  | 1554/2000 [1:06:00<07:23,  1.01it/s]"
     ]
    },
    {
     "name": "stdout",
     "output_type": "stream",
     "text": [
      "Using both positive and negative shear\n"
     ]
    },
    {
     "name": "stderr",
     "output_type": "stream",
     "text": []
    },
    {
     "name": "stdout",
     "output_type": "stream",
     "text": [
      "    # of sims: 100\n",
      "    noise cancel m   : -8.467142 +/-  40.074175 [1e-3, 3-sigma]\n",
      "    noise cancel c   :  2566.705113 +/-  5725.659189 [1e-5, 3-sigma]\n"
     ]
    },
    {
     "name": "stderr",
     "output_type": "stream",
     "text": [
      " 78%|███████▊  | 1555/2000 [1:06:15<39:49,  5.37s/it]"
     ]
    },
    {
     "name": "stdout",
     "output_type": "stream",
     "text": [
      "0.40381047905360773\n"
     ]
    },
    {
     "name": "stderr",
     "output_type": "stream",
     "text": [
      " 78%|███████▊  | 1561/2000 [1:06:17<06:20,  1.15it/s]"
     ]
    },
    {
     "name": "stdout",
     "output_type": "stream",
     "text": [
      "Using both positive and negative shear\n"
     ]
    },
    {
     "name": "stderr",
     "output_type": "stream",
     "text": []
    },
    {
     "name": "stdout",
     "output_type": "stream",
     "text": [
      "    # of sims: 100\n",
      "    noise cancel m   : -6.003180 +/-  22.343645 [1e-3, 3-sigma]\n",
      "    noise cancel c   :  1337.194885 +/-  2894.288688 [1e-5, 3-sigma]\n"
     ]
    },
    {
     "name": "stderr",
     "output_type": "stream",
     "text": [
      " 78%|███████▊  | 1562/2000 [1:06:33<40:02,  5.48s/it]"
     ]
    },
    {
     "name": "stdout",
     "output_type": "stream",
     "text": [
      "0.3405225322746053\n"
     ]
    },
    {
     "name": "stderr",
     "output_type": "stream",
     "text": [
      " 79%|███████▊  | 1572/2000 [1:06:37<03:20,  2.14it/s]"
     ]
    },
    {
     "name": "stdout",
     "output_type": "stream",
     "text": [
      "Using both positive and negative shear\n"
     ]
    },
    {
     "name": "stderr",
     "output_type": "stream",
     "text": []
    },
    {
     "name": "stdout",
     "output_type": "stream",
     "text": [
      "    # of sims: 100\n",
      "    noise cancel m   : -0.673939 +/-  6.138713 [1e-3, 3-sigma]\n",
      "    noise cancel c   :  5486.879390 +/-  12174.402755 [1e-5, 3-sigma]\n"
     ]
    },
    {
     "name": "stderr",
     "output_type": "stream",
     "text": [
      " 79%|███████▊  | 1573/2000 [1:06:53<37:02,  5.20s/it]"
     ]
    },
    {
     "name": "stdout",
     "output_type": "stream",
     "text": [
      "0.435483874945342\n"
     ]
    },
    {
     "name": "stderr",
     "output_type": "stream",
     "text": [
      " 80%|████████  | 1608/2000 [1:07:06<01:35,  4.12it/s]"
     ]
    },
    {
     "name": "stdout",
     "output_type": "stream",
     "text": [
      "Using both positive and negative shear\n"
     ]
    },
    {
     "name": "stderr",
     "output_type": "stream",
     "text": []
    },
    {
     "name": "stdout",
     "output_type": "stream",
     "text": [
      "    # of sims: 100\n",
      "    noise cancel m   : -94.145264 +/-  225.905035 [1e-3, 3-sigma]\n",
      "    noise cancel c   : -545.156573 +/-  2005.098352 [1e-5, 3-sigma]\n"
     ]
    },
    {
     "name": "stderr",
     "output_type": "stream",
     "text": [
      " 80%|████████  | 1609/2000 [1:07:22<32:13,  4.95s/it]"
     ]
    },
    {
     "name": "stdout",
     "output_type": "stream",
     "text": [
      "0.3599283593817396\n"
     ]
    },
    {
     "name": "stderr",
     "output_type": "stream",
     "text": [
      " 82%|████████▏ | 1634/2000 [1:07:36<03:37,  1.69it/s]"
     ]
    },
    {
     "name": "stdout",
     "output_type": "stream",
     "text": [
      "Using both positive and negative shear\n"
     ]
    },
    {
     "name": "stderr",
     "output_type": "stream",
     "text": []
    },
    {
     "name": "stdout",
     "output_type": "stream",
     "text": [
      "    # of sims: 100\n",
      "    noise cancel m   : -22.578698 +/-  81.133389 [1e-3, 3-sigma]\n",
      "    noise cancel c   :  1421.138722 +/-  4042.902209 [1e-5, 3-sigma]\n"
     ]
    },
    {
     "name": "stderr",
     "output_type": "stream",
     "text": [
      " 82%|████████▏ | 1635/2000 [1:07:52<31:22,  5.16s/it]"
     ]
    },
    {
     "name": "stdout",
     "output_type": "stream",
     "text": [
      "0.320200770237334\n"
     ]
    },
    {
     "name": "stderr",
     "output_type": "stream",
     "text": [
      " 83%|████████▎ | 1659/2000 [1:08:04<03:23,  1.68it/s]"
     ]
    },
    {
     "name": "stdout",
     "output_type": "stream",
     "text": [
      "Using both positive and negative shear\n"
     ]
    },
    {
     "name": "stderr",
     "output_type": "stream",
     "text": []
    },
    {
     "name": "stdout",
     "output_type": "stream",
     "text": [
      "    # of sims: 100\n",
      "    noise cancel m   : -75.774427 +/-  187.981346 [1e-3, 3-sigma]\n",
      "    noise cancel c   :  1477.529403 +/-  5486.406085 [1e-5, 3-sigma]\n"
     ]
    },
    {
     "name": "stderr",
     "output_type": "stream",
     "text": [
      " 83%|████████▎ | 1660/2000 [1:08:20<30:40,  5.41s/it]"
     ]
    },
    {
     "name": "stdout",
     "output_type": "stream",
     "text": [
      "0.38685013432438076\n"
     ]
    },
    {
     "name": "stderr",
     "output_type": "stream",
     "text": [
      " 83%|████████▎ | 1663/2000 [1:08:21<11:32,  2.06s/it]"
     ]
    },
    {
     "name": "stdout",
     "output_type": "stream",
     "text": [
      "Using both positive and negative shear\n"
     ]
    },
    {
     "name": "stderr",
     "output_type": "stream",
     "text": []
    },
    {
     "name": "stdout",
     "output_type": "stream",
     "text": [
      "    # of sims: 100\n",
      "    noise cancel m   : -3.691186 +/-  17.934599 [1e-3, 3-sigma]\n",
      "    noise cancel c   :  2516.846372 +/-  5528.215148 [1e-5, 3-sigma]\n"
     ]
    },
    {
     "name": "stderr",
     "output_type": "stream",
     "text": [
      " 83%|████████▎ | 1664/2000 [1:08:37<33:54,  6.06s/it]"
     ]
    },
    {
     "name": "stdout",
     "output_type": "stream",
     "text": [
      "0.2883853985362823\n",
      "Using both positive and negative shear\n"
     ]
    },
    {
     "name": "stderr",
     "output_type": "stream",
     "text": []
    },
    {
     "name": "stdout",
     "output_type": "stream",
     "text": [
      "    # of sims: 100\n",
      "    noise cancel m   :  5.882114 +/-  117.016876 [1e-3, 3-sigma]\n",
      "    noise cancel c   :  262.934357 +/-  3682.775136 [1e-5, 3-sigma]\n"
     ]
    },
    {
     "name": "stderr",
     "output_type": "stream",
     "text": [
      " 83%|████████▎ | 1665/2000 [1:08:53<50:18,  9.01s/it]"
     ]
    },
    {
     "name": "stdout",
     "output_type": "stream",
     "text": [
      "0.3445081578399961\n"
     ]
    },
    {
     "name": "stderr",
     "output_type": "stream",
     "text": [
      " 84%|████████▎ | 1671/2000 [1:08:55<07:41,  1.40s/it]"
     ]
    },
    {
     "name": "stdout",
     "output_type": "stream",
     "text": [
      "Using both positive and negative shear\n"
     ]
    },
    {
     "name": "stderr",
     "output_type": "stream",
     "text": []
    },
    {
     "name": "stdout",
     "output_type": "stream",
     "text": [
      "    # of sims: 100\n",
      "    noise cancel m   : -6.608346 +/-  29.760596 [1e-3, 3-sigma]\n",
      "    noise cancel c   :  371.826424 +/-  1254.350201 [1e-5, 3-sigma]\n"
     ]
    },
    {
     "name": "stderr",
     "output_type": "stream",
     "text": [
      " 84%|████████▎ | 1672/2000 [1:09:10<30:19,  5.55s/it]"
     ]
    },
    {
     "name": "stdout",
     "output_type": "stream",
     "text": [
      "0.41116752131144557\n"
     ]
    },
    {
     "name": "stderr",
     "output_type": "stream",
     "text": [
      " 84%|████████▍ | 1676/2000 [1:09:11<08:07,  1.50s/it]"
     ]
    },
    {
     "name": "stdout",
     "output_type": "stream",
     "text": [
      "Using both positive and negative shear\n"
     ]
    },
    {
     "name": "stderr",
     "output_type": "stream",
     "text": []
    },
    {
     "name": "stdout",
     "output_type": "stream",
     "text": [
      "    # of sims: 100\n",
      "    noise cancel m   : -0.863632 +/-  9.965323 [1e-3, 3-sigma]\n",
      "    noise cancel c   :  2310.959624 +/-  5106.094996 [1e-5, 3-sigma]\n"
     ]
    },
    {
     "name": "stderr",
     "output_type": "stream",
     "text": [
      " 84%|████████▍ | 1677/2000 [1:09:28<31:53,  5.92s/it]"
     ]
    },
    {
     "name": "stdout",
     "output_type": "stream",
     "text": [
      "0.3607089822125228\n"
     ]
    },
    {
     "name": "stderr",
     "output_type": "stream",
     "text": [
      " 84%|████████▍ | 1688/2000 [1:09:31<01:55,  2.71it/s]"
     ]
    },
    {
     "name": "stdout",
     "output_type": "stream",
     "text": [
      "Using both positive and negative shear\n"
     ]
    },
    {
     "name": "stderr",
     "output_type": "stream",
     "text": []
    },
    {
     "name": "stdout",
     "output_type": "stream",
     "text": [
      "    # of sims: 100\n",
      "    noise cancel m   : -9.249101 +/-  34.867410 [1e-3, 3-sigma]\n",
      "    noise cancel c   :  428.490588 +/-  1854.127310 [1e-5, 3-sigma]\n"
     ]
    },
    {
     "name": "stderr",
     "output_type": "stream",
     "text": [
      " 84%|████████▍ | 1689/2000 [1:09:46<25:20,  4.89s/it]"
     ]
    },
    {
     "name": "stdout",
     "output_type": "stream",
     "text": [
      "0.3815390012412784\n"
     ]
    },
    {
     "name": "stderr",
     "output_type": "stream",
     "text": [
      " 85%|████████▍ | 1697/2000 [1:09:50<03:46,  1.34it/s]"
     ]
    },
    {
     "name": "stdout",
     "output_type": "stream",
     "text": [
      "Using both positive and negative shear\n"
     ]
    },
    {
     "name": "stderr",
     "output_type": "stream",
     "text": []
    },
    {
     "name": "stdout",
     "output_type": "stream",
     "text": [
      "    # of sims: 100\n",
      "    noise cancel m   : -10.913397 +/-  41.564913 [1e-3, 3-sigma]\n",
      "    noise cancel c   :  594.818429 +/-  1833.049558 [1e-5, 3-sigma]\n"
     ]
    },
    {
     "name": "stderr",
     "output_type": "stream",
     "text": [
      " 85%|████████▍ | 1698/2000 [1:10:06<27:17,  5.42s/it]"
     ]
    },
    {
     "name": "stdout",
     "output_type": "stream",
     "text": [
      "0.27805346626323374\n",
      "Using both positive and negative shear\n"
     ]
    },
    {
     "name": "stderr",
     "output_type": "stream",
     "text": []
    },
    {
     "name": "stdout",
     "output_type": "stream",
     "text": [
      "    # of sims: 100\n",
      "    noise cancel m   : -0.687442 +/-  9.117581 [1e-3, 3-sigma]\n",
      "    noise cancel c   :  201.631209 +/-  491.842608 [1e-5, 3-sigma]\n"
     ]
    },
    {
     "name": "stderr",
     "output_type": "stream",
     "text": [
      " 85%|████████▍ | 1699/2000 [1:10:22<43:56,  8.76s/it]"
     ]
    },
    {
     "name": "stdout",
     "output_type": "stream",
     "text": [
      "0.33749104278297354\n"
     ]
    },
    {
     "name": "stderr",
     "output_type": "stream",
     "text": [
      " 86%|████████▌ | 1713/2000 [1:10:32<02:57,  1.62it/s]"
     ]
    },
    {
     "name": "stdout",
     "output_type": "stream",
     "text": [
      "Using both positive and negative shear\n"
     ]
    },
    {
     "name": "stderr",
     "output_type": "stream",
     "text": []
    },
    {
     "name": "stdout",
     "output_type": "stream",
     "text": [
      "    # of sims: 100\n",
      "    noise cancel m   :  10.242587 +/-  98.625739 [1e-3, 3-sigma]\n",
      "    noise cancel c   :  671.440047 +/-  1404.954207 [1e-5, 3-sigma]\n"
     ]
    },
    {
     "name": "stderr",
     "output_type": "stream",
     "text": [
      " 86%|████████▌ | 1714/2000 [1:10:48<26:06,  5.48s/it]"
     ]
    },
    {
     "name": "stdout",
     "output_type": "stream",
     "text": [
      "0.34249297417006347\n"
     ]
    },
    {
     "name": "stderr",
     "output_type": "stream",
     "text": [
      " 86%|████████▌ | 1719/2000 [1:10:50<05:40,  1.21s/it]"
     ]
    },
    {
     "name": "stdout",
     "output_type": "stream",
     "text": [
      "Using both positive and negative shear\n"
     ]
    },
    {
     "name": "stderr",
     "output_type": "stream",
     "text": []
    },
    {
     "name": "stdout",
     "output_type": "stream",
     "text": [
      "    # of sims: 100\n",
      "    noise cancel m   : -12.061013 +/-  44.182068 [1e-3, 3-sigma]\n",
      "    noise cancel c   :  496.720111 +/-  1761.599100 [1e-5, 3-sigma]\n"
     ]
    },
    {
     "name": "stderr",
     "output_type": "stream",
     "text": [
      " 86%|████████▌ | 1720/2000 [1:11:06<25:27,  5.46s/it]"
     ]
    },
    {
     "name": "stdout",
     "output_type": "stream",
     "text": [
      "0.31691207490767903\n"
     ]
    },
    {
     "name": "stderr",
     "output_type": "stream",
     "text": [
      " 86%|████████▌ | 1722/2000 [1:11:06<12:53,  2.78s/it]"
     ]
    },
    {
     "name": "stdout",
     "output_type": "stream",
     "text": [
      "Using both positive and negative shear\n"
     ]
    },
    {
     "name": "stderr",
     "output_type": "stream",
     "text": []
    },
    {
     "name": "stdout",
     "output_type": "stream",
     "text": [
      "    # of sims: 100\n",
      "    noise cancel m   : -25.156910 +/-  87.627566 [1e-3, 3-sigma]\n",
      "    noise cancel c   :  5501.916575 +/-  12478.152518 [1e-5, 3-sigma]\n"
     ]
    },
    {
     "name": "stderr",
     "output_type": "stream",
     "text": [
      " 86%|████████▌ | 1723/2000 [1:11:30<41:52,  9.07s/it]"
     ]
    },
    {
     "name": "stdout",
     "output_type": "stream",
     "text": [
      "0.3865212186468844\n"
     ]
    },
    {
     "name": "stderr",
     "output_type": "stream",
     "text": [
      " 86%|████████▋ | 1728/2000 [1:11:31<08:05,  1.78s/it]"
     ]
    },
    {
     "name": "stdout",
     "output_type": "stream",
     "text": [
      "Using both positive and negative shear\n"
     ]
    },
    {
     "name": "stderr",
     "output_type": "stream",
     "text": []
    },
    {
     "name": "stdout",
     "output_type": "stream",
     "text": [
      "    # of sims: 100\n",
      "    noise cancel m   : -7.065690 +/-  45.875230 [1e-3, 3-sigma]\n",
      "    noise cancel c   :  2110.178137 +/-  4741.474394 [1e-5, 3-sigma]\n"
     ]
    },
    {
     "name": "stderr",
     "output_type": "stream",
     "text": [
      " 86%|████████▋ | 1729/2000 [1:11:47<27:21,  6.06s/it]"
     ]
    },
    {
     "name": "stdout",
     "output_type": "stream",
     "text": [
      "0.35141618246334233\n"
     ]
    },
    {
     "name": "stderr",
     "output_type": "stream",
     "text": [
      " 89%|████████▉ | 1782/2000 [1:12:42<03:20,  1.09it/s]"
     ]
    },
    {
     "name": "stdout",
     "output_type": "stream",
     "text": [
      "Using both positive and negative shear\n"
     ]
    },
    {
     "name": "stderr",
     "output_type": "stream",
     "text": []
    },
    {
     "name": "stdout",
     "output_type": "stream",
     "text": [
      "    # of sims: 100\n",
      "    noise cancel m   :  1.288692 +/-  85.865451 [1e-3, 3-sigma]\n",
      "    noise cancel c   :  2068.868410 +/-  3343.482821 [1e-5, 3-sigma]\n"
     ]
    },
    {
     "name": "stderr",
     "output_type": "stream",
     "text": [
      " 89%|████████▉ | 1783/2000 [1:13:02<24:16,  6.71s/it]"
     ]
    },
    {
     "name": "stdout",
     "output_type": "stream",
     "text": [
      "0.336730035112173\n"
     ]
    },
    {
     "name": "stderr",
     "output_type": "stream",
     "text": [
      " 91%|█████████ | 1811/2000 [1:13:12<00:45,  4.18it/s]"
     ]
    },
    {
     "name": "stdout",
     "output_type": "stream",
     "text": [
      "Using both positive and negative shear\n"
     ]
    },
    {
     "name": "stderr",
     "output_type": "stream",
     "text": []
    },
    {
     "name": "stdout",
     "output_type": "stream",
     "text": [
      "    # of sims: 100\n",
      "    noise cancel m   : -0.998740 +/-  8.591173 [1e-3, 3-sigma]\n",
      "    noise cancel c   :  81.577676 +/-  328.023253 [1e-5, 3-sigma]\n"
     ]
    },
    {
     "name": "stderr",
     "output_type": "stream",
     "text": [
      " 91%|█████████ | 1812/2000 [1:13:28<15:48,  5.04s/it]"
     ]
    },
    {
     "name": "stdout",
     "output_type": "stream",
     "text": [
      "0.4551432792097439\n",
      "Using both positive and negative shear\n"
     ]
    },
    {
     "name": "stderr",
     "output_type": "stream",
     "text": []
    },
    {
     "name": "stdout",
     "output_type": "stream",
     "text": [
      "    # of sims: 100\n",
      "    noise cancel m   : -22.339130 +/-  64.709274 [1e-3, 3-sigma]\n",
      "    noise cancel c   :  3817.545029 +/-  8723.264201 [1e-5, 3-sigma]\n"
     ]
    },
    {
     "name": "stderr",
     "output_type": "stream",
     "text": [
      " 91%|█████████ | 1813/2000 [1:13:44<26:02,  8.35s/it]"
     ]
    },
    {
     "name": "stdout",
     "output_type": "stream",
     "text": [
      "0.4751178428435248\n"
     ]
    },
    {
     "name": "stderr",
     "output_type": "stream",
     "text": [
      " 92%|█████████▏| 1835/2000 [1:13:51<00:45,  3.61it/s]"
     ]
    },
    {
     "name": "stdout",
     "output_type": "stream",
     "text": [
      "Using both positive and negative shear\n"
     ]
    },
    {
     "name": "stderr",
     "output_type": "stream",
     "text": []
    },
    {
     "name": "stdout",
     "output_type": "stream",
     "text": [
      "    # of sims: 100\n",
      "    noise cancel m   : -5.341667 +/-  30.932961 [1e-3, 3-sigma]\n",
      "    noise cancel c   :  5169.531878 +/-  11560.539606 [1e-5, 3-sigma]\n"
     ]
    },
    {
     "name": "stderr",
     "output_type": "stream",
     "text": [
      " 92%|█████████▏| 1836/2000 [1:14:08<14:26,  5.28s/it]"
     ]
    },
    {
     "name": "stdout",
     "output_type": "stream",
     "text": [
      "0.41532730787911176\n"
     ]
    },
    {
     "name": "stderr",
     "output_type": "stream",
     "text": [
      " 92%|█████████▏| 1837/2000 [1:14:09<10:21,  3.81s/it]"
     ]
    },
    {
     "name": "stdout",
     "output_type": "stream",
     "text": [
      "Using both positive and negative shear\n"
     ]
    },
    {
     "name": "stderr",
     "output_type": "stream",
     "text": []
    },
    {
     "name": "stdout",
     "output_type": "stream",
     "text": [
      "    # of sims: 100\n",
      "    noise cancel m   : -192.640696 +/-  461.843093 [1e-3, 3-sigma]\n",
      "    noise cancel c   :  9.691809 +/-  5042.049591 [1e-5, 3-sigma]\n"
     ]
    },
    {
     "name": "stderr",
     "output_type": "stream",
     "text": [
      " 92%|█████████▏| 1838/2000 [1:14:25<20:38,  7.65s/it]"
     ]
    },
    {
     "name": "stdout",
     "output_type": "stream",
     "text": [
      "0.3583676744076066\n"
     ]
    },
    {
     "name": "stderr",
     "output_type": "stream",
     "text": [
      " 92%|█████████▏| 1847/2000 [1:14:28<01:38,  1.55it/s]"
     ]
    },
    {
     "name": "stdout",
     "output_type": "stream",
     "text": [
      "Using both positive and negative shear\n"
     ]
    },
    {
     "name": "stderr",
     "output_type": "stream",
     "text": []
    },
    {
     "name": "stdout",
     "output_type": "stream",
     "text": [
      "    # of sims: 100\n",
      "    noise cancel m   : -108.542955 +/-  255.839382 [1e-3, 3-sigma]\n",
      "    noise cancel c   :  988.315612 +/-  2262.942004 [1e-5, 3-sigma]\n"
     ]
    },
    {
     "name": "stderr",
     "output_type": "stream",
     "text": [
      " 92%|█████████▏| 1848/2000 [1:14:44<13:19,  5.26s/it]"
     ]
    },
    {
     "name": "stdout",
     "output_type": "stream",
     "text": [
      "0.36727491197686246\n"
     ]
    },
    {
     "name": "stderr",
     "output_type": "stream",
     "text": [
      " 93%|█████████▎| 1854/2000 [1:14:46<02:13,  1.09it/s]"
     ]
    },
    {
     "name": "stdout",
     "output_type": "stream",
     "text": [
      "Using both positive and negative shear\n"
     ]
    },
    {
     "name": "stderr",
     "output_type": "stream",
     "text": []
    },
    {
     "name": "stdout",
     "output_type": "stream",
     "text": [
      "    # of sims: 100\n",
      "    noise cancel m   :  78.030257 +/-  197.175180 [1e-3, 3-sigma]\n",
      "    noise cancel c   :  935.923301 +/-  2209.851820 [1e-5, 3-sigma]\n"
     ]
    },
    {
     "name": "stderr",
     "output_type": "stream",
     "text": [
      " 93%|█████████▎| 1855/2000 [1:15:05<15:00,  6.21s/it]"
     ]
    },
    {
     "name": "stdout",
     "output_type": "stream",
     "text": [
      "0.32310020852888033\n"
     ]
    },
    {
     "name": "stderr",
     "output_type": "stream",
     "text": [
      " 93%|█████████▎| 1858/2000 [1:15:06<05:32,  2.34s/it]"
     ]
    },
    {
     "name": "stdout",
     "output_type": "stream",
     "text": [
      "Using both positive and negative shear\n"
     ]
    },
    {
     "name": "stderr",
     "output_type": "stream",
     "text": []
    },
    {
     "name": "stdout",
     "output_type": "stream",
     "text": [
      "    # of sims: 100\n",
      "    noise cancel m   : -3.590178 +/-  20.574879 [1e-3, 3-sigma]\n",
      "    noise cancel c   :  1516.681908 +/-  3350.707401 [1e-5, 3-sigma]\n"
     ]
    },
    {
     "name": "stderr",
     "output_type": "stream",
     "text": [
      " 93%|█████████▎| 1859/2000 [1:15:22<15:29,  6.59s/it]"
     ]
    },
    {
     "name": "stdout",
     "output_type": "stream",
     "text": [
      "0.34315012353670726\n"
     ]
    },
    {
     "name": "stderr",
     "output_type": "stream",
     "text": [
      " 94%|█████████▎| 1871/2000 [1:15:30<02:20,  1.09s/it]"
     ]
    },
    {
     "name": "stdout",
     "output_type": "stream",
     "text": [
      "Using both positive and negative shear\n"
     ]
    },
    {
     "name": "stderr",
     "output_type": "stream",
     "text": []
    },
    {
     "name": "stdout",
     "output_type": "stream",
     "text": [
      "    # of sims: 100\n",
      "    noise cancel m   : -64.376236 +/-  132.588215 [1e-3, 3-sigma]\n",
      "    noise cancel c   :  419.338071 +/-  1077.033922 [1e-5, 3-sigma]\n"
     ]
    },
    {
     "name": "stderr",
     "output_type": "stream",
     "text": [
      " 94%|█████████▎| 1872/2000 [1:15:48<13:15,  6.21s/it]"
     ]
    },
    {
     "name": "stdout",
     "output_type": "stream",
     "text": [
      "0.37188134428711406\n",
      "Using both positive and negative shear\n"
     ]
    },
    {
     "name": "stderr",
     "output_type": "stream",
     "text": []
    },
    {
     "name": "stdout",
     "output_type": "stream",
     "text": [
      "    # of sims: 100\n",
      "    noise cancel m   : -3.223788 +/-  20.643876 [1e-3, 3-sigma]\n",
      "    noise cancel c   :  3471.597927 +/-  7648.138177 [1e-5, 3-sigma]\n"
     ]
    },
    {
     "name": "stderr",
     "output_type": "stream",
     "text": [
      " 94%|█████████▎| 1873/2000 [1:16:05<19:52,  9.39s/it]"
     ]
    },
    {
     "name": "stdout",
     "output_type": "stream",
     "text": [
      "0.30449168533781024\n",
      "Using both positive and negative shear\n"
     ]
    },
    {
     "name": "stderr",
     "output_type": "stream",
     "text": []
    },
    {
     "name": "stdout",
     "output_type": "stream",
     "text": [
      "    # of sims: 100\n",
      "    noise cancel m   :  12.262977 +/-  210.897235 [1e-3, 3-sigma]\n",
      "    noise cancel c   :  820.670713 +/-  1544.650006 [1e-5, 3-sigma]\n"
     ]
    },
    {
     "name": "stderr",
     "output_type": "stream",
     "text": [
      " 94%|█████████▎| 1874/2000 [1:16:23<25:12, 12.00s/it]"
     ]
    },
    {
     "name": "stdout",
     "output_type": "stream",
     "text": [
      "0.3145973943287304\n"
     ]
    },
    {
     "name": "stderr",
     "output_type": "stream",
     "text": [
      " 94%|█████████▍| 1876/2000 [1:16:24<12:34,  6.08s/it]"
     ]
    },
    {
     "name": "stdout",
     "output_type": "stream",
     "text": [
      "Using both positive and negative shear\n"
     ]
    },
    {
     "name": "stderr",
     "output_type": "stream",
     "text": []
    },
    {
     "name": "stdout",
     "output_type": "stream",
     "text": [
      "    # of sims: 100\n",
      "    noise cancel m   : -11.032712 +/-  67.648549 [1e-3, 3-sigma]\n",
      "    noise cancel c   :  608.135337 +/-  2600.321104 [1e-5, 3-sigma]\n"
     ]
    },
    {
     "name": "stderr",
     "output_type": "stream",
     "text": [
      " 94%|█████████▍| 1877/2000 [1:16:40<19:00,  9.27s/it]"
     ]
    },
    {
     "name": "stdout",
     "output_type": "stream",
     "text": [
      "0.3027550754015422\n"
     ]
    },
    {
     "name": "stderr",
     "output_type": "stream",
     "text": [
      " 94%|█████████▍| 1889/2000 [1:16:45<00:46,  2.39it/s]"
     ]
    },
    {
     "name": "stdout",
     "output_type": "stream",
     "text": [
      "Using both positive and negative shear\n"
     ]
    },
    {
     "name": "stderr",
     "output_type": "stream",
     "text": []
    },
    {
     "name": "stdout",
     "output_type": "stream",
     "text": [
      "    # of sims: 100\n",
      "    noise cancel m   : -4.822617 +/-  15.080994 [1e-3, 3-sigma]\n",
      "    noise cancel c   :  100.868632 +/-  351.213430 [1e-5, 3-sigma]\n"
     ]
    },
    {
     "name": "stderr",
     "output_type": "stream",
     "text": [
      " 94%|█████████▍| 1890/2000 [1:17:02<09:48,  5.35s/it]"
     ]
    },
    {
     "name": "stdout",
     "output_type": "stream",
     "text": [
      "0.33519174363922954\n"
     ]
    },
    {
     "name": "stderr",
     "output_type": "stream",
     "text": [
      " 95%|█████████▍| 1897/2000 [1:17:03<01:07,  1.52it/s]"
     ]
    },
    {
     "name": "stdout",
     "output_type": "stream",
     "text": [
      "Using both positive and negative shear\n"
     ]
    },
    {
     "name": "stderr",
     "output_type": "stream",
     "text": []
    },
    {
     "name": "stdout",
     "output_type": "stream",
     "text": [
      "    # of sims: 100\n",
      "    noise cancel m   : -4.753755 +/-  32.908627 [1e-3, 3-sigma]\n",
      "    noise cancel c   :  320.369629 +/-  1280.776594 [1e-5, 3-sigma]\n"
     ]
    },
    {
     "name": "stderr",
     "output_type": "stream",
     "text": [
      " 95%|█████████▍| 1898/2000 [1:17:19<08:50,  5.20s/it]"
     ]
    },
    {
     "name": "stdout",
     "output_type": "stream",
     "text": [
      "0.4069396197324621\n"
     ]
    },
    {
     "name": "stderr",
     "output_type": "stream",
     "text": [
      " 95%|█████████▌| 1906/2000 [1:17:22<00:53,  1.77it/s]"
     ]
    },
    {
     "name": "stdout",
     "output_type": "stream",
     "text": [
      "Using both positive and negative shear\n"
     ]
    },
    {
     "name": "stderr",
     "output_type": "stream",
     "text": []
    },
    {
     "name": "stdout",
     "output_type": "stream",
     "text": [
      "    # of sims: 100\n",
      "    noise cancel m   : -11.794515 +/-  65.850317 [1e-3, 3-sigma]\n",
      "    noise cancel c   :  422.091059 +/-  2349.239728 [1e-5, 3-sigma]\n"
     ]
    },
    {
     "name": "stderr",
     "output_type": "stream",
     "text": [
      " 95%|█████████▌| 1907/2000 [1:17:38<07:50,  5.06s/it]"
     ]
    },
    {
     "name": "stdout",
     "output_type": "stream",
     "text": [
      "0.28265671970280426\n"
     ]
    },
    {
     "name": "stderr",
     "output_type": "stream",
     "text": [
      " 96%|█████████▋| 1925/2000 [1:17:45<00:25,  2.99it/s]"
     ]
    },
    {
     "name": "stdout",
     "output_type": "stream",
     "text": [
      "Using both positive and negative shear\n"
     ]
    },
    {
     "name": "stderr",
     "output_type": "stream",
     "text": []
    },
    {
     "name": "stdout",
     "output_type": "stream",
     "text": [
      "    # of sims: 100\n",
      "    noise cancel m   : -3.140273 +/-  77.560784 [1e-3, 3-sigma]\n",
      "    noise cancel c   :  442.207221 +/-  2417.494680 [1e-5, 3-sigma]\n"
     ]
    },
    {
     "name": "stderr",
     "output_type": "stream",
     "text": [
      " 96%|█████████▋| 1926/2000 [1:18:01<06:20,  5.14s/it]"
     ]
    },
    {
     "name": "stdout",
     "output_type": "stream",
     "text": [
      "0.45729746513477065\n"
     ]
    },
    {
     "name": "stderr",
     "output_type": "stream",
     "text": [
      " 97%|█████████▋| 1934/2000 [1:18:04<00:44,  1.47it/s]"
     ]
    },
    {
     "name": "stdout",
     "output_type": "stream",
     "text": [
      "Using both positive and negative shear\n"
     ]
    },
    {
     "name": "stderr",
     "output_type": "stream",
     "text": []
    },
    {
     "name": "stdout",
     "output_type": "stream",
     "text": [
      "    # of sims: 100\n",
      "    noise cancel m   : -6.022474 +/-  37.447066 [1e-3, 3-sigma]\n",
      "    noise cancel c   :  275.100371 +/-  1353.229509 [1e-5, 3-sigma]\n"
     ]
    },
    {
     "name": "stderr",
     "output_type": "stream",
     "text": [
      " 97%|█████████▋| 1935/2000 [1:18:20<05:45,  5.32s/it]"
     ]
    },
    {
     "name": "stdout",
     "output_type": "stream",
     "text": [
      "0.40149169301013204\n"
     ]
    },
    {
     "name": "stderr",
     "output_type": "stream",
     "text": [
      " 97%|█████████▋| 1936/2000 [1:18:21<04:06,  3.84s/it]"
     ]
    },
    {
     "name": "stdout",
     "output_type": "stream",
     "text": [
      "Using both positive and negative shear\n"
     ]
    },
    {
     "name": "stderr",
     "output_type": "stream",
     "text": []
    },
    {
     "name": "stdout",
     "output_type": "stream",
     "text": [
      "    # of sims: 100\n",
      "    noise cancel m   : -1.596888 +/-  22.866277 [1e-3, 3-sigma]\n",
      "    noise cancel c   :  460.879154 +/-  1177.077078 [1e-5, 3-sigma]\n"
     ]
    },
    {
     "name": "stderr",
     "output_type": "stream",
     "text": [
      " 97%|█████████▋| 1937/2000 [1:18:38<08:04,  7.69s/it]"
     ]
    },
    {
     "name": "stdout",
     "output_type": "stream",
     "text": [
      "0.28313721462228214\n",
      "Using both positive and negative shear\n"
     ]
    },
    {
     "name": "stderr",
     "output_type": "stream",
     "text": []
    },
    {
     "name": "stdout",
     "output_type": "stream",
     "text": [
      "    # of sims: 100\n",
      "    noise cancel m   : -5.318408 +/-  37.149362 [1e-3, 3-sigma]\n",
      "    noise cancel c   :  720.152643 +/-  1903.274230 [1e-5, 3-sigma]\n"
     ]
    },
    {
     "name": "stderr",
     "output_type": "stream",
     "text": [
      " 97%|█████████▋| 1938/2000 [1:18:54<10:30, 10.17s/it]"
     ]
    },
    {
     "name": "stdout",
     "output_type": "stream",
     "text": [
      "0.3834324499524601\n"
     ]
    },
    {
     "name": "stderr",
     "output_type": "stream",
     "text": [
      " 97%|█████████▋| 1942/2000 [1:18:55<02:40,  2.76s/it]"
     ]
    },
    {
     "name": "stdout",
     "output_type": "stream",
     "text": [
      "Using both positive and negative shear\n"
     ]
    },
    {
     "name": "stderr",
     "output_type": "stream",
     "text": []
    },
    {
     "name": "stdout",
     "output_type": "stream",
     "text": [
      "    # of sims: 100\n",
      "    noise cancel m   : -3.255537 +/-  22.516484 [1e-3, 3-sigma]\n",
      "    noise cancel c   :  2093.450759 +/-  7194.502237 [1e-5, 3-sigma]\n"
     ]
    },
    {
     "name": "stderr",
     "output_type": "stream",
     "text": [
      " 97%|█████████▋| 1943/2000 [1:19:11<06:22,  6.71s/it]"
     ]
    },
    {
     "name": "stdout",
     "output_type": "stream",
     "text": [
      "0.324414369947718\n"
     ]
    },
    {
     "name": "stderr",
     "output_type": "stream",
     "text": [
      " 99%|█████████▊| 1971/2000 [1:19:34<00:10,  2.71it/s]"
     ]
    },
    {
     "name": "stdout",
     "output_type": "stream",
     "text": [
      "Using both positive and negative shear\n"
     ]
    },
    {
     "name": "stderr",
     "output_type": "stream",
     "text": []
    },
    {
     "name": "stdout",
     "output_type": "stream",
     "text": [
      "    # of sims: 100\n",
      "    noise cancel m   : -13.958442 +/-  242.976907 [1e-3, 3-sigma]\n",
      "    noise cancel c   :  881.197130 +/-  2755.103794 [1e-5, 3-sigma]\n"
     ]
    },
    {
     "name": "stderr",
     "output_type": "stream",
     "text": [
      " 99%|█████████▊| 1972/2000 [1:19:51<02:31,  5.42s/it]"
     ]
    },
    {
     "name": "stdout",
     "output_type": "stream",
     "text": [
      "0.3333064014985081\n"
     ]
    },
    {
     "name": "stderr",
     "output_type": "stream",
     "text": [
      " 99%|█████████▉| 1979/2000 [1:19:54<00:20,  1.05it/s]"
     ]
    },
    {
     "name": "stdout",
     "output_type": "stream",
     "text": [
      "Using both positive and negative shear\n"
     ]
    },
    {
     "name": "stderr",
     "output_type": "stream",
     "text": []
    },
    {
     "name": "stdout",
     "output_type": "stream",
     "text": [
      "    # of sims: 100\n",
      "    noise cancel m   : -0.228151 +/-  11.415570 [1e-3, 3-sigma]\n",
      "    noise cancel c   :  4750.880072 +/-  10521.676662 [1e-5, 3-sigma]\n"
     ]
    },
    {
     "name": "stderr",
     "output_type": "stream",
     "text": [
      " 99%|█████████▉| 1980/2000 [1:20:11<01:54,  5.72s/it]"
     ]
    },
    {
     "name": "stdout",
     "output_type": "stream",
     "text": [
      "0.3124338600928324\n"
     ]
    },
    {
     "name": "stderr",
     "output_type": "stream",
     "text": [
      "100%|█████████▉| 1997/2000 [1:20:16<00:00,  3.02it/s]"
     ]
    },
    {
     "name": "stdout",
     "output_type": "stream",
     "text": [
      "Using both positive and negative shear\n"
     ]
    },
    {
     "name": "stderr",
     "output_type": "stream",
     "text": []
    },
    {
     "name": "stdout",
     "output_type": "stream",
     "text": [
      "    # of sims: 100\n",
      "    noise cancel m   : -1.807624 +/-  12.198286 [1e-3, 3-sigma]\n",
      "    noise cancel c   :  1289.884112 +/-  2829.845363 [1e-5, 3-sigma]\n"
     ]
    },
    {
     "name": "stderr",
     "output_type": "stream",
     "text": [
      "100%|█████████▉| 1998/2000 [1:20:32<00:10,  5.00s/it]"
     ]
    },
    {
     "name": "stdout",
     "output_type": "stream",
     "text": [
      "0.4008848927395613\n",
      "Using both positive and negative shear\n"
     ]
    },
    {
     "name": "stderr",
     "output_type": "stream",
     "text": []
    },
    {
     "name": "stdout",
     "output_type": "stream",
     "text": [
      "    # of sims: 100\n",
      "    noise cancel m   : -3.705328 +/-  20.495391 [1e-3, 3-sigma]\n",
      "    noise cancel c   :  2173.775954 +/-  4770.117101 [1e-5, 3-sigma]\n"
     ]
    },
    {
     "name": "stderr",
     "output_type": "stream",
     "text": [
      "100%|█████████▉| 1999/2000 [1:20:49<00:08,  8.44s/it]"
     ]
    },
    {
     "name": "stdout",
     "output_type": "stream",
     "text": [
      "0.3413979764940971\n"
     ]
    },
    {
     "name": "stderr",
     "output_type": "stream",
     "text": [
      "100%|██████████| 2000/2000 [1:20:53<00:00,  2.43s/it]\n"
     ]
    }
   ],
   "source": [
    "R11_dic = {}\n",
    "for halo_id in tqdm(halo_ids_sub):\n",
    "    halo_df = dc2_sub[dc2_sub['halo_id'] == halo_id]\n",
    "\n",
    "    try:\n",
    "        pdata, mdata, m, msd, c, csd, R11 = mmt.run_mdet_sims(halo_df,gal_list_path,\n",
    "                sim_func=sim_func,\n",
    "                sim_kwargs={\n",
    "                    \"noise\": 420\n",
    "                },\n",
    "                seed=123,\n",
    "                n_sims=100,\n",
    "                use_p=True,\n",
    "                use_m=True)\n",
    "    except Exception as e:\n",
    "        R11 = np.nan\n",
    "    R11_dic[halo_id] = R11\n",
    "    print(R11)"
   ]
  },
  {
   "cell_type": "code",
   "execution_count": 72,
   "metadata": {},
   "outputs": [],
   "source": [
    "halo_df = dc2_sub.groupby('halo_id').sample(1,random_state=123).set_index('halo_id')"
   ]
  },
  {
   "cell_type": "code",
   "execution_count": 87,
   "metadata": {},
   "outputs": [
    {
     "data": {
      "text/plain": [
       "225"
      ]
     },
     "execution_count": 87,
     "metadata": {},
     "output_type": "execute_result"
    }
   ],
   "source": [
    "len(R11_dic)"
   ]
  },
  {
   "cell_type": "code",
   "execution_count": 90,
   "metadata": {},
   "outputs": [],
   "source": [
    "R11_df = pd.DataFrame.from_dict(data=R11_dic,orient='index',columns=['R11'])\n",
    "R11_df.index.name = 'halo_id'"
   ]
  },
  {
   "cell_type": "code",
   "execution_count": 100,
   "metadata": {},
   "outputs": [],
   "source": [
    "joined_df = pd.concat((R11_df,halo_df),join='inner',axis=1)"
   ]
  },
  {
   "cell_type": "code",
   "execution_count": 106,
   "metadata": {},
   "outputs": [
    {
     "name": "stdout",
     "output_type": "stream",
     "text": [
      "mass_bin\n",
      "(0, 11]     0.396831\n",
      "(11, 12]    0.362851\n",
      "(12, 13]    0.324535\n",
      "(13, 25]    0.332840\n",
      "Name: R11, dtype: float64\n"
     ]
    }
   ],
   "source": [
    "R11_mean = joined_df.groupby('mass_bin').mean()['R11']\n",
    "R11_std = joined_df.groupby('mass_bin').std()['R11']\n",
    "mean_mass = joined_df.groupby('mass_bin').mean()['log_mass']\n",
    "print(R11_mean)"
   ]
  },
  {
   "cell_type": "code",
   "execution_count": 114,
   "metadata": {},
   "outputs": [
    {
     "data": {
      "text/plain": [
       "Text(0, 0.5, '$R_{11}$')"
      ]
     },
     "execution_count": 114,
     "metadata": {},
     "output_type": "execute_result"
    },
    {
     "data": {
      "image/png": "[encoded data removed]",
      "text/plain": [
       "<Figure size 1240x1000 with 1 Axes>"
      ]
     },
     "metadata": {},
     "output_type": "display_data"
    }
   ],
   "source": [
    "plt.errorbar(mean_mass,R11_mean,yerr=R11_std,fmt='o')\n",
    "plt.xlim(10,14)\n",
    "plt.ylim(0.2,0.5)\n",
    "plt.xlabel(r\"$\\log_{10} M_{\\rm halo} [M_\\odot]$\")\n",
    "plt.ylabel(r\"$R_{11}$\")"
   ]
  },
  {
   "cell_type": "code",
   "execution_count": 8,
   "metadata": {},
   "outputs": [
    {
     "name": "stderr",
     "output_type": "stream",
     "text": [
      "  0%|          | 0/4 [00:00<?, ?it/s]"
     ]
    },
    {
     "name": "stdout",
     "output_type": "stream",
     "text": [
      "Using both positive and negative shear\n",
      "x1 is [ 1.07751101e-01  1.87514696e+00  5.95545182e-01 -4.93466604e-01\n",
      "  6.01389931e-02  3.40094817e-01  1.06509570e+00  1.18166411e-01\n",
      "  5.26414698e-01  1.45756755e-01  6.24305613e-01  6.98609254e-01\n",
      " -3.02283405e-01  3.10088806e-01  4.72519948e-01  5.30155285e-02\n",
      "  3.87014925e-01  5.38793581e-01  6.96344492e-01 -5.93193131e-01\n",
      "  6.30502039e-01 -7.00822553e-02  2.91715921e-01  4.02513684e-01\n",
      " -4.48168163e-02  5.04165328e-01  2.25041468e-02 -8.91764880e-02\n",
      "  2.14454528e-01  9.80839658e-02  5.77909570e-01  5.59066184e-01\n",
      "  5.06773204e-01  1.53380180e-01  9.95039555e-01  6.23494605e-01\n",
      " -1.70850900e-01  3.59827452e-01 -6.53056111e-02  4.41354103e-01\n",
      " -1.67854688e-01  3.88567212e-01  1.03130724e+00  2.16607823e-01\n",
      " -3.83530871e-01  8.05349968e-01  7.56718469e-01  4.67278340e-01\n",
      "  1.21794341e-01 -2.15433376e-01 -2.41711657e-01 -4.35896430e-01\n",
      "  2.66459061e-02  3.50123467e-01  5.78417619e-01  3.60909593e-01\n",
      "  4.39776437e-01 -6.29231775e-01  2.74915742e-01  2.69214835e-01\n",
      "  1.24473212e-01 -6.80486489e-01 -3.00949403e-01  5.52231686e-01\n",
      "  4.27844814e-01  5.72708803e-02  4.11667638e-01 -2.69913050e-01\n",
      "  3.50303445e-01  6.08862530e-01  2.42370571e-01  5.60186769e-01\n",
      "  4.63364303e-01  2.15985311e-01  1.02743769e-01 -4.53337610e-01\n",
      "  4.10837683e-01  2.49177877e-01  2.36742480e-01  5.04758192e-01\n",
      " -2.99198543e-01  1.13988507e-01  2.01850655e-01  9.54991250e-01\n",
      "  5.47484849e-01  2.05378958e-01  5.53796703e-01  8.77823362e-01\n",
      "  5.41877288e-01  8.04452209e-01 -7.13828811e-02  4.32071195e-01\n",
      "  7.52650389e-01  1.00805543e+00  9.44372415e-01 -1.97171742e-01\n",
      "  7.49255751e-02  3.79268194e-01  2.10045928e-01  3.24237905e-01\n",
      "  1.07506636e+00 -3.57733046e-02 -1.50563045e-01  4.27474572e-01\n",
      "  9.37736637e-01  1.98018993e-01  1.42779144e-01  2.81258442e-01\n",
      "  2.29270812e-01  4.73367131e-01 -1.92983874e-03  4.34994913e-01\n",
      "  5.69646580e-01  3.97626471e-01  3.08255949e-02  9.70678609e-03\n",
      "  2.87546473e-01  6.70336490e-01 -7.31574941e-02  2.61338115e-01\n",
      "  4.36844753e-01  2.12711380e-01  2.87505894e-01 -1.24056755e-01\n",
      " -6.43501041e-02  1.78500783e-01  5.52561077e-01  7.59812282e-01\n",
      "  7.04362655e-01 -1.52991492e-01  1.22156668e-01  1.93654216e-01\n",
      "  2.06821894e-01 -1.20633939e-01  2.36733724e-01  6.99079574e-01\n",
      " -5.37033001e-02  4.99351237e-01  4.09939628e-01 -1.46764425e-02\n",
      "  9.24204766e-05 -1.33903543e-01 -1.38197577e-01  8.91944482e-01\n",
      "  6.27363890e-01  7.32230338e-01  1.89909580e-01  3.04061169e-03\n",
      "  1.13568107e+00  4.08032294e-01  1.82753900e-01  1.48448528e-01\n",
      "  2.96167295e-01  3.00041262e-01 -2.20153032e-01  1.41888971e+00\n",
      " -4.00908507e-03  5.20159181e-01 -2.67451862e-01  8.21244482e-02\n",
      " -2.12413511e-02  6.53941006e-01  4.70427260e-01  4.01894604e-01\n",
      "  4.56663641e-02  3.56107754e-01  5.80102343e-01  2.47384934e-01\n",
      "  1.95509941e-01  1.01290018e+00  7.88395333e-02 -3.87206308e-02\n",
      "  1.30150005e+00  5.61778458e-01  3.49635837e-01  5.71310863e-01\n",
      " -5.15342140e-02  4.00863886e-01  1.76472115e-01  1.81631178e-01\n",
      " -5.68969664e-02  4.81157709e-01 -8.53934305e-02  5.36395540e-01\n",
      "  2.82653873e-01 -8.89467194e-01  2.36175590e-01  6.56692820e-02\n",
      "  1.33032043e-01 -2.20343418e-01  6.38038881e-01 -1.00029770e-01\n",
      "  1.86663208e-01 -4.25397472e-01  1.37599995e+00  1.38661857e-01\n",
      "  1.72035119e-01  2.52261879e-01 -4.44811904e-01 -1.37694105e-01\n",
      "  6.28420848e-01  1.96268434e-01 -2.25765705e-01 -9.77484570e-02\n",
      " -7.64508362e-03  3.58968752e-02  6.85870435e-01 -3.16746399e-01\n",
      " -2.16098987e-01  7.80541360e-01  2.98020079e-01  1.31280094e-01\n",
      "  1.78176754e-01  6.14817079e-01 -1.85650171e-01  4.38465852e-01\n",
      " -8.52620964e-02  1.43918168e-01  7.74777333e-01 -6.93606433e-01\n",
      "  2.21199387e-01  6.24280522e-01  6.61671710e-01  3.58300676e-01\n",
      " -2.83047936e-01  1.06581302e+00 -2.04124955e-01  8.37428468e-02\n",
      "  2.37711243e-01  1.20560698e+00  7.32335633e-02  1.98398016e-01\n",
      " -7.44593394e-01  1.21522690e-03  4.67595249e-01  3.37664002e-01\n",
      " -2.25113016e-01  5.47295850e-01  8.03865663e-01  2.26770218e-01\n",
      "  4.77999139e-01  5.80703067e-01  9.96259720e-01  6.69736248e-01\n",
      " -1.77348859e-01 -8.04821704e-01  5.43139280e-01 -2.65167997e-01\n",
      " -1.44687263e-01  3.72966312e-01  3.02466826e-01 -4.79686498e-02\n",
      "  1.05596792e-01  7.10582691e-01  5.97088127e-01  6.60944441e-02\n",
      "  3.56555671e-01  3.89730505e-01  6.67446249e-02  3.31361097e-01\n",
      "  4.45633191e-01 -1.55483646e-01  2.29242844e-01 -7.54462554e-02\n",
      "  4.86937194e-02  6.23991966e-01  2.25077702e+00  3.69907678e-01\n",
      "  1.49400170e+00 -1.86312870e-01 -5.21337433e-01  2.77763865e-01\n",
      "  1.71326494e-01  3.24592745e-01  3.84055060e-01  1.75317104e-01\n",
      "  1.97216064e-01  6.44074700e-01  6.70407523e-01  6.78004204e-01\n",
      "  6.77841196e-02  6.39035315e-01  3.20863399e-01  1.78153884e-01\n",
      "  1.17984566e-01  1.61793167e-01  3.31291011e-01  7.58961273e-02\n",
      "  1.11787931e+00 -4.98842203e-01 -5.31760964e-02  9.00115521e-01\n",
      "  4.95796859e-01  2.71606109e-01 -5.40490839e-01  2.36755690e-02\n",
      "  1.91402175e-01  4.14159020e-01  4.36077484e-01  1.70912222e-01\n",
      " -1.04936956e-01  2.07746386e-01  1.02653159e-01  2.71577042e-01\n",
      " -2.04387308e-01  7.01467508e-01  2.42042790e-01 -6.38481483e-02\n",
      "  4.12517152e-01  9.71934449e-02  2.66125050e-01  4.63361263e-01\n",
      "  1.64827071e-01 -4.59961368e-01  4.47035552e-01  2.35915272e-01\n",
      " -2.00832669e-01  1.13816676e+00  3.40658044e-01  5.99648456e-01\n",
      "  3.45626687e-01 -4.15718048e-03 -5.94857324e-01 -3.35127850e-01\n",
      " -1.60675987e-01  1.42099637e-01 -1.27178724e-01  3.65662868e-01\n",
      "  7.70075211e-01  2.86040521e-01 -1.48923473e-01  1.75099561e-01\n",
      "  6.96667147e-02 -5.55678796e-02  5.50780257e-01  1.92220307e-01\n",
      "  6.79532837e-02 -2.46923571e-01  4.74544799e-02  8.91935282e-01\n",
      "  2.59642543e-01  3.08163099e-01  1.64607719e-01 -2.48018155e-01\n",
      "  5.70309291e-01  2.85770097e-01  1.07602786e-01  4.02691206e-01\n",
      " -2.32619051e-01  1.64354290e-01  8.08751630e-01  4.39970133e-01\n",
      " -4.28266240e-01  2.67026065e-01  1.66279006e-01  4.93352490e-02\n",
      "  2.88307865e-01 -2.98814590e-01  7.03296127e-01 -6.94121782e-02\n",
      " -1.77339937e-01  3.97206422e-01  2.03586904e-01  7.92002699e-01\n",
      "  1.61495384e+00  2.59381535e-01 -6.20915070e-02  1.33916105e-01\n",
      "  2.46419905e-02  2.54730558e-01  3.25799055e-01  1.32728621e-02\n",
      "  1.06533568e-01  3.37042324e-01  7.56982726e-01  5.67852985e-01\n",
      "  1.01759258e+00  3.05292575e-01  6.04082023e-02 -2.52998487e-01\n",
      " -1.04091508e-01  3.22913949e-01  2.53198322e-01  6.67958165e-01\n",
      "  2.38231044e-01  1.13033582e-01  9.47177212e-01  2.92355446e-01\n",
      "  5.70790045e-01  6.06298901e-01  1.43386796e-01  6.98068351e-02\n",
      " -1.08091623e-01 -4.67889396e-01 -1.75953003e-01  3.29952921e-01\n",
      "  4.00680884e-01  1.77930597e-01 -1.18762736e-01  1.42250927e-01\n",
      "  2.94671413e-01  7.18583665e-01 -1.94164740e-02  4.69221596e-01\n",
      "  3.36116960e-01 -2.32574584e-02  4.79374752e-01  6.69426141e-01\n",
      "  4.71502187e-01  9.57314210e-02  5.79162228e-01 -1.71663062e-01\n",
      "  7.65248399e-01  2.64946087e-01 -4.69034543e-01 -1.42371555e-01\n",
      "  2.47410834e-01  7.07363006e-01  2.27529484e-01  1.55578789e-01\n",
      " -2.20767638e-01  2.95701974e-01 -4.34819009e-02  1.68053269e-01\n",
      "  9.37073641e-02  9.90221347e-01 -4.66463708e-02  1.56095909e-01]\n",
      "Number of samples in each jackknife patch:  4\n",
      "R11bar is: 0.2608235009871555\n",
      "R11vals are: [0.25883453 0.2601009  0.25906153 0.2627528  0.26150124 0.26093132\n",
      " 0.26310802 0.26043923 0.25834536 0.26267279 0.26039097 0.25994352\n",
      " 0.26604722 0.26077615 0.26320398 0.26486915 0.26251662 0.25965083\n",
      " 0.26326943 0.26056044 0.26164601 0.25858325 0.25978897 0.25776653\n",
      " 0.26160347 0.26077587 0.26016075 0.26123169 0.26155466 0.26120552\n",
      " 0.26204658 0.26049729 0.26190977 0.26151881 0.26197611 0.26253413\n",
      " 0.26017906 0.25936499 0.25956693 0.26326421 0.26029906 0.26099543\n",
      " 0.26094677 0.25706875 0.26231318 0.26188936 0.26486975 0.2629615\n",
      " 0.26087758 0.26449914 0.26283403 0.26309615 0.26159017 0.26145869\n",
      " 0.26374652 0.25938888 0.26242694 0.25976894 0.26394336 0.26068341\n",
      " 0.25721907 0.2658779  0.26288049 0.26036386 0.26120974 0.26297855\n",
      " 0.25578303 0.26141246 0.26143475 0.25857007 0.26105458 0.26236486\n",
      " 0.26039766 0.26346683 0.26103763 0.26289498 0.26239438 0.26097034\n",
      " 0.26312029 0.25935811 0.26558577 0.2635443  0.26136656 0.26218776\n",
      " 0.26217937 0.2628764  0.26064918 0.26111867 0.26396231 0.26252544\n",
      " 0.26103029 0.25918508 0.26253789 0.25963394 0.26124534 0.26122089\n",
      " 0.26008246 0.26058881 0.26516523 0.26257917]\n",
      "    # of sims: 1000\n",
      "    R11:             :  0.260824 +/-  0.019732\n",
      "    noise cancel m   : -48.435847 +/-  200.658391 [1e-3, 3-sigma]\n",
      "    noise cancel c   :  751.190362 +/-  15276.858255 [1e-5, 3-sigma]\n"
     ]
    },
    {
     "name": "stderr",
     "output_type": "stream",
     "text": [
      " 25%|██▌       | 1/4 [02:42<08:07, 162.42s/it]"
     ]
    },
    {
     "name": "stdout",
     "output_type": "stream",
     "text": [
      "Using both positive and negative shear\n",
      "x1 is [-1.24366236e-02  8.72535148e-01  4.67300904e-01 -4.34617933e-01\n",
      "  8.67355584e-02  2.31947210e-01  8.32769707e-01  3.59417559e-02\n",
      "  4.18657704e-01  5.52661263e-01  7.00345777e-01 -3.20802100e-01\n",
      "  1.97451973e-01  2.39081812e-01  3.27626377e-02  4.19387629e-01\n",
      "  2.07591318e-01 -5.84663990e-01  5.14508242e-01 -1.68662557e-01\n",
      "  1.46015036e-01  4.64063760e-01 -5.14844636e-02  3.47056116e-01\n",
      " -7.73410346e-03 -9.62275222e-02  8.35883677e-02  4.87227838e-02\n",
      " -4.62903240e-01  3.95019164e-01  4.48467571e-01 -7.65347391e-02\n",
      "  5.75693676e-01  3.30147092e-01  1.93043219e-01  3.55590923e-01\n",
      " -3.98780111e-02  4.10954563e-01 -1.65665490e-01  2.97042565e-01\n",
      "  7.08747774e-01  2.10424982e-01  1.03732864e-01  5.82734350e-01\n",
      "  4.30754450e-01  3.09811596e-01  7.78472999e-02 -2.26016978e-01\n",
      " -2.79304321e-01 -3.48272334e-01 -2.79236741e-02  3.31011239e-01\n",
      "  4.44154636e-01  3.48588113e-01 -4.83833961e-01  1.38387561e-01\n",
      "  1.66226661e-01 -5.66252330e-01 -2.78680882e-01  4.01809614e-01\n",
      "  3.34740706e-01  1.97399795e-02  2.97789244e-01 -1.78764137e-01\n",
      "  2.47417111e-01  2.54724600e-01  1.42769221e-01  5.74040860e-01\n",
      "  2.54916106e-01  1.69606090e-01  6.84223151e-02 -2.04446553e-01\n",
      "  3.02538761e-01  1.46228683e-01  1.58635724e-01  8.42638749e-01\n",
      "  4.02602401e-01 -2.55178297e-01 -3.86809897e-02  8.01825875e-01\n",
      "  5.04614011e-01  2.96190380e-01  1.43980023e-01  6.71602436e-01\n",
      "  4.24247806e-01  6.36825179e-01 -2.21480607e-02  7.58335498e-02\n",
      "  7.98964288e-01  8.87361518e-01  8.85466340e-01  2.86059403e-01\n",
      " -6.35558992e-02  5.55121076e-02  3.25597170e-01  1.48888150e-01\n",
      "  4.47464520e-02  9.12526693e-01 -1.33253020e-01  7.22252115e-01\n",
      "  2.08637035e-01  9.85076912e-02  2.00659183e-01  1.90344273e-01\n",
      "  2.27892928e-01  1.52854071e-02  3.10276925e-01  4.94953374e-01\n",
      "  4.12153875e-01 -2.26925462e-02  3.18953881e-03  1.48630943e-01\n",
      "  4.06645350e-01  2.43662899e-01  3.52444370e-01  8.25899576e-02\n",
      "  3.49672208e-01 -1.01302851e-01 -4.39573796e-02  6.57875467e-02\n",
      "  5.28754073e-01  6.16077196e-01  5.05261048e-01  8.12025070e-02\n",
      "  9.64652816e-02  2.77646957e-01 -1.86557729e-01  2.07956328e-01\n",
      "  5.03843168e-01  4.02127470e-01  3.37660465e-01  3.64601371e-02\n",
      "  6.02998841e-02 -1.29593452e-01 -1.60165540e-01  3.75087759e-01\n",
      "  5.49052083e-01  8.19004217e-01  1.57854695e-01  1.54801761e-02\n",
      "  7.83243088e-01  4.03665610e-01  7.49100960e-02  1.29575281e-01\n",
      "  2.43078790e-01  3.29958229e-01 -1.96287175e-01  1.13232077e+00\n",
      " -9.52407725e-02 -2.26398931e-01  6.32328594e-02 -1.25237524e-01\n",
      "  5.27406677e-01  3.92984827e-01  1.08755934e-01 -2.36204494e-02\n",
      "  4.19982615e-01  3.52774448e-01  5.00306461e-01  5.28141339e-02\n",
      "  7.92847849e-01 -1.41469434e-01 -9.50329666e-02  1.15443857e+00\n",
      "  4.78725333e-01  4.37517774e-01  5.23888442e-02  1.28839660e-01\n",
      " -2.62541615e-02  5.10246592e-01 -6.72080228e-02  4.31155562e-01\n",
      " -3.44218565e-01  2.03999126e-01  3.67510360e-02  9.12698675e-02\n",
      " -2.21311487e-01  7.71575334e-01 -9.79213366e-02  1.33513527e-01\n",
      " -2.96158686e-01  5.97013239e-01  1.53127438e-01  1.26965255e-01\n",
      "  3.86423378e-01 -3.98805256e-01 -1.65360587e-01  5.11256331e-01\n",
      "  9.36996637e-02 -1.00817709e-01 -1.36630154e-01 -1.00691511e-02\n",
      "  6.13024638e-01 -2.53368949e-01  7.80112572e-02  2.51282489e-01\n",
      "  8.65286538e-02  1.35750882e-01  4.60282581e-01 -7.02503478e-02\n",
      "  3.90992184e-01 -1.21605074e-01  1.02396411e-01  5.21027068e-01\n",
      " -6.69462937e-01  1.24812557e-01  5.42830102e-01  6.01478255e-01\n",
      "  1.66480245e-01 -2.45542264e-01  9.75055039e-01 -1.58855243e-01\n",
      "  4.80016810e-02  5.88908041e-01  8.38308263e-01  1.43500550e-01\n",
      " -6.87355388e-01 -2.60438211e-02  3.72327599e-01  1.91581213e-01\n",
      " -2.00992048e-01  5.33375687e-01  2.46318876e-01  6.52876678e-01\n",
      "  4.91304183e-02  3.00538627e-01  4.16583452e-01  7.26071152e-01\n",
      "  5.24674714e-01 -1.71111058e-01 -7.45782885e-01  1.83557237e-01\n",
      "  2.08058865e-01 -3.91189745e-02  9.01997186e-02  5.91202822e-01\n",
      "  3.71643790e-01  2.53204553e-01  2.61363788e-01  2.83426158e-01\n",
      " -1.56838884e-01  2.62853400e-01  4.94153800e-01  1.24421891e-01\n",
      " -2.01373265e-01  3.54447576e-02  4.86412249e-01  1.08633369e+00\n",
      " -1.91597264e-01  1.31454628e-01  3.07719904e-01  2.96333579e-02\n",
      " -6.26204171e-02  5.33173294e-01 -2.62611691e-01  6.09951616e-01\n",
      " -2.96899776e-02  5.35691854e-01  8.95895928e-02  1.18399128e-01\n",
      " -9.54439695e-04 -2.25069984e-01  1.12545654e-01  3.86194104e-01\n",
      "  2.89721924e-02  7.42856690e-01 -4.66620210e-01 -8.09302634e-02\n",
      "  7.18264880e-01  4.26552576e-01  1.26561122e-01  1.22696928e+00\n",
      " -3.96295129e-01  1.69391627e-01  3.55619197e-01  4.45617654e-01\n",
      "  1.43838032e-01  2.75886364e-01  1.04750623e-01  3.27201211e-02\n",
      "  1.35932932e-01 -2.02983594e-01  5.75084674e-01  2.06880379e-01\n",
      " -1.79299930e-01  3.94092558e-01  5.18213413e-02  2.61917718e-01\n",
      "  4.24622214e-01  8.36360967e-02  3.16122909e-01  1.39701766e-01\n",
      " -1.66348890e-01  5.01743722e-01  5.38500427e-01  2.45689024e-01\n",
      "  6.42604062e-02 -4.53188921e-01 -1.96681177e-01 -2.57031320e-01\n",
      "  3.07809447e-02 -3.52436480e-01  2.45824557e-01  7.21917730e-01\n",
      "  1.18622277e+00  3.44755085e-01 -1.56826352e-01  2.25785417e-02\n",
      "  4.52873696e-02 -2.93594050e-02  2.99659213e-01  8.28487883e-02\n",
      " -3.80931050e-01 -1.80251979e-01  6.88278056e-01  7.58545484e-01\n",
      "  1.68835254e-01  1.02654574e-01 -1.29935797e-01  4.27318997e-01\n",
      "  2.06632904e-01  2.92926284e-02  4.48133715e-01 -1.98874419e-01\n",
      "  2.22703551e-01  6.44757626e-01 -3.78263129e-01  3.04212708e-01\n",
      "  1.26380276e-01 -3.39158253e-02 -1.55075042e-01  7.18823239e-01\n",
      "  5.00701131e-02  2.86720161e-01  1.75588996e-01  6.34823280e-01\n",
      "  1.22629483e+00  1.84385199e-01  9.15502103e-02  9.63012893e-02\n",
      " -1.09739162e-02 -5.04432165e-02  3.44462555e-01 -1.06363454e-01\n",
      "  4.00983931e-02  3.28039494e-01  5.88326105e-01  3.91369584e-01\n",
      "  7.34805539e-01  2.73139847e-01  1.62119655e-02 -2.81045367e-01\n",
      " -1.63041253e-01  1.96418747e-01  1.97922067e-01  4.83360752e-01\n",
      "  7.75183229e-02  1.48753556e-01  7.80519187e-01  2.17350131e-01\n",
      "  4.99447520e-01  4.86335723e-01  1.18077338e-01  7.72633060e-02\n",
      " -6.74938507e-02 -5.26639811e-01  6.61092350e-02  1.27936963e-01\n",
      "  4.62722285e-01 -2.20225644e-01 -6.52429578e-02  2.39718496e-01\n",
      "  3.22350967e-01 -2.45470678e-02  3.57619257e-01  2.34229200e-01\n",
      " -6.24277229e-02  4.62257823e-01  4.60159006e-01  5.13504344e-01\n",
      "  1.84098787e-01  5.61400766e-01 -1.76975175e-01  1.37420050e-01\n",
      " -4.46327701e-01 -1.32538955e-01  2.69344171e-01 -6.76043122e-02\n",
      "  2.67557475e-01  1.40839297e-01 -3.48712118e-01  6.76712048e-01\n",
      "  2.83761014e-01  4.72090639e-02  1.05817541e-01  7.54108293e-01\n",
      " -5.52876601e-02  1.18947426e-01]\n",
      "Number of samples in each jackknife patch:  3\n",
      "R11bar is: 0.19773251043755458\n",
      "R11vals are: [0.19800161 0.20286132 0.19813639 0.19933223 0.20089084 0.20232849\n",
      " 0.20081487 0.19991327 0.20253956 0.20253548 0.1992803  0.19951211\n",
      " 0.20177935 0.19837597 0.19870928 0.20192672 0.20467804 0.19868728\n",
      " 0.2030744  0.20396297 0.20027477 0.20138215 0.19919916 0.2023579\n",
      " 0.20042584 0.19913742 0.19820242 0.19872762 0.1989729  0.19653777\n",
      " 0.19874043 0.20068646 0.19969649 0.19900498 0.20038714 0.19970829\n",
      " 0.20114891 0.19978094 0.19982886 0.20273855 0.1969151  0.20093792\n",
      " 0.20070248 0.19985734 0.20324356 0.19660179 0.19925017 0.20042332\n",
      " 0.20120245 0.1997414  0.20090396 0.20086113 0.19818456 0.20009995\n",
      " 0.19729207 0.20038765 0.20106765 0.20149138 0.20278508 0.19975323\n",
      " 0.20094241 0.20208516 0.20099085 0.20330436 0.20099734 0.20087648\n",
      " 0.19984125 0.20078134 0.2024771  0.20071199 0.1995612  0.19718236\n",
      " 0.20361936 0.20070678 0.19927795 0.19761173 0.20379157 0.20128411\n",
      " 0.19892536 0.19978412 0.2004502  0.20261072 0.19782063 0.20089249\n",
      " 0.20177083 0.19871355 0.20177388 0.20154952 0.20144333 0.19888885\n",
      " 0.19924795 0.19920286 0.20070506 0.20258656 0.20044179 0.2000877\n",
      " 0.19969527 0.20087131 0.19961423 0.20552451]\n",
      "    # of sims: 1000\n",
      "    R11:             :  0.197733 +/-  0.032223\n",
      "    noise cancel m   : -69.279690 +/-  422.758240 [1e-3, 3-sigma]\n",
      "    noise cancel c   : -646.441151 +/-  21252.756484 [1e-5, 3-sigma]\n"
     ]
    },
    {
     "name": "stderr",
     "output_type": "stream",
     "text": [
      " 50%|█████     | 2/4 [05:26<05:27, 163.51s/it]"
     ]
    },
    {
     "name": "stdout",
     "output_type": "stream",
     "text": [
      "Using both positive and negative shear\n",
      "x1 is [-6.99161516e-03  5.88565353e-01  8.16852842e-01 -1.09430136e-01\n",
      "  2.41213054e-01 -8.47517200e-01 -6.93887137e-01 -1.15900862e-01\n",
      "  3.95013643e-01 -1.36440439e-01  5.00248589e-01 -2.73486894e-01\n",
      "  3.92680827e-01 -2.83734405e-01 -4.02334890e-01  7.25049379e-02\n",
      "  7.08152588e-01 -5.73809807e-02 -7.60016081e-01  3.43682856e-01\n",
      " -1.00439154e+00 -5.35207147e-01  4.97250484e-01  3.68786636e-01\n",
      " -1.05344799e-01 -3.60398247e-01  2.28142927e-01  1.55474628e-01\n",
      "  5.39974115e-01  2.38641518e-01  3.84417410e-01  6.66124403e-01\n",
      "  8.69527908e-01 -4.14418054e-01  1.98419149e-01 -1.86289484e-02\n",
      "  9.55180881e-01 -5.33514022e-02  2.40867647e-01 -1.82680456e-01\n",
      "  1.99834595e-01  3.54831016e-01  1.43242566e-03  4.27374301e-01\n",
      "  3.82060000e-01 -6.50416467e-01  4.03118786e-01 -4.23503437e-01\n",
      "  3.40824681e-02  9.70345748e-01  2.13332381e-01  4.53062078e-02\n",
      " -4.41529692e-01  1.44831046e-04 -4.40079673e-01  3.82237238e-01\n",
      "  5.06991350e-01  6.71434479e-02 -2.37133443e-01 -1.44105730e-01\n",
      "  2.95371428e-01  3.72657310e-02 -4.20316572e-01  5.93116904e-01\n",
      "  1.08029030e-01 -1.23855385e-01 -7.09143284e-02 -8.81164025e-01\n",
      "  1.48632957e+00  8.54555457e-02  3.85582264e-02 -6.96491907e-01\n",
      "  5.76984864e-01 -1.22269211e-01 -2.64256056e-01 -1.62485714e-01\n",
      "  2.57117797e-01 -4.33896954e-02  2.53197196e-02  5.56001354e-01\n",
      "  3.20768490e-01  1.58820458e-02  8.93172317e-02  5.77807555e-01\n",
      "  1.64350417e-01 -5.96258958e-01  1.16438629e+00  7.66818220e-01\n",
      " -9.70027214e-01  3.39688970e-01  2.97082964e-01  6.09469228e-01\n",
      "  1.02336841e+00 -1.14500926e-01  3.72980628e-01  6.00920759e-01\n",
      " -1.56601108e-02 -1.22833786e-01  3.38309853e-01  2.34068691e-01\n",
      "  5.98853140e-01 -2.39170717e-02 -6.51965686e-02 -3.73790367e-01\n",
      "  2.41265419e-01 -3.49315448e-02  1.99879057e-01  1.92706273e-02\n",
      " -2.08036421e-01 -8.41477855e-01 -6.11569031e-01  1.80402311e-01\n",
      "  2.46902076e-02  1.13731118e-01 -1.70328749e-01  4.09819755e-01\n",
      "  2.06245466e-01 -4.91606454e-01  5.35935261e-01  2.35120030e-01\n",
      " -2.18299543e-02 -3.71982578e-01 -4.57252123e-01 -3.64907210e-01\n",
      "  1.12677774e+00 -9.52491211e-02 -6.62760222e-02 -1.89760760e-01\n",
      " -5.12284890e-02  8.57263553e-01 -3.43208537e-01  1.90804101e-01\n",
      " -1.41556637e-01 -5.54842102e-01  2.77584888e-02 -6.31235733e-01\n",
      "  5.45539115e-01  2.68658870e-01  2.43705217e-02  8.34978814e-01\n",
      "  1.68849981e+00 -1.19661961e-01  2.10736468e-01  7.94040952e-01\n",
      " -5.36975614e-01  5.91771859e-01 -3.59737162e-02 -3.96928182e-02\n",
      "  4.29593985e-01  3.31096107e+00  2.63662085e-02 -2.55948991e-01\n",
      " -9.06478932e-01  1.82590974e-01  4.53495715e-01 -3.31502070e-01\n",
      "  3.88246986e-01 -1.49990729e-01  7.07270851e-01 -3.55666506e-01\n",
      "  1.15370603e-01 -2.53033353e-02  4.08060685e-02 -2.52021909e-01\n",
      "  2.89168253e-01 -2.59851932e-01]\n",
      "Number of samples in each jackknife patch:  1\n",
      "R11bar is: 0.10574111506372658\n",
      "R11vals are: [0.11180793 0.1057922  0.10348627 0.11284266 0.10930081 0.12029809\n",
      " 0.11874627 0.11290802 0.10774727 0.11311549 0.10668429 0.1144998\n",
      " 0.10777084 0.11460331 0.1158013  0.11100494 0.10458425 0.11231691\n",
      " 0.11941424 0.10826576 0.12188268 0.11714344 0.10671458 0.10801219\n",
      " 0.1128014  0.11537769 0.10943283 0.11016686 0.10628302 0.10932679\n",
      " 0.1078543  0.10500878 0.1029542  0.11592335 0.10973307 0.11192548\n",
      " 0.10208902 0.11227621 0.1093043  0.11358257 0.10971878 0.10815316\n",
      " 0.11172284 0.1074204  0.10787812 0.11830717 0.1076654  0.11601512\n",
      " 0.11139304 0.10193584 0.10958244 0.11127967 0.1161972  0.11173585\n",
      " 0.11618256 0.10787633 0.10661618 0.11105909 0.1141326  0.11319292\n",
      " 0.10875376 0.11136089 0.11598293 0.10574623 0.11064611 0.11298837\n",
      " 0.11245361 0.12063796 0.09672388 0.11087412 0.11134783 0.11877258\n",
      " 0.10590918 0.11297235 0.11440656 0.11337858 0.10914016 0.11217559\n",
      " 0.11148155 0.10612113 0.10849722 0.11157688 0.11083511 0.10590087\n",
      " 0.1100772  0.11776013 0.09997583 0.10399167 0.12153556 0.10830611\n",
      " 0.10873647 0.10558105 0.10140025 0.11289388 0.10796983 0.1056674\n",
      " 0.11189549 0.11297805 0.10832004 0.10937298]\n",
      "    # of sims: 1000\n",
      "    R11:             :  0.105741 +/-  0.067734\n",
      "    noise cancel m   : -176.897968 +/-  1605.233965 [1e-3, 3-sigma]\n",
      "    noise cancel c   :  4922.961249 +/-  327348.722589 [1e-5, 3-sigma]\n"
     ]
    },
    {
     "name": "stderr",
     "output_type": "stream",
     "text": [
      " 75%|███████▌  | 3/4 [08:08<02:42, 162.91s/it]"
     ]
    },
    {
     "name": "stdout",
     "output_type": "stream",
     "text": [
      "Using both positive and negative shear\n",
      "x1 is [0.21199131 0.36855575 0.26635703 0.09813135 0.22463132 0.23978349\n",
      " 0.33594243 0.18515187 0.29278314 0.31485525 0.13467712 0.26079101\n",
      " 0.24607641 0.22489297 0.22235625 0.12993189 0.18348133 0.19726074\n",
      " 0.28143089 0.21317044 0.19954268 0.2465512  0.21671861 0.26159807\n",
      " 0.25933019 0.23608721 0.29814308 0.22267244 0.27166901 0.18475115\n",
      " 0.16782343 0.26402188 0.1659504  0.30088733 0.23812369 0.15621458\n",
      " 0.1526544  0.20368017 0.24963219 0.27073444 0.26540936 0.1031508\n",
      " 0.24787938 0.07824086 0.15737233 0.29171869 0.25732814 0.19370688\n",
      " 0.28379465 0.17403884 0.23588206 0.24302627 0.28707001 0.27550405\n",
      " 0.24631572 0.23208176 0.14190376 0.25456973 0.2131649  0.24070573\n",
      " 0.32583438 0.27520645 0.15277422 0.29238569 0.28413243 0.28191829\n",
      " 0.29121902 0.33926015 0.28030743 0.22550368 0.16329101 0.23068382\n",
      " 0.2925207  0.22431178 0.33365136 0.34050662 0.23995908 0.21453295\n",
      " 0.2393581  0.23696859 0.2407583  0.24836793 0.1590844  0.25484938\n",
      " 0.25305408 0.21060849 0.19238203 0.25583247 0.27566523 0.26898553\n",
      " 0.18203074 0.18859461 0.22428031 0.26107694 0.23926768 0.24242767\n",
      " 0.14181348 0.23824033 0.32050349 0.27670885 0.25478236 0.19365692\n",
      " 0.21064537 0.16618417 0.30372723 0.29891335 0.28587196 0.21713323\n",
      " 0.18259307 0.34385232 0.27350072 0.21940993 0.20418715 0.1798075\n",
      " 0.39957005 0.16710507 0.22217414 0.18765864 0.29222645 0.22037114\n",
      " 0.24561794 0.29911491 0.23370214 0.19215397 0.15896813 0.37236292\n",
      " 0.24736742 0.26731005 0.21533007 0.23785332 0.17638421 0.28891707\n",
      " 0.20657058 0.27719411 0.22301931 0.22185018 0.22586612 0.15695875\n",
      " 0.30308464 0.18903519 0.242204   0.147281   0.3190461  0.22955281\n",
      " 0.22424689 0.28240866 0.12135283 0.18459151 0.29734768 0.21772432\n",
      " 0.18001707 0.21416847 0.18481793 0.3230443  0.25200667 0.21579004\n",
      " 0.22995046 0.28780344 0.19545161 0.29478364 0.23048244 0.28884588\n",
      " 0.25006851 0.30729579 0.23229541 0.16136177 0.38598615 0.20295002\n",
      " 0.21002856 0.3147945  0.36687709 0.28576542 0.09050451 0.21144176\n",
      " 0.26829563 0.21046043 0.15322608 0.31171308 0.23091622 0.33799099\n",
      " 0.21323066 0.29199253 0.3146573  0.29375432 0.173153   0.19814077\n",
      " 0.22603243 0.21973709 0.31213765 0.31868877 0.22910802 0.24525664\n",
      " 0.25656201 0.25648088 0.30962995 0.24464035 0.21189293 0.28507161\n",
      " 0.16517376 0.23682477 0.27011403 0.20852472 0.17355121 0.31605648\n",
      " 0.22652083 0.24600563 0.22045608 0.2126237  0.19654529 0.18159349\n",
      " 0.35937949 0.11688502 0.18063969 0.28731361 0.14014754 0.22824224\n",
      " 0.27433251 0.27363407 0.2473989  0.26094466 0.22512734 0.21573867\n",
      " 0.15931631 0.29846909 0.22507658 0.15604239 0.28344847 0.21929492\n",
      " 0.28838938 0.23099556 0.25304394 0.22044415 0.17894593 0.30053611\n",
      " 0.24588555 0.21034383 0.14078153 0.18329368 0.17065887 0.20981902\n",
      " 0.17962515 0.28828842 0.30522597 0.27787652 0.20757566 0.21265929\n",
      " 0.21237175 0.20156643 0.2280702  0.18182551 0.16359219 0.2750682\n",
      " 0.3330259  0.23463468 0.21471073 0.17174489 0.22911558 0.22155697\n",
      " 0.29043285 0.16776664 0.25608966 0.23155261 0.22361177 0.18000286\n",
      " 0.28355971 0.23379238 0.26481559 0.22091171 0.32279616 0.42132373\n",
      " 0.24775426 0.20693555 0.21413048 0.25487772 0.21592689 0.31569971\n",
      " 0.33276039 0.27200058 0.14587384 0.17434243 0.22424565 0.2855098\n",
      " 0.28649924 0.22275466 0.2200199  0.30477219 0.29670222 0.22439331\n",
      " 0.20969669 0.22754404 0.2047872  0.1506916  0.22250218 0.1994211\n",
      " 0.28586021 0.18799406 0.21733357 0.25184591 0.28937329 0.22087911\n",
      " 0.29042179 0.2600488  0.26055257 0.29671099 0.24559967 0.29627868\n",
      " 0.26559094 0.14273358 0.15761086 0.25702823 0.2588699  0.26266739\n",
      " 0.21990241 0.15582636 0.31504283 0.25468549 0.21429807 0.22340918\n",
      " 0.2433037  0.23117123 0.231687  ]\n",
      "Number of samples in each jackknife patch:  3\n",
      "R11bar is: 0.23765783265300672\n",
      "R11vals are: [0.23689502 0.23785245 0.23700622 0.23735489 0.23741212 0.23802711\n",
      " 0.23740936 0.23730592 0.23707463 0.23746004 0.23773377 0.23740572\n",
      " 0.23770626 0.23759404 0.23811863 0.23724569 0.2374108  0.23703409\n",
      " 0.23765799 0.23736123 0.23720845 0.23685619 0.23667993 0.23766076\n",
      " 0.23688297 0.23706978 0.23733212 0.23751658 0.23753764 0.23705132\n",
      " 0.2377435  0.23724563 0.23738777 0.23730497 0.23745511 0.23704649\n",
      " 0.23705313 0.23771488 0.23709049 0.23738878 0.23712555 0.23731057\n",
      " 0.23728861 0.23737902 0.2373668  0.2377106  0.23727408 0.23740352\n",
      " 0.23763204 0.23739078 0.23779704 0.23708378 0.23734518 0.23700543\n",
      " 0.23708776 0.23722029 0.23674419 0.23776772 0.23761866 0.2367815\n",
      " 0.23698601 0.23750733 0.23719467 0.23707633 0.23697661 0.23724956\n",
      " 0.23748354 0.23739593 0.23741327 0.23775745 0.23753475 0.23753879\n",
      " 0.23706855 0.23738355 0.23744735 0.23752841 0.23714578 0.23738989\n",
      " 0.23773641 0.23784833 0.23714338 0.237396   0.2375849  0.23765737\n",
      " 0.2371123  0.23765087 0.23734153 0.23760794 0.23711299 0.23649728\n",
      " 0.23749463 0.23709838 0.23721916 0.23744319 0.23729108 0.23696585\n",
      " 0.23758484 0.23781855 0.23741932 0.23718056]\n",
      "    # of sims: 1000\n",
      "    R11:             :  0.237658 +/-  0.004257\n",
      "    noise cancel m   :  6.305090 +/-  41.231120 [1e-3, 3-sigma]\n",
      "    noise cancel c   : -623.957533 +/-  4363.070097 [1e-5, 3-sigma]\n"
     ]
    },
    {
     "name": "stderr",
     "output_type": "stream",
     "text": [
      "100%|██████████| 4/4 [10:50<00:00, 162.60s/it]\n"
     ]
    }
   ],
   "source": [
    "nbins = 4\n",
    "R11_result = []\n",
    "for i in trange(nbins):\n",
    "    gal_list_path = \"../data/gal_list_{}.pkl\".format(i)\n",
    "    pdata, mdata, R11, R11sd, m, msd, c, csd = mmt.run_mdet_sims(halo_df,\n",
    "        sim_func=sim_func,\n",
    "        sim_kwargs={\n",
    "            \"noise\": 420\n",
    "        },\n",
    "        seed=123,\n",
    "        n_sims=100,\n",
    "        use_p=True,\n",
    "        use_m=True)\n",
    "    R11_result.append((R11,R11sd))"
   ]
  },
  {
   "cell_type": "code",
   "execution_count": null,
   "metadata": {},
   "outputs": [],
   "source": [
    "import pickle\n",
    "with open('../output/R11_result.pkl', 'wb') as f:\n",
    "    pickle.dump(R11_result, f)"
   ]
  }
 ],
 "metadata": {
  "kernelspec": {
   "display_name": "lsst_shear",
   "language": "python",
   "name": "python3"
  },
  "language_info": {
   "codemirror_mode": {
    "name": "ipython",
    "version": 3
   },
   "file_extension": ".py",
   "mimetype": "text/x-python",
   "name": "python",
   "nbconvert_exporter": "python",
   "pygments_lexer": "ipython3",
   "version": "3.10.8"
  },
  "orig_nbformat": 4,
  "vscode": {
   "interpreter": {
    "hash": "347135534997c4715e9a7e3f70339d68bec5d992a8b928e2e0ee2807831cb02e"
   }
  }
 },
 "nbformat": 4,
 "nbformat_minor": 2
}
