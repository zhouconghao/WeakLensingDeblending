{
 "cells": [
  {
   "cell_type": "code",
   "execution_count": 1,
   "metadata": {},
   "outputs": [],
   "source": [
    "from astropy.table import Table\n",
    "import numpy as np\n",
    "import matplotlib.pyplot as plt\n",
    "from astropy.io import fits\n",
    "import astropy\n",
    "from tqdm import tqdm"
   ]
  },
  {
   "cell_type": "code",
   "execution_count": 2,
   "metadata": {},
   "outputs": [
    {
     "name": "stdout",
     "output_type": "stream",
     "text": [
      "GCRCatalogs = 1.4.1 | GCR = 0.9.2\n"
     ]
    }
   ],
   "source": [
    "import GCRCatalogs\n",
    "print('GCRCatalogs =', GCRCatalogs.__version__, '|' ,'GCR =', GCRCatalogs.GCR.__version__)\n",
    "# print('\\n'.join(sorted(GCRCatalogs.get_available_catalogs())))"
   ]
  },
  {
   "cell_type": "code",
   "execution_count": 3,
   "metadata": {},
   "outputs": [],
   "source": [
    "gc = GCRCatalogs.load_catalog('cosmoDC2_v1.1.4_small')"
   ]
  },
  {
   "cell_type": "code",
   "execution_count": 4,
   "metadata": {},
   "outputs": [],
   "source": [
    "dc2_table = Table(gc.get_quantities(['halo_mass','galaxy_id']))"
   ]
  },
  {
   "cell_type": "code",
   "execution_count": 5,
   "metadata": {},
   "outputs": [],
   "source": [
    "result_table = Table(fits.open('./R11_result_table.fits')[1].data)"
   ]
  },
  {
   "cell_type": "code",
   "execution_count": 6,
   "metadata": {},
   "outputs": [
    {
     "data": {
      "text/html": [
       "<div><i>Table length=1007</i>\n",
       "<table id=\"table23456183440656\" class=\"table-striped table-bordered table-condensed\">\n",
       "<thead><tr><th>gal_id</th><th>R11</th></tr></thead>\n",
       "<thead><tr><th>int64</th><th>float64</th></tr></thead>\n",
       "<tr><td>10565583202</td><td>0.2981948912467086</td></tr>\n",
       "<tr><td>7938255098</td><td>0.3171492510460241</td></tr>\n",
       "<tr><td>8066552175</td><td>0.31900016586901786</td></tr>\n",
       "<tr><td>10568164066</td><td>0.29706920332304315</td></tr>\n",
       "<tr><td>8878755991</td><td>0.25644837491795974</td></tr>\n",
       "<tr><td>9688025776</td><td>0.28199588110785795</td></tr>\n",
       "<tr><td>8937644291</td><td>0.19999169300785724</td></tr>\n",
       "<tr><td>8940036839</td><td>0.41514662351638487</td></tr>\n",
       "<tr><td>7064701891</td><td>0.28188984719479193</td></tr>\n",
       "<tr><td>8939442558</td><td>0.3150472310512159</td></tr>\n",
       "<tr><td>...</td><td>...</td></tr>\n",
       "<tr><td>11251948684</td><td>0.32674722793274363</td></tr>\n",
       "<tr><td>7000152212</td><td>0.36909572923800665</td></tr>\n",
       "<tr><td>8939435253</td><td>0.293630595457243</td></tr>\n",
       "<tr><td>9750762495</td><td>0.24865482697505814</td></tr>\n",
       "<tr><td>9688660201</td><td>0.3229067262506664</td></tr>\n",
       "<tr><td>9688131806</td><td>0.3968720504239838</td></tr>\n",
       "<tr><td>11251700962</td><td>0.39601530292557113</td></tr>\n",
       "<tr><td>9687686976</td><td>0.3105438713918794</td></tr>\n",
       "<tr><td>7062810773</td><td>0.4114983774732755</td></tr>\n",
       "<tr><td>9815561562</td><td>0.27704763206704636</td></tr>\n",
       "</table></div>"
      ],
      "text/plain": [
       "<Table length=1007>\n",
       "   gal_id           R11        \n",
       "   int64          float64      \n",
       "----------- -------------------\n",
       "10565583202  0.2981948912467086\n",
       " 7938255098  0.3171492510460241\n",
       " 8066552175 0.31900016586901786\n",
       "10568164066 0.29706920332304315\n",
       " 8878755991 0.25644837491795974\n",
       " 9688025776 0.28199588110785795\n",
       " 8937644291 0.19999169300785724\n",
       " 8940036839 0.41514662351638487\n",
       " 7064701891 0.28188984719479193\n",
       " 8939442558  0.3150472310512159\n",
       "        ...                 ...\n",
       "11251948684 0.32674722793274363\n",
       " 7000152212 0.36909572923800665\n",
       " 8939435253   0.293630595457243\n",
       " 9750762495 0.24865482697505814\n",
       " 9688660201  0.3229067262506664\n",
       " 9688131806  0.3968720504239838\n",
       "11251700962 0.39601530292557113\n",
       " 9687686976  0.3105438713918794\n",
       " 7062810773  0.4114983774732755\n",
       " 9815561562 0.27704763206704636"
      ]
     },
     "execution_count": 6,
     "metadata": {},
     "output_type": "execute_result"
    }
   ],
   "source": [
    "result_table"
   ]
  },
  {
   "cell_type": "code",
   "execution_count": 7,
   "metadata": {},
   "outputs": [
    {
     "data": {
      "text/html": [
       "<div><i>Table length=292781506</i>\n",
       "<table id=\"table23456183442480\" class=\"table-striped table-bordered table-condensed\">\n",
       "<thead><tr><th>galaxy_id</th><th>halo_mass</th></tr></thead>\n",
       "<thead><tr><th>int64</th><th>float64</th></tr></thead>\n",
       "<tr><td>9687500000</td><td>247261051312.67606</td></tr>\n",
       "<tr><td>9687500001</td><td>54657675898.59155</td></tr>\n",
       "<tr><td>9687500002</td><td>119726379988.7324</td></tr>\n",
       "<tr><td>9687500003</td><td>70274166264.78874</td></tr>\n",
       "<tr><td>9687500004</td><td>12069313567729.578</td></tr>\n",
       "<tr><td>9687500005</td><td>12069313567729.578</td></tr>\n",
       "<tr><td>9687500006</td><td>12069313567729.578</td></tr>\n",
       "<tr><td>9687500007</td><td>111918134805.6338</td></tr>\n",
       "<tr><td>9687500008</td><td>72876914659.15494</td></tr>\n",
       "<tr><td>9687500009</td><td>348768238692.95776</td></tr>\n",
       "<tr><td>...</td><td>...</td></tr>\n",
       "<tr><td>8958315896</td><td>16592364381.88222</td></tr>\n",
       "<tr><td>8958315897</td><td>11061962647.108835</td></tr>\n",
       "<tr><td>8958315898</td><td>11019725307.807198</td></tr>\n",
       "<tr><td>8958315899</td><td>12438601106.376362</td></tr>\n",
       "<tr><td>8958315900</td><td>30108398801.923817</td></tr>\n",
       "<tr><td>8958315901</td><td>13038793152.855858</td></tr>\n",
       "<tr><td>8958315902</td><td>37318671806.77346</td></tr>\n",
       "<tr><td>8958315903</td><td>11950086367.391064</td></tr>\n",
       "<tr><td>8958315904</td><td>19558592447.650917</td></tr>\n",
       "<tr><td>8958315905</td><td>10682965761.942554</td></tr>\n",
       "</table></div>"
      ],
      "text/plain": [
       "<Table length=292781506>\n",
       "galaxy_id      halo_mass     \n",
       "  int64         float64      \n",
       "---------- ------------------\n",
       "9687500000 247261051312.67606\n",
       "9687500001  54657675898.59155\n",
       "9687500002  119726379988.7324\n",
       "9687500003  70274166264.78874\n",
       "9687500004 12069313567729.578\n",
       "9687500005 12069313567729.578\n",
       "9687500006 12069313567729.578\n",
       "9687500007  111918134805.6338\n",
       "9687500008  72876914659.15494\n",
       "9687500009 348768238692.95776\n",
       "       ...                ...\n",
       "8958315896  16592364381.88222\n",
       "8958315897 11061962647.108835\n",
       "8958315898 11019725307.807198\n",
       "8958315899 12438601106.376362\n",
       "8958315900 30108398801.923817\n",
       "8958315901 13038793152.855858\n",
       "8958315902  37318671806.77346\n",
       "8958315903 11950086367.391064\n",
       "8958315904 19558592447.650917\n",
       "8958315905 10682965761.942554"
      ]
     },
     "execution_count": 7,
     "metadata": {},
     "output_type": "execute_result"
    }
   ],
   "source": [
    "dc2_table"
   ]
  },
  {
   "cell_type": "code",
   "execution_count": 8,
   "metadata": {},
   "outputs": [
    {
     "name": "stderr",
     "output_type": "stream",
     "text": [
      "100%|██████████| 1007/1007 [09:54<00:00,  1.69it/s]\n"
     ]
    }
   ],
   "source": [
    "halo_mass_list = []\n",
    "for gal_id in tqdm(result_table['gal_id']):\n",
    "    halo_mass_list.append(dc2_table[dc2_table['galaxy_id'] == gal_id]['halo_mass'][0])\n",
    "    \n",
    "##TODO: search_sorted, "
   ]
  },
  {
   "cell_type": "code",
   "execution_count": null,
   "metadata": {},
   "outputs": [],
   "source": [
    "new_halo_mass_list = []\n"
   ]
  },
  {
   "cell_type": "code",
   "execution_count": 30,
   "metadata": {},
   "outputs": [],
   "source": [
    "result_table['halo_mass'] = np.array(halo_mass_list).flatten()"
   ]
  },
  {
   "cell_type": "code",
   "execution_count": 31,
   "metadata": {},
   "outputs": [],
   "source": [
    "first_quan = np.quantile(result_table['halo_mass'], 0.25)\n",
    "second_quan = np.quantile(result_table['halo_mass'], 0.5)\n",
    "third_quan = np.quantile(result_table['halo_mass'], 0.75)\n",
    "\n",
    "first_mask = result_table['halo_mass'] < first_quan\n",
    "second_mask = (result_table['halo_mass'] >= first_quan) & (result_table['halo_mass'] < second_quan)\n",
    "third_mask = (result_table['halo_mass'] >= second_quan) & (result_table['halo_mass'] < third_quan)\n",
    "forth_mask = result_table['halo_mass'] >= third_quan\n",
    "\n",
    "mask_list = [first_mask, second_mask, third_mask, forth_mask]"
   ]
  },
  {
   "cell_type": "code",
   "execution_count": 32,
   "metadata": {},
   "outputs": [
    {
     "data": {
      "text/plain": [
       "(1007,)"
      ]
     },
     "execution_count": 32,
     "metadata": {},
     "output_type": "execute_result"
    }
   ],
   "source": [
    "result_table['halo_mass'].shape"
   ]
  },
  {
   "cell_type": "code",
   "execution_count": 33,
   "metadata": {},
   "outputs": [
    {
     "data": {
      "text/plain": [
       "array([False, False, False, ..., False, False, False])"
      ]
     },
     "execution_count": 33,
     "metadata": {},
     "output_type": "execute_result"
    }
   ],
   "source": [
    "mask_list[0]"
   ]
  },
  {
   "cell_type": "code",
   "execution_count": 34,
   "metadata": {},
   "outputs": [
    {
     "name": "stdout",
     "output_type": "stream",
     "text": [
      "251\n",
      "252\n",
      "252\n",
      "252\n"
     ]
    }
   ],
   "source": [
    "halo_mass_vec = []\n",
    "R11_vec = []\n",
    "\n",
    "for mask in mask_list:\n",
    "    print(np.sum(mask))\n",
    "    halo_mass_vec.append(np.mean(result_table[mask]['halo_mass']))\n",
    "    R11_vec.append(np.mean(result_table[mask]['R11']))"
   ]
  },
  {
   "cell_type": "code",
   "execution_count": 36,
   "metadata": {},
   "outputs": [
    {
     "name": "stdout",
     "output_type": "stream",
     "text": [
      "[11.22717485 11.74679771 12.21011502 13.43522014]\n",
      "[0.37630965605945593, 0.3537507579434308, 0.3248789423848004, 0.3283552670489138]\n"
     ]
    }
   ],
   "source": [
    "print(np.log10(halo_mass_vec))\n",
    "print(R11_vec)\n",
    "\n",
    "# compute bulge fraction vs halo mass, and hlr vs halo mass\n",
    "# bootstrap or jackknife \n",
    "# jackknife randomly sort the array and jackknife the array \n",
    "# bootstrap randomly sample the array with replacement, it's slow, probably use jackknife\n",
    "# 15% change "
   ]
  },
  {
   "cell_type": "code",
   "execution_count": 37,
   "metadata": {},
   "outputs": [
    {
     "data": {
      "text/plain": [
       "0.13513513513513514"
      ]
     },
     "execution_count": 37,
     "metadata": {},
     "output_type": "execute_result"
    }
   ],
   "source": [
    "0.05 / 0.37"
   ]
  },
  {
   "cell_type": "code",
   "execution_count": 9,
   "metadata": {},
   "outputs": [
    {
     "data": {
      "text/plain": [
       "(array([  2.,   6., 375., 387., 234.,   2.,   0.,   0.,   0.,   1.]),\n",
       " array([0.10039317, 0.17338077, 0.24636837, 0.31935597, 0.39234357,\n",
       "        0.46533117, 0.53831877, 0.61130637, 0.68429397, 0.75728157,\n",
       "        0.83026917]),\n",
       " <BarContainer object of 10 artists>)"
      ]
     },
     "execution_count": 9,
     "metadata": {},
     "output_type": "execute_result"
    },
    {
     "data": {
      "image/png": "[encoded data removed]",
      "text/plain": [
       "<Figure size 640x480 with 1 Axes>"
      ]
     },
     "metadata": {},
     "output_type": "display_data"
    }
   ],
   "source": [
    "plt.hist(result_table['R11'])"
   ]
  },
  {
   "cell_type": "code",
   "execution_count": null,
   "metadata": {},
   "outputs": [],
   "source": [
    "import GCRCatalogs\n",
    "\n",
    "config_overwrite = dict(\n",
    "    catalog_root_dir='/path/to/your/directory',\n",
    "    check_file_list_complete=True,\n",
    "    check_size=True,\n",
    ")\n",
    "\n",
    "cat = GCRCatalogs.load_catalog('cosmoDC2_v1.1.4_image', config_overwrite)"
   ]
  }
 ],
 "metadata": {
  "kernelspec": {
   "display_name": "Python 3.10.6 ('lsst_shear')",
   "language": "python",
   "name": "python3"
  },
  "language_info": {
   "codemirror_mode": {
    "name": "ipython",
    "version": 3
   },
   "file_extension": ".py",
   "mimetype": "text/x-python",
   "name": "python",
   "nbconvert_exporter": "python",
   "pygments_lexer": "ipython3",
   "version": "3.10.6 | packaged by conda-forge | (main, Aug 22 2022, 20:35:26) [GCC 10.4.0]"
  },
  "orig_nbformat": 4,
  "vscode": {
   "interpreter": {
    "hash": "f5ae0e233e6828920522b71e90b2e7bb870e1722e4714eb72e24c9e4386a1d19"
   }
  }
 },
 "nbformat": 4,
 "nbformat_minor": 2
}
